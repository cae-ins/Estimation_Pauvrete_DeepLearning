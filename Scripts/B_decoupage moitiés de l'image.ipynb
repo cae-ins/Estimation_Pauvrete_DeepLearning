{
 "cells": [
  {
   "cell_type": "markdown",
   "id": "f3aa9a95",
   "metadata": {},
   "source": [
    "##### Soit une image carrée A\n",
    "##### L'image B est un carré centré à l'intérieur de A et de dimensions 1/2*A, (dim B=1/2*A)\n",
    "##### L'image B est un sous-ensemle de l'image A\n",
    "##### Je forme des découpages carrés aléatoires B' de dimensions B et qui ne sorte pas du carré A (dim B'=dim B)"
   ]
  },
  {
   "cell_type": "code",
   "execution_count": 1,
   "id": "a6bfb715",
   "metadata": {},
   "outputs": [],
   "source": [
    "import os\n",
    "from PIL import Image, ImageFile\n",
    "import random\n",
    "from tqdm import tqdm  # Importer tqdm\n",
    "\n",
    "# Configure PIL pour permettre le chargement d'images tronquées.\n",
    "# Cela est nécessaire pour éviter des erreurs lors du chargement de fichiers images incomplets.\n",
    "ImageFile.LOAD_TRUNCATED_IMAGES = True"
   ]
  },
  {
   "cell_type": "markdown",
   "id": "9aa5a038",
   "metadata": {},
   "source": [
    "##### Fonctions permettant de gérer le découpage, la nommenclature et la sauvegarde des images"
   ]
  },
  {
   "cell_type": "code",
   "execution_count": 2,
   "id": "24ea3528",
   "metadata": {},
   "outputs": [],
   "source": [
    "# Fonction pour générer les découpes d'une image\n",
    "def generer_decoupages(image_path, n):\n",
    "    # Extrayons le nom de base de l'image\n",
    "    base_name = os.path.splitext(os.path.basename(image_path))[0]\n",
    "\n",
    "    # Créons un Chemin du dossier de destination\n",
    "    destination_folder = f'D:/Poverty_Predict/Processed_Data/Image_decoupe_famille_moitie/Image_Nombre_{n}_images_code_5'\n",
    "    # Créons le dossier de destination s'il n'existe pas\n",
    "    if not os.path.exists(destination_folder):\n",
    "        os.makedirs(destination_folder)\n",
    "    \n",
    "    # Chargeons l'image\n",
    "    image = Image.open(image_path).convert('RGB')\n",
    "\n",
    "    # Vérifier que l'image est carrée\n",
    "    assert image.width == image.height, \"L'image doit être carrée.\"\n",
    "\n",
    "    # Obtenons les dimensions de l'image (carré A)\n",
    "    s_A = image.width  # ou image.height, parce qu'on sait que l'image est carrée\n",
    "\n",
    "    # Calculons la taille pour B' (qui est aussi 1/2 * A dans ce cas)\n",
    "    s_B_prime = s_A / 2\n",
    "\n",
    "    # Générons et sauvegardons n découpes aléatoires\n",
    "    for i in range(n):\n",
    "        # Générons des coordonnées aléatoires pour le coin supérieur gauche de B' à l'intérieur de A\n",
    "        # On s'assure que B' ne sorte pas de A\n",
    "        x = random.randint(0, s_A - s_B_prime)\n",
    "        y = random.randint(0, s_A - s_B_prime)\n",
    "\n",
    "        # Extrayons la région B'\n",
    "        region = image.crop((x, y, x + s_B_prime, y + s_B_prime))\n",
    "\n",
    "        # Construisons le nom de fichier pour chaque découpage\n",
    "        crop_path = os.path.join(destination_folder, f'{base_name}_{i+1}.png')\n",
    "\n",
    "        # Sauvegardons la région extraite\n",
    "        region.save(crop_path)\n",
    "\n",
    "        #print(f\"Le découpage {i+1} a été sauvegardé sous : {crop_path}\")\n",
    "\n"
   ]
  },
  {
   "cell_type": "markdown",
   "id": "0a853caf",
   "metadata": {},
   "source": [
    "#### 25 découpages carrés aléatoires\n"
   ]
  },
  {
   "cell_type": "code",
   "execution_count": 3,
   "id": "505f57d4",
   "metadata": {},
   "outputs": [
    {
     "name": "stderr",
     "output_type": "stream",
     "text": [
      "Traitement des images:  85%|███████████████████████████████████████████▏       | 10989/12977 [3:11:42<35:05,  1.06s/it]C:\\Users\\d\\anaconda3\\Lib\\site-packages\\PIL\\Image.py:970: UserWarning: Palette images with Transparency expressed in bytes should be converted to RGBA images\n",
      "  warnings.warn(\n",
      "Traitement des images: 100%|███████████████████████████████████████████████████| 12977/12977 [3:44:10<00:00,  1.04s/it]\n"
     ]
    }
   ],
   "source": [
    "# Dossier contenant les images à découper\n",
    "dossier_images = r'C:\\Users\\d\\Desktop\\Programme du projet sur CNN pauvreté2\\Data\\Image_menage'\n",
    "\n",
    "# Le Nombre de découpes souhaitées par image\n",
    "n = 25\n",
    "\n",
    "# Récupérons la liste des fichiers images\n",
    "fichiers_images = [f for f in os.listdir(dossier_images) if f.endswith(('.png', '.jpg', '.jpeg'))]\n",
    "\n",
    "# Utilisons tqdm pour la barre de progression\n",
    "for filename in tqdm(fichiers_images, desc=\"Traitement des images\"):\n",
    "    image_path = os.path.join(dossier_images, filename)\n",
    "    generer_decoupages(image_path, n)\n"
   ]
  },
  {
   "cell_type": "markdown",
   "id": "dc81673b",
   "metadata": {},
   "source": [
    "#### 50 découpages carrés aléatoires\n"
   ]
  },
  {
   "cell_type": "code",
   "execution_count": 3,
   "id": "55249bf0",
   "metadata": {},
   "outputs": [
    {
     "name": "stderr",
     "output_type": "stream",
     "text": [
      "Traitement des images:  85%|█████████████████████████████████████████▍       | 10989/12977 [7:48:20<1:02:33,  1.89s/it]C:\\Users\\d\\anaconda3\\Lib\\site-packages\\PIL\\Image.py:970: UserWarning: Palette images with Transparency expressed in bytes should be converted to RGBA images\n",
      "  warnings.warn(\n",
      "Traitement des images: 100%|███████████████████████████████████████████████████| 12977/12977 [8:52:18<00:00,  2.46s/it]\n"
     ]
    }
   ],
   "source": [
    "# Dossier contenant les images à découper\n",
    "dossier_images = r'C:\\Users\\d\\Desktop\\Programme du projet sur CNN pauvreté2\\Data\\Image_menage'\n",
    "\n",
    "# Le Nombre de découpes souhaitées par image\n",
    "n = 50\n",
    "\n",
    "# Récupérons la liste des fichiers images\n",
    "fichiers_images = [f for f in os.listdir(dossier_images) if f.endswith(('.png', '.jpg', '.jpeg'))]\n",
    "\n",
    "# Utilisons tqdm pour la barre de progression\n",
    "for filename in tqdm(fichiers_images, desc=\"Traitement des images\"):\n",
    "    image_path = os.path.join(dossier_images, filename)\n",
    "    generer_decoupages(image_path, n)\n"
   ]
  },
  {
   "cell_type": "markdown",
   "id": "3f8e111e",
   "metadata": {},
   "source": [
    "##### Ajustement du code pour une nouvelle distination des images sur un autre disque (vue que l'espace n'est pas suffisant)"
   ]
  },
  {
   "cell_type": "code",
   "execution_count": 2,
   "id": "f0dd63d5",
   "metadata": {},
   "outputs": [],
   "source": [
    "# Fonction pour générer les découpes d'une image\n",
    "def generer_decoupages(image_path, n):\n",
    "    # Extrayons le nom de base de l'image\n",
    "    base_name = os.path.splitext(os.path.basename(image_path))[0]\n",
    "\n",
    "    # Créons un Chemin du dossier de destination\n",
    "    destination_folder = f'E:/Poverty_Predict/Processed_Data/Image_decoupe_famille_moitie/Image_Nombre_{n}_images_code_5'\n",
    "    # Créons le dossier de destination s'il n'existe pas\n",
    "    if not os.path.exists(destination_folder):\n",
    "        os.makedirs(destination_folder)\n",
    "    \n",
    "    # Chargeons l'image\n",
    "    image = Image.open(image_path).convert('RGB')\n",
    "\n",
    "    # Vérifier que l'image est carrée\n",
    "    assert image.width == image.height, \"L'image doit être carrée.\"\n",
    "\n",
    "    # Obtenons les dimensions de l'image (carré A)\n",
    "    s_A = image.width  # ou image.height, parce qu'on sait que l'image est carrée\n",
    "\n",
    "    # Calculons la taille pour B' (qui est aussi 1/2 * A dans ce cas)\n",
    "    s_B_prime = s_A / 2\n",
    "\n",
    "    # Générons et sauvegardons n découpes aléatoires\n",
    "    for i in range(n):\n",
    "        # Générons des coordonnées aléatoires pour le coin supérieur gauche de B' à l'intérieur de A\n",
    "        # On s'assure que B' ne sorte pas de A\n",
    "        x = random.randint(0, s_A - s_B_prime)\n",
    "        y = random.randint(0, s_A - s_B_prime)\n",
    "\n",
    "        # Extrayons la région B'\n",
    "        region = image.crop((x, y, x + s_B_prime, y + s_B_prime))\n",
    "\n",
    "        # Construisons le nom de fichier pour chaque découpage\n",
    "        crop_path = os.path.join(destination_folder, f'{base_name}_{i+1}.png')\n",
    "\n",
    "        # Sauvegardons la région extraite\n",
    "        region.save(crop_path)\n",
    "\n",
    "        #print(f\"Le découpage {i+1} a été sauvegardé sous : {crop_path}\")\n",
    "\n"
   ]
  },
  {
   "cell_type": "markdown",
   "id": "8135bdd1",
   "metadata": {},
   "source": [
    "#### 75 découpages carrés aléatoires"
   ]
  },
  {
   "cell_type": "code",
   "execution_count": 3,
   "id": "2d8d7a61",
   "metadata": {},
   "outputs": [
    {
     "name": "stderr",
     "output_type": "stream",
     "text": [
      "Traitement des images:   7%|███▎                                              | 872/12977 [2:48:01<38:52:32, 11.56s/it]\n"
     ]
    },
    {
     "ename": "KeyboardInterrupt",
     "evalue": "",
     "output_type": "error",
     "traceback": [
      "\u001b[1;31m---------------------------------------------------------------------------\u001b[0m",
      "\u001b[1;31mKeyboardInterrupt\u001b[0m                         Traceback (most recent call last)",
      "Cell \u001b[1;32mIn[3], line 13\u001b[0m\n\u001b[0;32m     11\u001b[0m \u001b[38;5;28;01mfor\u001b[39;00m filename \u001b[38;5;129;01min\u001b[39;00m tqdm(fichiers_images, desc\u001b[38;5;241m=\u001b[39m\u001b[38;5;124m\"\u001b[39m\u001b[38;5;124mTraitement des images\u001b[39m\u001b[38;5;124m\"\u001b[39m):\n\u001b[0;32m     12\u001b[0m     image_path \u001b[38;5;241m=\u001b[39m os\u001b[38;5;241m.\u001b[39mpath\u001b[38;5;241m.\u001b[39mjoin(dossier_images, filename)\n\u001b[1;32m---> 13\u001b[0m     generer_decoupages(image_path, n)\n",
      "Cell \u001b[1;32mIn[2], line 38\u001b[0m, in \u001b[0;36mgenerer_decoupages\u001b[1;34m(image_path, n)\u001b[0m\n\u001b[0;32m     35\u001b[0m crop_path \u001b[38;5;241m=\u001b[39m os\u001b[38;5;241m.\u001b[39mpath\u001b[38;5;241m.\u001b[39mjoin(destination_folder, \u001b[38;5;124mf\u001b[39m\u001b[38;5;124m'\u001b[39m\u001b[38;5;132;01m{\u001b[39;00mbase_name\u001b[38;5;132;01m}\u001b[39;00m\u001b[38;5;124m_\u001b[39m\u001b[38;5;132;01m{\u001b[39;00mi\u001b[38;5;241m+\u001b[39m\u001b[38;5;241m1\u001b[39m\u001b[38;5;132;01m}\u001b[39;00m\u001b[38;5;124m.png\u001b[39m\u001b[38;5;124m'\u001b[39m)\n\u001b[0;32m     37\u001b[0m \u001b[38;5;66;03m# Sauvegardons la région extraite\u001b[39;00m\n\u001b[1;32m---> 38\u001b[0m region\u001b[38;5;241m.\u001b[39msave(crop_path)\n",
      "File \u001b[1;32m~\\anaconda3\\Lib\\site-packages\\PIL\\Image.py:2405\u001b[0m, in \u001b[0;36mImage.save\u001b[1;34m(self, fp, format, **params)\u001b[0m\n\u001b[0;32m   2403\u001b[0m \u001b[38;5;28;01mif\u001b[39;00m open_fp:\n\u001b[0;32m   2404\u001b[0m     created \u001b[38;5;241m=\u001b[39m \u001b[38;5;129;01mnot\u001b[39;00m os\u001b[38;5;241m.\u001b[39mpath\u001b[38;5;241m.\u001b[39mexists(filename)\n\u001b[1;32m-> 2405\u001b[0m     \u001b[38;5;28;01mif\u001b[39;00m params\u001b[38;5;241m.\u001b[39mget(\u001b[38;5;124m\"\u001b[39m\u001b[38;5;124mappend\u001b[39m\u001b[38;5;124m\"\u001b[39m, \u001b[38;5;28;01mFalse\u001b[39;00m):\n\u001b[0;32m   2406\u001b[0m         \u001b[38;5;66;03m# Open also for reading (\"+\"), because TIFF save_all\u001b[39;00m\n\u001b[0;32m   2407\u001b[0m         \u001b[38;5;66;03m# writer needs to go back and edit the written data.\u001b[39;00m\n\u001b[0;32m   2408\u001b[0m         fp \u001b[38;5;241m=\u001b[39m builtins\u001b[38;5;241m.\u001b[39mopen(filename, \u001b[38;5;124m\"\u001b[39m\u001b[38;5;124mr+b\u001b[39m\u001b[38;5;124m\"\u001b[39m)\n\u001b[0;32m   2409\u001b[0m     \u001b[38;5;28;01melse\u001b[39;00m:\n",
      "\u001b[1;31mKeyboardInterrupt\u001b[0m: "
     ]
    }
   ],
   "source": [
    "# Dossier contenant les images à découper\n",
    "dossier_images = r'C:\\Users\\d\\Desktop\\Programme du projet sur CNN pauvreté2\\Data\\Image_menage'\n",
    "\n",
    "# Le Nombre de découpes souhaitées par image\n",
    "n = 75\n",
    "\n",
    "# Récupérons la liste des fichiers images\n",
    "fichiers_images = [f for f in os.listdir(dossier_images) if f.endswith(('.png', '.jpg', '.jpeg'))]\n",
    "\n",
    "# Utilisons tqdm pour la barre de progression\n",
    "for filename in tqdm(fichiers_images, desc=\"Traitement des images\"):\n",
    "    image_path = os.path.join(dossier_images, filename)\n",
    "    generer_decoupages(image_path, n)\n"
   ]
  },
  {
   "cell_type": "markdown",
   "id": "fcdb5705",
   "metadata": {},
   "source": [
    "#### 100 découpages carrés aléatoires"
   ]
  },
  {
   "cell_type": "code",
   "execution_count": null,
   "id": "1b1bad96",
   "metadata": {},
   "outputs": [],
   "source": [
    "# Dossier contenant les images à découper\n",
    "dossier_images = r'C:\\Users\\d\\Desktop\\Programme du projet sur CNN pauvreté2\\Data\\Image_menage'\n",
    "\n",
    "# Le Nombre de découpes souhaitées par image\n",
    "n = 100\n",
    "\n",
    "# Récupérons la liste des fichiers images\n",
    "fichiers_images = [f for f in os.listdir(dossier_images) if f.endswith(('.png', '.jpg', '.jpeg'))]\n",
    "\n",
    "# Utilisons tqdm pour la barre de progression\n",
    "for filename in tqdm(fichiers_images, desc=\"Traitement des images\"):\n",
    "    image_path = os.path.join(dossier_images, filename)\n",
    "    generer_decoupages(image_path, n)\n"
   ]
  }
 ],
 "metadata": {
  "kernelspec": {
   "display_name": "Python 3 (ipykernel)",
   "language": "python",
   "name": "python3"
  },
  "language_info": {
   "codemirror_mode": {
    "name": "ipython",
    "version": 3
   },
   "file_extension": ".py",
   "mimetype": "text/x-python",
   "name": "python",
   "nbconvert_exporter": "python",
   "pygments_lexer": "ipython3",
   "version": "3.11.5"
  }
 },
 "nbformat": 4,
 "nbformat_minor": 5
}
