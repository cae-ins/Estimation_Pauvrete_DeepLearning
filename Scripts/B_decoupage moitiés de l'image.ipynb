{
 "cells": [
  {
   "cell_type": "markdown",
   "id": "f3aa9a95",
   "metadata": {},
   "source": [
    "##### Soit une image carrée A\n",
    "##### L'image B est un carré centré à l'intérieur de A et de dimensions 1/2*A, (dim B=1/2*A)\n",
    "##### L'image B est un sous-ensemle de l'image A\n",
    "##### Je forme des découpages carrés aléatoires B' de dimensions B et qui ne sorte pas du carré A (dim B'=dim B)"
   ]
  },
  {
   "cell_type": "code",
   "execution_count": 1,
   "id": "a6bfb715",
   "metadata": {},
   "outputs": [],
   "source": [
    "import os\n",
    "from PIL import Image, ImageFile\n",
    "import random\n",
    "from tqdm import tqdm  # Importer tqdm\n",
    "\n",
    "# Configure PIL pour permettre le chargement d'images tronquées.\n",
    "# Cela est nécessaire pour éviter des erreurs lors du chargement de fichiers images incomplets.\n",
    "ImageFile.LOAD_TRUNCATED_IMAGES = True"
   ]
  },
  {
   "cell_type": "markdown",
   "id": "9aa5a038",
   "metadata": {},
   "source": [
    "##### Fonctions permettant de gérer le découpage, la nommenclature et la sauvegarde des images"
   ]
  },
  {
   "cell_type": "code",
   "execution_count": 2,
   "id": "24ea3528",
   "metadata": {},
   "outputs": [],
   "source": [
    "# Fonction pour générer les découpes d'une image\n",
    "def generer_decoupages(image_path, n):\n",
    "    # Extrayons le nom de base de l'image\n",
    "    base_name = os.path.splitext(os.path.basename(image_path))[0]\n",
    "\n",
    "    # Créons un Chemin du dossier de destination\n",
    "    destination_folder = f'D:/Poverty_Predict/Processed_Data/Image_decoupe_famille_moitie/Image_Nombre_{n}_images_code_5'\n",
    "    # Créons le dossier de destination s'il n'existe pas\n",
    "    if not os.path.exists(destination_folder):\n",
    "        os.makedirs(destination_folder)\n",
    "    \n",
    "    # Chargeons l'image\n",
    "    image = Image.open(image_path).convert('RGB')\n",
    "\n",
    "    # Vérifier que l'image est carrée\n",
    "    assert image.width == image.height, \"L'image doit être carrée.\"\n",
    "\n",
    "    # Obtenons les dimensions de l'image (carré A)\n",
    "    s_A = image.width  # ou image.height, parce qu'on sait que l'image est carrée\n",
    "\n",
    "    # Calculons la taille pour B' (qui est aussi 1/2 * A dans ce cas)\n",
    "    s_B_prime = s_A / 2\n",
    "\n",
    "    # Générons et sauvegardons n découpes aléatoires\n",
    "    for i in range(n):\n",
    "        # Générons des coordonnées aléatoires pour le coin supérieur gauche de B' à l'intérieur de A\n",
    "        # On s'assure que B' ne sorte pas de A\n",
    "        x = random.randint(0, s_A - s_B_prime)\n",
    "        y = random.randint(0, s_A - s_B_prime)\n",
    "\n",
    "        # Extrayons la région B'\n",
    "        region = image.crop((x, y, x + s_B_prime, y + s_B_prime))\n",
    "\n",
    "        # Construisons le nom de fichier pour chaque découpage\n",
    "        crop_path = os.path.join(destination_folder, f'{base_name}_{i+1}.png')\n",
    "\n",
    "        # Sauvegardons la région extraite\n",
    "        region.save(crop_path)\n",
    "\n",
    "        #print(f\"Le découpage {i+1} a été sauvegardé sous : {crop_path}\")\n",
    "\n"
   ]
  },
  {
   "cell_type": "markdown",
   "id": "0a853caf",
   "metadata": {},
   "source": [
    "#### 25 découpages carrés aléatoires\n"
   ]
  },
  {
   "cell_type": "code",
   "execution_count": 3,
   "id": "505f57d4",
   "metadata": {},
   "outputs": [
    {
     "name": "stderr",
     "output_type": "stream",
     "text": [
      "Traitement des images:  85%|███████████████████████████████████████████▏       | 10989/12977 [3:11:42<35:05,  1.06s/it]C:\\Users\\d\\anaconda3\\Lib\\site-packages\\PIL\\Image.py:970: UserWarning: Palette images with Transparency expressed in bytes should be converted to RGBA images\n",
      "  warnings.warn(\n",
      "Traitement des images: 100%|███████████████████████████████████████████████████| 12977/12977 [3:44:10<00:00,  1.04s/it]\n"
     ]
    }
   ],
   "source": [
    "# Dossier contenant les images à découper\n",
    "dossier_images = r'C:\\Users\\d\\Desktop\\Programme du projet sur CNN pauvreté2\\Data\\Image_menage'\n",
    "\n",
    "# Le Nombre de découpes souhaitées par image\n",
    "n = 25\n",
    "\n",
    "# Récupérons la liste des fichiers images\n",
    "fichiers_images = [f for f in os.listdir(dossier_images) if f.endswith(('.png', '.jpg', '.jpeg'))]\n",
    "\n",
    "# Utilisons tqdm pour la barre de progression\n",
    "for filename in tqdm(fichiers_images, desc=\"Traitement des images\"):\n",
    "    image_path = os.path.join(dossier_images, filename)\n",
    "    generer_decoupages(image_path, n)\n"
   ]
  },
  {
   "cell_type": "markdown",
   "id": "dc81673b",
   "metadata": {},
   "source": [
    "#### 50 découpages carrés aléatoires\n"
   ]
  },
  {
   "cell_type": "code",
   "execution_count": 3,
   "id": "55249bf0",
   "metadata": {},
   "outputs": [
    {
     "name": "stderr",
     "output_type": "stream",
     "text": [
      "Traitement des images:  85%|█████████████████████████████████████████▍       | 10989/12977 [7:48:20<1:02:33,  1.89s/it]C:\\Users\\d\\anaconda3\\Lib\\site-packages\\PIL\\Image.py:970: UserWarning: Palette images with Transparency expressed in bytes should be converted to RGBA images\n",
      "  warnings.warn(\n",
      "Traitement des images: 100%|███████████████████████████████████████████████████| 12977/12977 [8:52:18<00:00,  2.46s/it]\n"
     ]
    }
   ],
   "source": [
    "# Dossier contenant les images à découper\n",
    "dossier_images = r'C:\\Users\\d\\Desktop\\Programme du projet sur CNN pauvreté2\\Data\\Image_menage'\n",
    "\n",
    "# Le Nombre de découpes souhaitées par image\n",
    "n = 50\n",
    "\n",
    "# Récupérons la liste des fichiers images\n",
    "fichiers_images = [f for f in os.listdir(dossier_images) if f.endswith(('.png', '.jpg', '.jpeg'))]\n",
    "\n",
    "# Utilisons tqdm pour la barre de progression\n",
    "for filename in tqdm(fichiers_images, desc=\"Traitement des images\"):\n",
    "    image_path = os.path.join(dossier_images, filename)\n",
    "    generer_decoupages(image_path, n)\n"
   ]
  },
  {
   "cell_type": "markdown",
   "id": "3f8e111e",
   "metadata": {},
   "source": [
    "##### Ajustement du code pour une nouvelle distination des images sur un autre disque (vue que l'espace n'est pas suffisant)"
   ]
  },
  {
   "cell_type": "code",
   "execution_count": 2,
   "id": "f0dd63d5",
   "metadata": {},
   "outputs": [],
   "source": [
    "\n",
    "# Fonction pour générer les découpes d'une image\n",
    "def generer_decoupages(image_path, n):\n",
    "    # Extrayons le nom de base de l'image\n",
    "    base_name = os.path.splitext(os.path.basename(image_path))[0]\n",
    "\n",
    "    # Créons un Chemin du dossier de destination\n",
    "    destination_folder = f'D:/Poverty_Predict2/Processed_Data/Image_decoupe_famille_moitie/Image_Nombre_{n}_images_code_5'\n",
    "    # Créons le dossier de destination s'il n'existe pas\n",
    "    if not os.path.exists(destination_folder):\n",
    "        os.makedirs(destination_folder)\n",
    "    \n",
    "    # Chargeons l'image\n",
    "    image = Image.open(image_path).convert('RGB')\n",
    "\n",
    "    # Vérifier que l'image est carrée\n",
    "    assert image.width == image.height, \"L'image doit être carrée.\"\n",
    "\n",
    "    # Obtenons les dimensions de l'image (carré A)\n",
    "    s_A = image.width  # ou image.height, parce qu'on sait que l'image est carrée\n",
    "\n",
    "    # Calculons la taille pour B' (qui est aussi 1/2 * A dans ce cas)\n",
    "    s_B_prime = s_A / 2\n",
    "\n",
    "    # Générons et sauvegardons n découpes aléatoires\n",
    "    for i in range(n):\n",
    "        # Générons des coordonnées aléatoires pour le coin supérieur gauche de B' à l'intérieur de A\n",
    "        # On s'assure que B' ne sorte pas de A\n",
    "        x = random.randint(0, s_A - s_B_prime)\n",
    "        y = random.randint(0, s_A - s_B_prime)\n",
    "\n",
    "        # Extrayons la région B'\n",
    "        region = image.crop((x, y, x + s_B_prime, y + s_B_prime))\n",
    "\n",
    "        # Construisons le nom de fichier pour chaque découpage\n",
    "        crop_path = os.path.join(destination_folder, f'{base_name}_{i+1}.png')\n",
    "\n",
    "        # Sauvegardons la région extraite\n",
    "        region.save(crop_path)\n",
    "\n",
    "        #print(f\"Le découpage {i+1} a été sauvegardé sous : {crop_path}\")\n",
    "\n"
   ]
  },
  {
   "cell_type": "markdown",
   "id": "8135bdd1",
   "metadata": {},
   "source": [
    "#### 75 découpages carrés aléatoires"
   ]
  },
  {
   "cell_type": "code",
   "execution_count": 3,
   "id": "2d8d7a61",
   "metadata": {},
   "outputs": [
    {
     "name": "stderr",
     "output_type": "stream",
     "text": [
      "Traitement des images:  85%|████████████████████████████████████████▋       | 10989/12977 [12:24:48<1:39:25,  3.00s/it]C:\\Users\\d\\anaconda3\\Lib\\site-packages\\PIL\\Image.py:970: UserWarning: Palette images with Transparency expressed in bytes should be converted to RGBA images\n",
      "  warnings.warn(\n",
      "Traitement des images: 100%|██████████████████████████████████████████████████| 12977/12977 [14:15:39<00:00,  3.96s/it]\n"
     ]
    }
   ],
   "source": [
    "# Dossier contenant les images à découper\n",
    "dossier_images = r'C:\\Users\\d\\Desktop\\Programme du projet sur CNN pauvreté2\\Data\\Image_menage'\n",
    "\n",
    "# Le Nombre de découpes souhaitées par image\n",
    "n = 75\n",
    "\n",
    "# Récupérons la liste des fichiers images\n",
    "fichiers_images = [f for f in os.listdir(dossier_images) if f.endswith(('.png', '.jpg', '.jpeg'))]\n",
    "\n",
    "# Utilisons tqdm pour la barre de progression\n",
    "for filename in tqdm(fichiers_images, desc=\"Traitement des images\"):\n",
    "    image_path = os.path.join(dossier_images, filename)\n",
    "    generer_decoupages(image_path, n)\n"
   ]
  },
  {
   "cell_type": "markdown",
   "id": "fcdb5705",
   "metadata": {},
   "source": [
    "#### 100 découpages carrés aléatoires"
   ]
  },
  {
   "cell_type": "code",
   "execution_count": null,
   "id": "1b1bad96",
   "metadata": {},
   "outputs": [
    {
     "name": "stderr",
     "output_type": "stream",
     "text": [
      "Traitement des images:  10%|█████                                            | 1325/12977 [2:14:13<22:40:40,  7.01s/it]"
     ]
    }
   ],
   "source": [
    "# Dossier contenant les images à découper\n",
    "dossier_images = r'C:\\Users\\d\\Desktop\\Programme du projet sur CNN pauvreté2\\Data\\Image_menage'\n",
    "\n",
    "# Le Nombre de découpes souhaitées par image\n",
    "n = 100\n",
    "\n",
    "# Récupérons la liste des fichiers images\n",
    "fichiers_images = [f for f in os.listdir(dossier_images) if f.endswith(('.png', '.jpg', '.jpeg'))]\n",
    "\n",
    "# Utilisons tqdm pour la barre de progression\n",
    "for filename in tqdm(fichiers_images, desc=\"Traitement des images\"):\n",
    "    image_path = os.path.join(dossier_images, filename)\n",
    "    generer_decoupages(image_path, n)\n"
   ]
  },
  {
   "cell_type": "code",
   "execution_count": null,
   "id": "80bda5c1",
   "metadata": {},
   "outputs": [],
   "source": []
  }
 ],
 "metadata": {
  "kernelspec": {
   "display_name": "Python 3 (ipykernel)",
   "language": "python",
   "name": "python3"
  },
  "language_info": {
   "codemirror_mode": {
    "name": "ipython",
    "version": 3
   },
   "file_extension": ".py",
   "mimetype": "text/x-python",
   "name": "python",
   "nbconvert_exporter": "python",
   "pygments_lexer": "ipython3",
   "version": "3.11.5"
  }
 },
 "nbformat": 4,
 "nbformat_minor": 5
}
