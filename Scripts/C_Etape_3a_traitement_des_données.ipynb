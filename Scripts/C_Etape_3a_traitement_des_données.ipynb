{
 "cells": [
  {
   "cell_type": "markdown",
   "metadata": {},
   "source": [
    "##### C_Etape_3:\n",
    "##### Pre-processing des données\n",
    "      - Objectif final: Evaluer le taux de pauvreté en zone urbaine et ensuite en zone rurale\n",
    "      - Dans ce script on fait un traitement de notre base de donnée\n",
    "      - On scinde notre base de donnée en zone urbaine et en zone rurale et on sauvegarde"
   ]
  },
  {
   "cell_type": "code",
   "execution_count": 9,
   "metadata": {},
   "outputs": [],
   "source": [
    "import numpy as np\n",
    "import pandas as pd"
   ]
  },
  {
   "cell_type": "code",
   "execution_count": 10,
   "metadata": {},
   "outputs": [],
   "source": [
    "#lecture de notre base de donnée et sauvegarde dans la variable original_data\n",
    "original_data=pd.read_csv(r'D:\\Poverty_Predict\\DataCIV2.csv')"
   ]
  },
  {
   "cell_type": "code",
   "execution_count": 11,
   "metadata": {},
   "outputs": [
    {
     "data": {
      "text/plain": [
       "Index(['country', 'year', 'hhid', 'grappe', 'menage', 'vague', 'zae', 'region',\n",
       "       'milieu', 'milieu2', 'hhweight', 'hhsize', 'eqadu1', 'eqadu2',\n",
       "       'hgender', 'hage', 'hmstat', 'hreligion', 'hnation', 'hethnie',\n",
       "       'halfab', 'heduc', 'hdiploma', 'hhandig', 'hactiv7j', 'hactiv12m',\n",
       "       'hbranch', 'hsectins', 'hcsp', 'dali', 'dnal', 'dtot', 'dtet', 'pcexp',\n",
       "       'zref', 'def_spa', 'def_temp', 'decile', 'quintile', 'interview__key',\n",
       "       'interview__id', 'GPS__Latitude', 'GPS__Longitude', 'GPS__Accuracy',\n",
       "       'GPS__Altitude', 'GPS__Timestamp', 'nom_prenom_cm',\n",
       "       'localisation_menage', 'nightlights_100m', 'nightlights_0m',\n",
       "       'nightlights_50m', 'nightlights_20m', 'nightlights_25m',\n",
       "       'nightlights_30m', 'nightlights_150m', 'nightlights_1000m',\n",
       "       'nightlights_5000m'],\n",
       "      dtype='object')"
      ]
     },
     "execution_count": 11,
     "metadata": {},
     "output_type": "execute_result"
    }
   ],
   "source": [
    "#Observations des colonnes original_data\n",
    "original_data.columns"
   ]
  },
  {
   "cell_type": "code",
   "execution_count": 12,
   "metadata": {},
   "outputs": [
    {
     "data": {
      "text/plain": [
       "array(['Urbain', 'Rural'], dtype=object)"
      ]
     },
     "execution_count": 12,
     "metadata": {},
     "output_type": "execute_result"
    }
   ],
   "source": [
    "original_data['milieu'].unique()"
   ]
  },
  {
   "cell_type": "code",
   "execution_count": 13,
   "metadata": {},
   "outputs": [
    {
     "name": "stdout",
     "output_type": "stream",
     "text": [
      "[\"AUTONOME D'ABIDJAN\" 'HAUT-SASSANDRA' 'PORO' 'GBEKE' 'INDENIE-DJUABLIN'\n",
      " 'TONKPI' 'YAMOUSSOUKRO' 'GONTOUGO' 'SAN-PEDRO' 'KABADOUGOU' \"N'ZI\"\n",
      " 'MARAHOUE' 'SUD-COMOE' 'WORODOUGOU' 'LÔH-DJIBOUA' 'AGNEBY-TIASSA' 'GÔH'\n",
      " 'CAVALLY' 'BAFING' 'BAGOUE' 'BELIER' 'BERE' 'BOUNKANI' 'FOLON' 'GBÔKLE'\n",
      " 'GRANDS-PONTS' 'GUEMON' 'HAMBOL' 'IFFOU' 'LA ME' 'NAWA' 'TCHOLOGO'\n",
      " 'MORONOU']\n"
     ]
    }
   ],
   "source": [
    "print(original_data['region'].unique())"
   ]
  },
  {
   "cell_type": "code",
   "execution_count": 14,
   "metadata": {},
   "outputs": [
    {
     "data": {
      "text/plain": [
       "33"
      ]
     },
     "execution_count": 14,
     "metadata": {},
     "output_type": "execute_result"
    }
   ],
   "source": [
    "original_data['region'].nunique()"
   ]
  },
  {
   "cell_type": "code",
   "execution_count": 15,
   "metadata": {},
   "outputs": [
    {
     "name": "stdout",
     "output_type": "stream",
     "text": [
      "Liste des régions dans notre base originale est la suivante :[\"AUTONOME D'ABIDJAN\" 'HAUT-SASSANDRA' 'PORO' 'GBEKE' 'INDENIE-DJUABLIN'\n",
      " 'TONKPI' 'YAMOUSSOUKRO' 'GONTOUGO' 'SAN-PEDRO' 'KABADOUGOU' \"N'ZI\"\n",
      " 'MARAHOUE' 'SUD-COMOE' 'WORODOUGOU' 'LÔH-DJIBOUA' 'AGNEBY-TIASSA' 'GÔH'\n",
      " 'CAVALLY' 'BAFING' 'BAGOUE' 'BELIER' 'BERE' 'BOUNKANI' 'FOLON' 'GBÔKLE'\n",
      " 'GRANDS-PONTS' 'GUEMON' 'HAMBOL' 'IFFOU' 'LA ME' 'NAWA' 'TCHOLOGO'\n",
      " 'MORONOU']\n",
      "\n",
      "Nombre total de régions dans notre base originale est de : 33\n"
     ]
    }
   ],
   "source": [
    "print(f\"Liste des régions dans notre base originale est la suivante :{original_data['region'].unique()}\")\n",
    "print(f\"\\nNombre total de régions dans notre base originale est de : {original_data['region'].nunique()}\")\n",
    "\n"
   ]
  },
  {
   "cell_type": "code",
   "execution_count": 16,
   "metadata": {},
   "outputs": [],
   "source": [
    "# Scinder les données en fonction de la colonne 'milieu'\n",
    "urbain_data = original_data[original_data['milieu'] == 'Urbain']\n",
    "rural_data = original_data[original_data['milieu'] == 'Rural']\n",
    "\n",
    "# Sauvegarde des deux bases de données dans des fichiers CSV séparés\n",
    "urbain_data.to_csv(r'D:\\Poverty_Predict_Par_Milieu\\urbain_data.csv', index=False)\n",
    "rural_data.to_csv(r'D:\\Poverty_Predict_Par_Milieu\\rural_data.csv', index=False)"
   ]
  },
  {
   "cell_type": "code",
   "execution_count": 17,
   "metadata": {},
   "outputs": [
    {
     "name": "stdout",
     "output_type": "stream",
     "text": [
      "Données Urbaines:\n",
      "  country  year   hhid  grappe  menage  vague      zae              region  \\\n",
      "0     CIV  2018  101.0       1       1      1  ABIDJAN  AUTONOME D'ABIDJAN   \n",
      "1     CIV  2018  102.0       1       2      1  ABIDJAN  AUTONOME D'ABIDJAN   \n",
      "2     CIV  2018  103.0       1       3      1  ABIDJAN  AUTONOME D'ABIDJAN   \n",
      "3     CIV  2018  104.0       1       4      1  ABIDJAN  AUTONOME D'ABIDJAN   \n",
      "4     CIV  2018  105.0       1       5      1  ABIDJAN  AUTONOME D'ABIDJAN   \n",
      "\n",
      "   milieu         milieu2  ...  localisation_menage  nightlights_100m  \\\n",
      "0  Urbain  Abidjan urbain  ...                  NaN         31.460636   \n",
      "1  Urbain  Abidjan urbain  ...                  NaN         31.460636   \n",
      "2  Urbain  Abidjan urbain  ...                  NaN         31.460636   \n",
      "3  Urbain  Abidjan urbain  ...                  NaN         31.460636   \n",
      "4  Urbain  Abidjan urbain  ...                  NaN         33.824036   \n",
      "\n",
      "   nightlights_0m  nightlights_50m nightlights_20m  nightlights_25m  \\\n",
      "0       31.460636        31.460636       31.460636        31.460636   \n",
      "1       31.460636        31.460636       31.460636        31.460636   \n",
      "2       31.460636        31.460636       31.460636        31.460636   \n",
      "3       31.460636        31.460636       31.460636        31.460636   \n",
      "4       31.460636        31.460636       31.460636        31.460636   \n",
      "\n",
      "  nightlights_30m nightlights_150m nightlights_1000m nightlights_5000m  \n",
      "0       31.460636        31.460636         30.890643         25.466850  \n",
      "1       31.460636        31.460636         30.890643         25.466850  \n",
      "2       31.460636        33.824036         30.890643         25.466850  \n",
      "3       31.460636        31.460636         30.890643         25.466850  \n",
      "4       31.460636        33.824036         32.799752         26.109101  \n",
      "\n",
      "[5 rows x 57 columns]\n"
     ]
    }
   ],
   "source": [
    "# Afficher les premières lignes des données urbaines\n",
    "print(\"Données Urbaines:\")\n",
    "print(urbain_data.head())\n",
    "\n",
    "\n"
   ]
  },
  {
   "cell_type": "code",
   "execution_count": 18,
   "metadata": {},
   "outputs": [
    {
     "name": "stdout",
     "output_type": "stream",
     "text": [
      "Données Rurales:\n",
      "    country  year    hhid  grappe  menage  vague      zae              region  \\\n",
      "958     CIV  2018  8101.0      81       1      1  SUD-EST  AUTONOME D'ABIDJAN   \n",
      "959     CIV  2018  8103.0      81       3      1  SUD-EST  AUTONOME D'ABIDJAN   \n",
      "960     CIV  2018  8104.0      81       4      1  SUD-EST  AUTONOME D'ABIDJAN   \n",
      "961     CIV  2018  8105.0      81       5      1  SUD-EST  AUTONOME D'ABIDJAN   \n",
      "962     CIV  2018  8106.0      81       6      1  SUD-EST  AUTONOME D'ABIDJAN   \n",
      "\n",
      "    milieu milieu2  ...  localisation_menage  nightlights_100m  \\\n",
      "958  Rural   Rural  ...                  NaN          7.117401   \n",
      "959  Rural   Rural  ...                  NaN         10.430248   \n",
      "960  Rural   Rural  ...                  NaN         10.430248   \n",
      "961  Rural   Rural  ...                  NaN         10.430248   \n",
      "962  Rural   Rural  ...                  NaN         10.430248   \n",
      "\n",
      "     nightlights_0m  nightlights_50m nightlights_20m  nightlights_25m  \\\n",
      "958        7.117401         7.117401        7.117401         7.117401   \n",
      "959        7.117401        10.430248        7.117401         7.117401   \n",
      "960       13.743094        13.743094       13.743094        13.743094   \n",
      "961       13.743094        13.743094       13.743094        13.743094   \n",
      "962       13.743094        13.743094       13.743094        13.743094   \n",
      "\n",
      "    nightlights_30m nightlights_150m nightlights_1000m nightlights_5000m  \n",
      "958        7.117401         7.117401          6.054019          1.987207  \n",
      "959       10.430248        10.430248          6.950598          1.987207  \n",
      "960       13.743094        10.430248          6.950598          1.987207  \n",
      "961       13.743094        10.430248          8.473836          1.987207  \n",
      "962       13.743094        10.430248          8.473836          2.118229  \n",
      "\n",
      "[5 rows x 57 columns]\n"
     ]
    }
   ],
   "source": [
    "# Afficher les premières lignes des données rurales\n",
    "print(\"Données Rurales:\")\n",
    "print(rural_data.head())"
   ]
  },
  {
   "cell_type": "code",
   "execution_count": 19,
   "metadata": {},
   "outputs": [
    {
     "name": "stdout",
     "output_type": "stream",
     "text": [
      "Nombre d'observations dans urbain_data : 5268\n",
      "Nombre d'observations dans rural_data : 7712\n"
     ]
    }
   ],
   "source": [
    "# Nombre d'observations dans urbain_data\n",
    "nombre_urbain = len(urbain_data)\n",
    "print(f\"Nombre d'observations dans urbain_data : {nombre_urbain}\")\n",
    "\n",
    "# Nombre d'observations dans rural_data\n",
    "nombre_rural = len(rural_data)\n",
    "print(f\"Nombre d'observations dans rural_data : {nombre_rural}\")\n"
   ]
  },
  {
   "cell_type": "code",
   "execution_count": 20,
   "metadata": {},
   "outputs": [
    {
     "name": "stdout",
     "output_type": "stream",
     "text": [
      "Nombre de grappes uniques (ZD) dans urbain_data : 440\n",
      "Nombre de grappes uniques (ZD) dans rural_data : 644\n"
     ]
    }
   ],
   "source": [
    "# Nombre de grappes uniques dans urbain_data\n",
    "grappes_uniques_urbain = urbain_data['grappe'].nunique()\n",
    "print(f\"Nombre de grappes uniques (ZD) dans urbain_data : {grappes_uniques_urbain}\")\n",
    "\n",
    "# Nombre de grappes uniques dans rural_data\n",
    "grappes_uniques_rural = rural_data['grappe'].nunique()\n",
    "print(f\"Nombre de grappes uniques (ZD) dans rural_data : {grappes_uniques_rural}\")\n"
   ]
  },
  {
   "cell_type": "code",
   "execution_count": 21,
   "metadata": {},
   "outputs": [
    {
     "name": "stdout",
     "output_type": "stream",
     "text": [
      "Liste des régions dans notre base urbaine est la suivante :[\"AUTONOME D'ABIDJAN\" 'HAUT-SASSANDRA' 'PORO' 'GBEKE' 'INDENIE-DJUABLIN'\n",
      " 'TONKPI' 'YAMOUSSOUKRO' 'GONTOUGO' 'SAN-PEDRO' 'KABADOUGOU' \"N'ZI\"\n",
      " 'MARAHOUE' 'SUD-COMOE' 'WORODOUGOU' 'LÔH-DJIBOUA' 'AGNEBY-TIASSA' 'GÔH'\n",
      " 'CAVALLY' 'BAFING' 'BAGOUE' 'BELIER' 'BERE' 'BOUNKANI' 'FOLON' 'GBÔKLE'\n",
      " 'GRANDS-PONTS' 'GUEMON' 'HAMBOL' 'IFFOU' 'LA ME' 'NAWA' 'TCHOLOGO'\n",
      " 'MORONOU']\n",
      "\n",
      "Nombre total de régions dans notre base urbaine est de : 33\n"
     ]
    }
   ],
   "source": [
    "print(f\"Liste des régions dans notre base urbaine est la suivante :{urbain_data['region'].unique()}\")\n",
    "print(f\"\\nNombre total de régions dans notre base urbaine est de : {urbain_data['region'].nunique()}\")"
   ]
  },
  {
   "cell_type": "code",
   "execution_count": 22,
   "metadata": {},
   "outputs": [
    {
     "name": "stdout",
     "output_type": "stream",
     "text": [
      "Liste des régions dans notre base rurale est la suivante :[\"AUTONOME D'ABIDJAN\" 'HAUT-SASSANDRA' 'PORO' 'GBEKE' 'INDENIE-DJUABLIN'\n",
      " 'TONKPI' 'YAMOUSSOUKRO' 'GONTOUGO' 'SAN-PEDRO' 'KABADOUGOU' \"N'ZI\"\n",
      " 'MARAHOUE' 'SUD-COMOE' 'WORODOUGOU' 'LÔH-DJIBOUA' 'AGNEBY-TIASSA' 'GÔH'\n",
      " 'CAVALLY' 'BAFING' 'BAGOUE' 'BELIER' 'BERE' 'BOUNKANI' 'FOLON' 'GBÔKLE'\n",
      " 'GRANDS-PONTS' 'GUEMON' 'HAMBOL' 'IFFOU' 'LA ME' 'NAWA' 'TCHOLOGO'\n",
      " 'MORONOU']\n",
      "\n",
      "Nombre total de régions dans notre base rurale est de : 33\n"
     ]
    }
   ],
   "source": [
    "print(f\"Liste des régions dans notre base rurale est la suivante :{rural_data['region'].unique()}\")\n",
    "print(f\"\\nNombre total de régions dans notre base rurale est de : {rural_data['region'].nunique()}\")"
   ]
  },
  {
   "cell_type": "markdown",
   "metadata": {},
   "source": [
    "##### Calcul du taux de pauvreté"
   ]
  },
  {
   "cell_type": "code",
   "execution_count": 27,
   "metadata": {},
   "outputs": [
    {
     "name": "stdout",
     "output_type": "stream",
     "text": [
      "Taux de pauvreté en milieu urbain : 24.65%\n",
      "Taux de pauvreté en milieu rural : 54.66%\n",
      "Moyenne des taux de pauvreté urbain et rural : 39.65%\n"
     ]
    }
   ],
   "source": [
    "import pandas as pd\n",
    "\n",
    "# Définir le seuil de pauvreté\n",
    "seuil_pauvrete = 345520\n",
    "\n",
    "# Fonction pour calculer le taux de pauvreté\n",
    "def calculate_poverty_rate(data, seuil_pauvrete=345520):\n",
    "    # Créer une copie du DataFrame pour éviter de modifier l'original\n",
    "    data_copy = data.copy()\n",
    "    \n",
    "    # Filtrer les ménages sous le seuil de pauvreté\n",
    "    data_copy['is_poor'] = (data_copy['pcexp'] < seuil_pauvrete).astype(int)\n",
    "    \n",
    "    # Calculer le total pondéré des ménages\n",
    "    total_menage = (data_copy['hhsize'] * data_copy['hhweight']).sum()\n",
    "    \n",
    "    # Calculer le taux de pauvreté pondéré\n",
    "    taux_pauvrete = (data_copy['hhsize'] * data_copy['hhweight'] * data_copy['is_poor']).sum() / total_menage\n",
    "    \n",
    "    return taux_pauvrete\n",
    "\n",
    "\n",
    "# Calcul du taux de pauvreté en milieu urbain\n",
    "taux_pauvrete_urbain = calculate_poverty_rate(urbain_data)\n",
    "print(f\"Taux de pauvreté en milieu urbain : {taux_pauvrete_urbain:.2%}\")\n",
    "\n",
    "# Calcul du taux de pauvreté en milieu rural\n",
    "taux_pauvrete_rural = calculate_poverty_rate(rural_data)\n",
    "print(f\"Taux de pauvreté en milieu rural : {taux_pauvrete_rural:.2%}\")\n",
    "\n",
    "# Calcul de la moyenne des deux taux de pauvreté\n",
    "moyenne_taux_pauvrete = (taux_pauvrete_urbain + taux_pauvrete_rural) / 2\n",
    "print(f\"Moyenne des taux de pauvreté urbain et rural : {moyenne_taux_pauvrete:.2%}\")"
   ]
  }
 ],
 "metadata": {
  "kernelspec": {
   "display_name": "base",
   "language": "python",
   "name": "python3"
  },
  "language_info": {
   "codemirror_mode": {
    "name": "ipython",
    "version": 3
   },
   "file_extension": ".py",
   "mimetype": "text/x-python",
   "name": "python",
   "nbconvert_exporter": "python",
   "pygments_lexer": "ipython3",
   "version": "3.11.5"
  }
 },
 "nbformat": 4,
 "nbformat_minor": 2
}
