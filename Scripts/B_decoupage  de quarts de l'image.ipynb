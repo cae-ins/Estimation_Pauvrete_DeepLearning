{
 "cells": [
  {
   "cell_type": "markdown",
   "id": "dff9a9ca",
   "metadata": {},
   "source": [
    "##### Générons 'i' découpages d'image carrés aléatoires C_i de dimensions 1/4 de l'image principale A, \n",
    "##### les découpages d'image carrés aléatoires C_i sont centrés dans un carré B de dimensions 1/2 A et qui ne sortent pas du carré B\n",
    "##### Le carré  B de dimensions 1/2 de A est un carré qui est centré à l'intérieur de A"
   ]
  },
  {
   "cell_type": "code",
   "execution_count": 1,
   "id": "886bd223",
   "metadata": {},
   "outputs": [],
   "source": [
    "import os\n",
    "from PIL import Image, ImageFile\n",
    "import random\n",
    "from tqdm import tqdm  # Importer tqdm\n"
   ]
  },
  {
   "cell_type": "code",
   "execution_count": 2,
   "id": "2d341f02",
   "metadata": {},
   "outputs": [],
   "source": [
    "# Configure PIL pour permettre le chargement d'images tronquées.\n",
    "# Cela est nécessaire pour éviter des erreurs lors du chargement de fichiers images incomplets.\n",
    "ImageFile.LOAD_TRUNCATED_IMAGES = True"
   ]
  },
  {
   "cell_type": "markdown",
   "id": "805414bf",
   "metadata": {},
   "source": [
    "##### Fonctions permettant de gérer le découpage, la nommenclature et la sauvegarde des images"
   ]
  },
  {
   "cell_type": "code",
   "execution_count": 3,
   "id": "ad13477a",
   "metadata": {},
   "outputs": [],
   "source": [
    "# Fonction pour générer les découpes d'une image\n",
    "def generer_decoupages(image_path, n, dim):\n",
    "    # J'extrais le nom de base de l'image\n",
    "    base_name = os.path.splitext(os.path.basename(image_path))[0]\n",
    "\n",
    "    # Je crée le Chemin du dossier de destination\n",
    "    destination_folder = f'D:/Poverty_Predict/Processed_Data/Image_decoupe_famille_quart/Image_Nombre_{n}_images_code_4'\n",
    "    \n",
    "    # Je Crée le dossier de destination s'il n'existe pas\n",
    "    if not os.path.exists(destination_folder):\n",
    "        os.makedirs(destination_folder)\n",
    "    \n",
    "    # Je Charge l'image\n",
    "    image = Image.open(image_path).convert('RGB')\n",
    "\n",
    "    # Je vérifie pour voir que l'image est effectivement carrée\n",
    "    assert image.width == image.height, \"L'image doit être carrée.\"\n",
    "\n",
    "    # Je store les dimensions de l'image (carré A) dans une variable\n",
    "    s_A = image.width  # ou image.height, vue que l'image est carrée\n",
    "\n",
    "    # Je Calcule les tailles pour B et C en fonction de la dimension spécifiée (dim)\n",
    "    s_B = s_A / 2\n",
    "    s_C = s_B / 2 if dim == 'C' else s_B  \n",
    "\n",
    "    # Je Génère et sauvegarde n découpes carrés aléatoires\n",
    "    for i in range(n):\n",
    "        # Je Génère des coordonnées aléatoires pour le coin supérieur gauche de C à l'intérieur de B\n",
    "        x = random.randint(int(s_A / 4), int(s_A / 4 + s_B - s_C))\n",
    "        y = random.randint(int(s_A / 4), int(s_A / 4 + s_B - s_C))\n",
    "\n",
    "        # Extraire la région C\n",
    "        region = image.crop((x, y, x + s_C, y + s_C))\n",
    "\n",
    "        # Construire le nom de fichier pour chaque découpage\n",
    "        crop_path = os.path.join(destination_folder, f'{base_name}_{i+1}.png')\n",
    "\n",
    "        # Sauvegarder la région extraite\n",
    "        region.save(crop_path)\n",
    "\n",
    "        #print(f\"Le découpage {i+1} a été sauvegardé sous : {crop_path}\")\n"
   ]
  },
  {
   "cell_type": "markdown",
   "id": "ac08cb3c",
   "metadata": {},
   "source": [
    "#### 50 découpages"
   ]
  },
  {
   "cell_type": "code",
   "execution_count": 4,
   "id": "bd7e13d6",
   "metadata": {},
   "outputs": [
    {
     "name": "stderr",
     "output_type": "stream",
     "text": [
      "Traitement des images:  85%|███████████████████████████████████████████▏       | 10989/12977 [1:57:01<22:15,  1.49it/s]C:\\Users\\d\\anaconda3\\Lib\\site-packages\\PIL\\Image.py:970: UserWarning: Palette images with Transparency expressed in bytes should be converted to RGBA images\n",
      "  warnings.warn(\n",
      "Traitement des images: 100%|███████████████████████████████████████████████████| 12977/12977 [2:16:13<00:00,  1.59it/s]\n"
     ]
    }
   ],
   "source": [
    "# Dossier contenant les images\n",
    "dossier_images = r'C:\\Users\\d\\Desktop\\Programme du projet sur CNN pauvreté2\\Data\\Image_menage'\n",
    "\n",
    "# Nombre de découpes souhaitées par image\n",
    "n = 50\n",
    "\n",
    "# Dimension des carrés (B ou C)\n",
    "dim = 'C'  # Ajustez s\n",
    "\n",
    "# Récupérer la liste des fichiers images\n",
    "fichiers_images = [f for f in os.listdir(dossier_images) if f.endswith(('.png', '.jpg', '.jpeg'))]\n",
    "\n",
    "# Utiliser tqdm pour la barre de progression\n",
    "for filename in tqdm(fichiers_images, desc=\"Traitement des images\"):\n",
    "    image_path = os.path.join(dossier_images, filename)\n",
    "    generer_decoupages(image_path, n, dim)\n"
   ]
  },
  {
   "cell_type": "markdown",
   "id": "aee5541c",
   "metadata": {},
   "source": [
    "##### 25 découpages par image"
   ]
  },
  {
   "cell_type": "code",
   "execution_count": 5,
   "id": "218c527e",
   "metadata": {},
   "outputs": [
    {
     "name": "stderr",
     "output_type": "stream",
     "text": [
      "Traitement des images: 100%|███████████████████████████████████████████████████| 12977/12977 [1:09:07<00:00,  3.13it/s]\n"
     ]
    }
   ],
   "source": [
    "# Dossier contenant les images\n",
    "dossier_images = r'C:\\Users\\d\\Desktop\\Programme du projet sur CNN pauvreté2\\Data\\Image_menage'\n",
    "\n",
    "# Nombre de découpes souhaitées par image\n",
    "n = 25\n",
    "\n",
    "# Dimension des carrés (B ou C)\n",
    "dim = 'C'  # Ajustez s\n",
    "\n",
    "# Récupérer la liste des fichiers images\n",
    "fichiers_images = [f for f in os.listdir(dossier_images) if f.endswith(('.png', '.jpg', '.jpeg'))]\n",
    "\n",
    "# Utiliser tqdm pour la barre de progression\n",
    "for filename in tqdm(fichiers_images, desc=\"Traitement des images\"):\n",
    "    image_path = os.path.join(dossier_images, filename)\n",
    "    generer_decoupages(image_path, n, dim)\n"
   ]
  },
  {
   "cell_type": "markdown",
   "id": "bc7d8aac",
   "metadata": {},
   "source": [
    "##### 75 découpages par image"
   ]
  },
  {
   "cell_type": "code",
   "execution_count": 6,
   "id": "39897b5b",
   "metadata": {},
   "outputs": [
    {
     "name": "stderr",
     "output_type": "stream",
     "text": [
      "Traitement des images: 100%|███████████████████████████████████████████████████| 12977/12977 [6:28:36<00:00,  1.80s/it]\n"
     ]
    }
   ],
   "source": [
    "# Dossier contenant les images\n",
    "dossier_images = r'C:\\Users\\d\\Desktop\\Programme du projet sur CNN pauvreté2\\Data\\Image_menage'\n",
    "\n",
    "# Nombre de découpes souhaitées par image\n",
    "n = 75\n",
    "\n",
    "# Dimension des carrés (B ou C)\n",
    "dim = 'C'  # Ajustez s\n",
    "\n",
    "# Récupérer la liste des fichiers images\n",
    "fichiers_images = [f for f in os.listdir(dossier_images) if f.endswith(('.png', '.jpg', '.jpeg'))]\n",
    "\n",
    "# Utiliser tqdm pour la barre de progression\n",
    "for filename in tqdm(fichiers_images, desc=\"Traitement des images\"):\n",
    "    image_path = os.path.join(dossier_images, filename)\n",
    "    generer_decoupages(image_path, n, dim)\n"
   ]
  },
  {
   "cell_type": "markdown",
   "id": "2cf79771",
   "metadata": {},
   "source": [
    "##### 100 découpages par images"
   ]
  },
  {
   "cell_type": "code",
   "execution_count": 4,
   "id": "c5d9b712",
   "metadata": {},
   "outputs": [
    {
     "name": "stderr",
     "output_type": "stream",
     "text": [
      "Traitement des images:  85%|███████████████████████████████████████████▏       | 10989/12977 [7:30:07<52:18,  1.58s/it]C:\\Users\\d\\anaconda3\\Lib\\site-packages\\PIL\\Image.py:970: UserWarning: Palette images with Transparency expressed in bytes should be converted to RGBA images\n",
      "  warnings.warn(\n",
      "Traitement des images: 100%|███████████████████████████████████████████████████| 12977/12977 [9:32:48<00:00,  2.65s/it]\n"
     ]
    }
   ],
   "source": [
    "# Dossier contenant les images\n",
    "dossier_images = r'C:\\Users\\d\\Desktop\\Programme du projet sur CNN pauvreté2\\Data\\Image_menage'\n",
    "\n",
    "# Nombre de découpes souhaitées par image\n",
    "n = 100\n",
    "\n",
    "# Dimension des carrés (B ou C)\n",
    "dim = 'C'  # Ajustez s\n",
    "\n",
    "# Récupérer la liste des fichiers images\n",
    "fichiers_images = [f for f in os.listdir(dossier_images) if f.endswith(('.png', '.jpg', '.jpeg'))]\n",
    "\n",
    "# Utiliser tqdm pour la barre de progression\n",
    "for filename in tqdm(fichiers_images, desc=\"Traitement des images\"):\n",
    "    image_path = os.path.join(dossier_images, filename)\n",
    "    generer_decoupages(image_path, n, dim)\n"
   ]
  },
  {
   "cell_type": "code",
   "execution_count": null,
   "id": "06ee7e6d",
   "metadata": {},
   "outputs": [],
   "source": []
  }
 ],
 "metadata": {
  "kernelspec": {
   "display_name": "Python 3 (ipykernel)",
   "language": "python",
   "name": "python3"
  },
  "language_info": {
   "codemirror_mode": {
    "name": "ipython",
    "version": 3
   },
   "file_extension": ".py",
   "mimetype": "text/x-python",
   "name": "python",
   "nbconvert_exporter": "python",
   "pygments_lexer": "ipython3",
   "version": "3.11.5"
  }
 },
 "nbformat": 4,
 "nbformat_minor": 5
}
