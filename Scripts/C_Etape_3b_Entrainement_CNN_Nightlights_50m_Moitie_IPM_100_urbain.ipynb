{
 "cells": [
  {
   "cell_type": "code",
   "execution_count": 1,
   "metadata": {},
   "outputs": [],
   "source": [
    "import pandas as pd\n",
    "from sklearn.mixture import GaussianMixture\n",
    "import numpy as np\n",
    "import matplotlib.pyplot as plt\n",
    "\n",
    "def load_data(file_path):\n",
    "    \"\"\"Charge les données à partir du fichier CSV.\"\"\"\n",
    "    return pd.read_csv(file_path)\n",
    "\n",
    "def apply_gmm(data, column, n_components_range=range(1, 8)):\n",
    "    \"\"\"Applique le GMM à une colonne spécifique pour trouver le nombre optimal de clusters.\"\"\"\n",
    "    X = data[column].values.reshape(-1, 1)  # Redimensionnement pour le GMM\n",
    "    bics = []\n",
    "    for n_components in n_components_range:\n",
    "        gmm = GaussianMixture(n_components=n_components, random_state=42)\n",
    "        gmm.fit(X)\n",
    "        bics.append(gmm.bic(X))\n",
    "    optimal_n_components = n_components_range[np.argmin(bics)]\n",
    "    gmm_optimal = GaussianMixture(n_components=optimal_n_components, random_state=42)\n",
    "    gmm_optimal.fit(X)\n",
    "    cluster_labels = gmm_optimal.predict(X)\n",
    "    return optimal_n_components, cluster_labels, n_components_range, bics\n",
    "\n",
    "def generate_columns_to_exclude(X):\n",
    "    \"\"\"Génère la liste des colonnes à exclure en fonction de la valeur de X.\"\"\"\n",
    "    base_columns_to_exclude = [\n",
    "        \"nightlights_50m\", \"nightlights_20m\",\"nightlights_100m\",\n",
    "        \"nightlights_25m\", \"nightlights_30m\", \"nightlights_150m\",\n",
    "        \"nightlights_1000m\", \"nightlights_5000m\", \"nightlights_0m\"\n",
    "    ]\n",
    "    \n",
    "    specific_column = f\"nightlights_{X}m\"\n",
    "    if specific_column in base_columns_to_exclude:\n",
    "        base_columns_to_exclude.remove(specific_column)\n",
    "    \n",
    "    return base_columns_to_exclude\n",
    "\n",
    "def main(file_path, X, moitiequarts, Y):\n",
    "    \"\"\"Charge les données, applique le GMM, et prépare le DataFrame final selon les paramètres fournis.\"\"\"\n",
    "    # Générer les noms dynamiquement\n",
    "    column_to_cluster = f\"nightlights_{X}m\"\n",
    "    df_name = f\"df_nightlights_{X}m_{moitiequarts}_IPM_{Y}\"\n",
    "    bin_column = f\"nightlights_{X}m_bins\"\n",
    "    \n",
    "    # Générer la liste des colonnes à exclure\n",
    "    columns_to_exclude = generate_columns_to_exclude(X)\n",
    "    \n",
    "    # Charger les données\n",
    "    data = load_data(file_path)\n",
    "    \n",
    "    # Appliquer le GMM\n",
    "    optimal_n_components, cluster_labels, n_components_range, bics = apply_gmm(data, column_to_cluster)\n",
    "    \n",
    "    # Afficher la liste des scores BIC\n",
    "    print(\"Scores BIC pour chaque nombre de clusters :\")\n",
    "    for n, bic in zip(n_components_range, bics):\n",
    "        print(f\"Nombre de clusters: {n}, BIC: {bic}\")\n",
    "    \n",
    "    # Créer le DataFrame final et ajouter les étiquettes de cluster\n",
    "    df_result = data.drop(columns=columns_to_exclude)\n",
    "    df_result[bin_column] = cluster_labels\n",
    "    \n",
    "    # Afficher les résultats\n",
    "    print(f\"Nombre optimal de clusters pour '{column_to_cluster}': {optimal_n_components}\")\n",
    "    print(df_result.head())\n",
    "    \n",
    "    # Sauvegarder le DataFrame avec un nom dynamique\n",
    "    globals()[df_name] = df_result\n",
    "\n",
    "    # Tracer le graphique des scores BIC\n",
    "    plt.figure(figsize=(10, 6))\n",
    "    plt.plot(n_components_range, bics, marker='o', linestyle='-')\n",
    "    plt.title(\"Relation entre le nombre de clusters et le BIC\")\n",
    "    plt.xlabel(\"Nombre de clusters\")\n",
    "    plt.ylabel(\"Score BIC\")\n",
    "    plt.grid(True)\n",
    "    \n",
    "    # Annoter chaque point avec son score BIC en texte oblique\n",
    "    for (i, txt) in zip(n_components_range, bics):\n",
    "        plt.annotate(f\"{txt:.2f}\",  # Texte à annoter\n",
    "                     (i, txt),  # Position (x, y) pour l'annotation\n",
    "                     textcoords=\"offset points\",  # Coordonnées relatives à la position\n",
    "                     xytext=(0, 5),  # Décalage textuel (x, y)\n",
    "                     ha='center',  # Alignement horizontal\n",
    "                     rotation=45)  # Texte oblique\n",
    "\n",
    "    plt.show()\n",
    "    \n",
    "    # Tracer l'histogramme de la distribution des \"nightlights\"\n",
    "    plt.figure(figsize=(10, 6))\n",
    "    plt.hist(df_result[bin_column], bins='auto', alpha=0.7, rwidth=0.85)\n",
    "    plt.xlabel(f'Nightlights Bin {X} mètres')  # Label for the x-axis\n",
    "    plt.ylabel('Frequency')  # Label for the y-axis\n",
    "    plt.title(f'Distribution of Nightlights Bin {X} mètres')  # Title of the histogram\n",
    "    plt.grid(axis='y', alpha=0.75)\n",
    "    plt.show()\n",
    "    \n",
    "    # Définir le chemin du fichier de sortie\n",
    "    output_file_path = f'D:\\\\Poverty_Predict_Par_Milieu\\\\Data_urbain\\\\df_nightlights_{X}m_{moitiequarts}_IPM_{Y}.csv'\n",
    "\n",
    "    # Exporter le DataFrame en fichier CSV\n",
    "    df_result.to_csv(output_file_path, index=False)\n",
    "    print(f\"DataFrame sauvegardé sous {output_file_path}\")\n",
    "    \n",
    "    # Retourner le DataFrame avec le nom dynamique\n",
    "    return df_result\n"
   ]
  },
  {
   "cell_type": "code",
   "execution_count": 2,
   "metadata": {},
   "outputs": [
    {
     "name": "stdout",
     "output_type": "stream",
     "text": [
      "Scores BIC pour chaque nombre de clusters :\n",
      "Nombre de clusters: 1, BIC: 39559.26838942223\n",
      "Nombre de clusters: 2, BIC: 36948.60577591798\n",
      "Nombre de clusters: 3, BIC: 36921.46732232787\n",
      "Nombre de clusters: 4, BIC: 36912.42740094886\n",
      "Nombre de clusters: 5, BIC: 36272.15983879933\n",
      "Nombre de clusters: 6, BIC: 36250.45545099691\n",
      "Nombre de clusters: 7, BIC: 36290.976607757\n",
      "Nombre optimal de clusters pour 'nightlights_50m': 6\n",
      "  country  year   hhid  grappe  menage  vague      zae              region  \\\n",
      "0     CIV  2018  101.0       1       1      1  ABIDJAN  AUTONOME D'ABIDJAN   \n",
      "1     CIV  2018  102.0       1       2      1  ABIDJAN  AUTONOME D'ABIDJAN   \n",
      "2     CIV  2018  103.0       1       3      1  ABIDJAN  AUTONOME D'ABIDJAN   \n",
      "3     CIV  2018  104.0       1       4      1  ABIDJAN  AUTONOME D'ABIDJAN   \n",
      "4     CIV  2018  105.0       1       5      1  ABIDJAN  AUTONOME D'ABIDJAN   \n",
      "\n",
      "   milieu         milieu2  ...                     interview__id  \\\n",
      "0  Urbain  Abidjan urbain  ...  2eb3d29ba9814aa9bf99d6908559e7d2   \n",
      "1  Urbain  Abidjan urbain  ...  99990d719d6243a38fad96a4d7477742   \n",
      "2  Urbain  Abidjan urbain  ...  6cf633ef989c4a6a93ec483de1fd8193   \n",
      "3  Urbain  Abidjan urbain  ...  67feab4e35d141679ec4b867a59cba19   \n",
      "4  Urbain  Abidjan urbain  ...  dc1f1fa87d8e433e8891a4e55a8baca0   \n",
      "\n",
      "   GPS__Latitude  GPS__Longitude  GPS__Accuracy GPS__Altitude  \\\n",
      "0       5.340541       -4.026030           46.0          39.0   \n",
      "1       5.340402       -4.025834           47.0          28.0   \n",
      "2       5.340151       -4.025953           35.0          68.0   \n",
      "3       5.340500       -4.026202           32.0          59.0   \n",
      "4       5.339820       -4.025066           49.0          72.0   \n",
      "\n",
      "        GPS__Timestamp nom_prenom_cm localisation_menage nightlights_50m  \\\n",
      "0  2018-10-29T17:56:23           NaN                 NaN       31.460636   \n",
      "1  2018-10-29T17:54:35           NaN                 NaN       31.460636   \n",
      "2  2018-10-29T17:51:50           NaN                 NaN       31.460636   \n",
      "3  2018-10-29T19:48:39           NaN                 NaN       31.460636   \n",
      "4  2018-10-29T18:45:09           NaN                 NaN       31.460636   \n",
      "\n",
      "  nightlights_50m_bins  \n",
      "0                    3  \n",
      "1                    3  \n",
      "2                    3  \n",
      "3                    3  \n",
      "4                    3  \n",
      "\n",
      "[5 rows x 50 columns]\n"
     ]
    },
    {
     "data": {
      "image/png": "[encoded data removed]",
      "text/plain": [
       "<Figure size 1000x600 with 1 Axes>"
      ]
     },
     "metadata": {},
     "output_type": "display_data"
    },
    {
     "data": {
      "image/png": "[encoded data removed]",
      "text/plain": [
       "<Figure size 1000x600 with 1 Axes>"
      ]
     },
     "metadata": {},
     "output_type": "display_data"
    },
    {
     "name": "stdout",
     "output_type": "stream",
     "text": [
      "DataFrame sauvegardé sous D:\\Poverty_Predict_Par_Milieu\\Data_urbain\\df_nightlights_50m_moitie_IPM_100.csv\n"
     ]
    }
   ],
   "source": [
    "# Paramètres de l'utilisateur\n",
    "#file_path = r'D:\\Poverty_Predict_Par_Milieu\\rural_data.csv' #Chemin des données d'enquetes en milieu rural\n",
    "file_path = r'D:\\Poverty_Predict_Par_Milieu\\urbain_data.csv' #Chemin des données d'enquetes en milieu urbain\n",
    "\n",
    "X = 50\n",
    "moitiequarts = 'moitie'\n",
    "Y = 100\n",
    "\n",
    "# Exécution principale\n",
    "df_result = main(file_path, X, moitiequarts, Y)"
   ]
  },
  {
   "cell_type": "code",
   "execution_count": 3,
   "metadata": {},
   "outputs": [
    {
     "name": "stdout",
     "output_type": "stream",
     "text": [
      "Affichage de df_nightlights_50m_moitie_IPM_100 :\n",
      "     country  year      hhid  grappe  menage  vague      zae  \\\n",
      "0        CIV  2018     101.0       1       1      1  ABIDJAN   \n",
      "1        CIV  2018     102.0       1       2      1  ABIDJAN   \n",
      "2        CIV  2018     103.0       1       3      1  ABIDJAN   \n",
      "3        CIV  2018     104.0       1       4      1  ABIDJAN   \n",
      "4        CIV  2018     105.0       1       5      1  ABIDJAN   \n",
      "...      ...   ...       ...     ...     ...    ...      ...   \n",
      "5263     CIV  2018  107908.0    1079       8      1   CENTRE   \n",
      "5264     CIV  2018  107909.0    1079       9      1   CENTRE   \n",
      "5265     CIV  2018  107910.0    1079      10      1   CENTRE   \n",
      "5266     CIV  2018  107911.0    1079      11      1   CENTRE   \n",
      "5267     CIV  2018  107913.0    1079      13      1   CENTRE   \n",
      "\n",
      "                  region  milieu         milieu2  ...  \\\n",
      "0     AUTONOME D'ABIDJAN  Urbain  Abidjan urbain  ...   \n",
      "1     AUTONOME D'ABIDJAN  Urbain  Abidjan urbain  ...   \n",
      "2     AUTONOME D'ABIDJAN  Urbain  Abidjan urbain  ...   \n",
      "3     AUTONOME D'ABIDJAN  Urbain  Abidjan urbain  ...   \n",
      "4     AUTONOME D'ABIDJAN  Urbain  Abidjan urbain  ...   \n",
      "...                  ...     ...             ...  ...   \n",
      "5263             MORONOU  Urbain    Autre urbain  ...   \n",
      "5264             MORONOU  Urbain    Autre urbain  ...   \n",
      "5265             MORONOU  Urbain    Autre urbain  ...   \n",
      "5266             MORONOU  Urbain    Autre urbain  ...   \n",
      "5267             MORONOU  Urbain    Autre urbain  ...   \n",
      "\n",
      "                         interview__id  GPS__Latitude  GPS__Longitude  \\\n",
      "0     2eb3d29ba9814aa9bf99d6908559e7d2       5.340541       -4.026030   \n",
      "1     99990d719d6243a38fad96a4d7477742       5.340402       -4.025834   \n",
      "2     6cf633ef989c4a6a93ec483de1fd8193       5.340151       -4.025953   \n",
      "3     67feab4e35d141679ec4b867a59cba19       5.340500       -4.026202   \n",
      "4     dc1f1fa87d8e433e8891a4e55a8baca0       5.339820       -4.025066   \n",
      "...                                ...            ...             ...   \n",
      "5263  ef41754e7f1a441ab35d5cd6dc5ea696       6.478091       -4.361817   \n",
      "5264  01ba03a59c6f41249c0c72d37edf335e       6.477599       -4.362735   \n",
      "5265  4d9003cead0e46d9872655eace2c5883       6.476234       -4.363244   \n",
      "5266  44f5a05c36404214b647bf041bf4ed05       6.475759       -4.364035   \n",
      "5267  8b0780df625a4e78ac9996b8889d420c       6.474394       -4.365165   \n",
      "\n",
      "      GPS__Accuracy GPS__Altitude       GPS__Timestamp nom_prenom_cm  \\\n",
      "0              46.0          39.0  2018-10-29T17:56:23           NaN   \n",
      "1              47.0          28.0  2018-10-29T17:54:35           NaN   \n",
      "2              35.0          68.0  2018-10-29T17:51:50           NaN   \n",
      "3              32.0          59.0  2018-10-29T19:48:39           NaN   \n",
      "4              49.0          72.0  2018-10-29T18:45:09           NaN   \n",
      "...             ...           ...                  ...           ...   \n",
      "5263           27.0         156.0  2018-11-11T15:58:09           NaN   \n",
      "5264           27.0         196.0  2018-11-10T18:38:25           NaN   \n",
      "5265           25.0         211.0  2018-11-11T08:14:22           NaN   \n",
      "5266           25.0         146.0  2018-11-10T13:43:09           NaN   \n",
      "5267           44.0         133.0  2018-11-12T16:22:48           NaN   \n",
      "\n",
      "     localisation_menage nightlights_50m nightlights_50m_bins  \n",
      "0                    NaN       31.460636                    3  \n",
      "1                    NaN       31.460636                    3  \n",
      "2                    NaN       31.460636                    3  \n",
      "3                    NaN       31.460636                    3  \n",
      "4                    NaN       31.460636                    3  \n",
      "...                  ...             ...                  ...  \n",
      "5263                 NaN        7.555472                    0  \n",
      "5264                 NaN        7.555472                    0  \n",
      "5265                 NaN        9.891627                    1  \n",
      "5266                 NaN        9.891627                    1  \n",
      "5267                 NaN        7.882316                    0  \n",
      "\n",
      "[5268 rows x 50 columns]\n"
     ]
    }
   ],
   "source": [
    "# Affichage du DataFrame avec le nom dynamique\n",
    "df_name = f\"df_nightlights_{X}m_{moitiequarts}_IPM_{Y}\"\n",
    "print(f\"Affichage de {df_name} :\")\n",
    "print(globals()[df_name])"
   ]
  },
  {
   "cell_type": "code",
   "execution_count": 4,
   "metadata": {},
   "outputs": [
    {
     "data": {
      "text/plain": [
       "array([3, 2, 5, 1, 0, 4], dtype=int64)"
      ]
     },
     "execution_count": 4,
     "metadata": {},
     "output_type": "execute_result"
    }
   ],
   "source": [
    "globals()[df_name][f'nightlights_{X}m_bins'].unique()"
   ]
  },
  {
   "cell_type": "markdown",
   "metadata": {},
   "source": [
    "##### I - Affichage des grappes (ZD) (cette section n'est pas une nécessité)"
   ]
  },
  {
   "cell_type": "code",
   "execution_count": 5,
   "metadata": {},
   "outputs": [],
   "source": [
    "Data_milieu='Data_urbain'"
   ]
  },
  {
   "cell_type": "code",
   "execution_count": 6,
   "metadata": {},
   "outputs": [
    {
     "name": "stdout",
     "output_type": "stream",
     "text": [
      "Éléments de la colonne 'grappe':\n",
      "0          1\n",
      "1          1\n",
      "2          1\n",
      "3          1\n",
      "4          1\n",
      "        ... \n",
      "5263    1079\n",
      "5264    1079\n",
      "5265    1079\n",
      "5266    1079\n",
      "5267    1079\n",
      "Name: grappe, Length: 5268, dtype: int64\n",
      "\n",
      "Chiffres uniques dans la colonne 'grappe':\n",
      "[   1    2    3    4    5    6    7    8    9   10   11   12   13   14\n",
      "   15   16   17   18   19   20   21   22   23   24   25   26   27   28\n",
      "   29   30   31   32   33   34   35   36   37   38   39   40   41   42\n",
      "   43   44   45   46   47   48   49   50   51   52   53   54   55   56\n",
      "   57   58   59   60   61   62   63   64   65   66   67   68   69   70\n",
      "   71   72   73   74   75   76   77   78   79   80   82   88   89   90\n",
      "   91   92   93   94   95   96  103  104  107  108  113  126  127  136\n",
      "  144  145  146  147  148  149  150  151  152  153  154  162  164  166\n",
      "  167  179  180  183  184  185  186  187  188  189  190  191  192  193\n",
      "  194  195  196  197  198  199  200  201  202  203  204  215  216  217\n",
      "  218  219  220  222  226  227  234  235  236  239  240  243  247  252\n",
      "  255  256  257  261  266  267  268  269  270  271  272  273  276  281\n",
      "  283  285  286  292  294  295  296  297  298  299  300  301  302  303\n",
      "  304  305  306  307  308  309  316  317  318  319  320  326  341  342\n",
      "  349  354  356  366  367  368  369  370  371  372  373  382  385  389\n",
      "  396  397  398  399  401  409  416  420  421  422  423  426  430  431\n",
      "  432  433  435  436  437  438  449  450  453  454  455  456  465  466\n",
      "  469  470  471  482  484  485  491  492  495  496  497  498  499  503\n",
      "  504  505  509  511  515  516  517  527  528  529  530  531  532  536\n",
      "  539  543  549  553  554  561  562  563  564  567  568  569  575  577\n",
      "  579  589  592  595  603  604  605  606  607  608  609  610  613  615\n",
      "  618  623  626  628  629  635  636  642  643  644  645  646  647  653\n",
      "  657  658  659  664  665  667  673  679  682  683  685  686  687  692\n",
      "  696  698  703  705  706  707  715  716  722  723  728  732  733  734\n",
      "  737  738  741  746  749  751  752  764  765  773  779  785  793  800\n",
      "  807  809  812  814  817  830  831  835  836  837  838  839  844  846\n",
      "  847  852  853  859  863  866  868  871  874  876  877  878  879  885\n",
      "  887  895  897  902  904  914  916  917  918  923  926  928  930  931\n",
      "  932  933  943  950  953  954  955  956  963  964  965  967  972  976\n",
      "  977  980  981  982  985  989 1001 1002 1010 1017 1022 1023 1024 1025\n",
      " 1029 1030 1031 1032 1044 1049 1050 1052 1053 1054 1057 1059 1060 1061\n",
      " 1063 1065 1070 1071 1074 1079]\n",
      "\n",
      "Fréquence des chiffres dans la colonne 'grappe':\n",
      "grappe\n",
      "1      12\n",
      "607    12\n",
      "636    12\n",
      "635    12\n",
      "629    12\n",
      "       ..\n",
      "931    11\n",
      "465    11\n",
      "162    11\n",
      "499    10\n",
      "613     9\n",
      "Name: count, Length: 440, dtype: int64\n"
     ]
    }
   ],
   "source": [
    "import pandas as pd\n",
    "\n",
    "# Charger le DataFrame sans doublons\n",
    "file_path = f'D:\\\\Poverty_Predict_Par_Milieu\\\\{Data_milieu}\\\\df_nightlights_{X}m_{moitiequarts}_IPM_{Y}.csv'\n",
    "df = pd.read_csv(file_path)\n",
    "\n",
    "# Afficher les éléments de la colonne 'grappe'\n",
    "print(\"Éléments de la colonne 'grappe':\")\n",
    "print(df['grappe'])\n",
    "\n",
    "# Afficher les chiffres uniques dans la colonne 'grappe'\n",
    "unique_values = df['grappe'].unique()\n",
    "print(\"\\nChiffres uniques dans la colonne 'grappe':\")\n",
    "print(unique_values)\n",
    "\n",
    "# Afficher la fréquence de chaque chiffre unique\n",
    "value_counts = df['grappe'].value_counts()\n",
    "print(\"\\nFréquence des chiffres dans la colonne 'grappe':\")\n",
    "print(value_counts)\n"
   ]
  },
  {
   "cell_type": "markdown",
   "metadata": {},
   "source": [
    "##### Ajout d'une colonne 'is_train'"
   ]
  },
  {
   "cell_type": "code",
   "execution_count": 7,
   "metadata": {},
   "outputs": [],
   "source": [
    "import pandas as pd\n",
    "\n",
    "def load_dataframe(file_path):\n",
    "    \"\"\"Charger le DataFrame à partir du fichier CSV.\"\"\"\n",
    "    return pd.read_csv(file_path)\n",
    "\n",
    "def mark_sample_by_group(df, group_column, n_samples):\n",
    "    \"\"\"Grouper le DataFrame par la colonne spécifiée, sélectionner un nombre aléatoire de lignes par groupe, et marquer ces lignes.\"\"\"\n",
    "    # Créer une colonne 'is_train' initialisée à False\n",
    "    df['is_train'] = False\n",
    "    # Sélectionner aléatoirement des échantillons par groupe\n",
    "    sampled_indices = df.groupby(group_column).apply(lambda x: x.sample(n_samples).index).explode()\n",
    "    # Marquer les lignes sélectionnées\n",
    "    df.loc[sampled_indices, 'is_train'] = True\n",
    "    return df\n",
    "\n",
    "def save_dataframe(df, file_path):\n",
    "    \"\"\"Sauvegarder le DataFrame en fichier CSV.\"\"\"\n",
    "    df.to_csv(file_path, index=False)"
   ]
  },
  {
   "cell_type": "code",
   "execution_count": 8,
   "metadata": {},
   "outputs": [],
   "source": [
    "# Définir les variables X, moitiequarts et Y pour personnaliser les chemins de fichiers\n",
    "X = 50\n",
    "moitiequarts = 'moitie'\n",
    "Y = 100\n",
    "Data_milieu='Data_urbain'"
   ]
  },
  {
   "cell_type": "code",
   "execution_count": 9,
   "metadata": {},
   "outputs": [
    {
     "name": "stdout",
     "output_type": "stream",
     "text": [
      "DataFrame avec colonne 'is_train':\n",
      "     country  year      hhid  grappe  menage  vague      zae  \\\n",
      "0        CIV  2018     101.0       1       1      1  ABIDJAN   \n",
      "1        CIV  2018     102.0       1       2      1  ABIDJAN   \n",
      "2        CIV  2018     103.0       1       3      1  ABIDJAN   \n",
      "3        CIV  2018     104.0       1       4      1  ABIDJAN   \n",
      "4        CIV  2018     105.0       1       5      1  ABIDJAN   \n",
      "...      ...   ...       ...     ...     ...    ...      ...   \n",
      "5263     CIV  2018  107908.0    1079       8      1   CENTRE   \n",
      "5264     CIV  2018  107909.0    1079       9      1   CENTRE   \n",
      "5265     CIV  2018  107910.0    1079      10      1   CENTRE   \n",
      "5266     CIV  2018  107911.0    1079      11      1   CENTRE   \n",
      "5267     CIV  2018  107913.0    1079      13      1   CENTRE   \n",
      "\n",
      "                  region  milieu         milieu2  ...  GPS__Latitude  \\\n",
      "0     AUTONOME D'ABIDJAN  Urbain  Abidjan urbain  ...       5.340541   \n",
      "1     AUTONOME D'ABIDJAN  Urbain  Abidjan urbain  ...       5.340402   \n",
      "2     AUTONOME D'ABIDJAN  Urbain  Abidjan urbain  ...       5.340151   \n",
      "3     AUTONOME D'ABIDJAN  Urbain  Abidjan urbain  ...       5.340500   \n",
      "4     AUTONOME D'ABIDJAN  Urbain  Abidjan urbain  ...       5.339820   \n",
      "...                  ...     ...             ...  ...            ...   \n",
      "5263             MORONOU  Urbain    Autre urbain  ...       6.478091   \n",
      "5264             MORONOU  Urbain    Autre urbain  ...       6.477599   \n",
      "5265             MORONOU  Urbain    Autre urbain  ...       6.476234   \n",
      "5266             MORONOU  Urbain    Autre urbain  ...       6.475759   \n",
      "5267             MORONOU  Urbain    Autre urbain  ...       6.474394   \n",
      "\n",
      "      GPS__Longitude  GPS__Accuracy  GPS__Altitude       GPS__Timestamp  \\\n",
      "0          -4.026030           46.0           39.0  2018-10-29T17:56:23   \n",
      "1          -4.025834           47.0           28.0  2018-10-29T17:54:35   \n",
      "2          -4.025953           35.0           68.0  2018-10-29T17:51:50   \n",
      "3          -4.026202           32.0           59.0  2018-10-29T19:48:39   \n",
      "4          -4.025066           49.0           72.0  2018-10-29T18:45:09   \n",
      "...              ...            ...            ...                  ...   \n",
      "5263       -4.361817           27.0          156.0  2018-11-11T15:58:09   \n",
      "5264       -4.362735           27.0          196.0  2018-11-10T18:38:25   \n",
      "5265       -4.363244           25.0          211.0  2018-11-11T08:14:22   \n",
      "5266       -4.364035           25.0          146.0  2018-11-10T13:43:09   \n",
      "5267       -4.365165           44.0          133.0  2018-11-12T16:22:48   \n",
      "\n",
      "      nom_prenom_cm localisation_menage nightlights_50m nightlights_50m_bins  \\\n",
      "0               NaN                 NaN       31.460636                    3   \n",
      "1               NaN                 NaN       31.460636                    3   \n",
      "2               NaN                 NaN       31.460636                    3   \n",
      "3               NaN                 NaN       31.460636                    3   \n",
      "4               NaN                 NaN       31.460636                    3   \n",
      "...             ...                 ...             ...                  ...   \n",
      "5263            NaN                 NaN        7.555472                    0   \n",
      "5264            NaN                 NaN        7.555472                    0   \n",
      "5265            NaN                 NaN        9.891627                    1   \n",
      "5266            NaN                 NaN        9.891627                    1   \n",
      "5267            NaN                 NaN        7.882316                    0   \n",
      "\n",
      "     is_train  \n",
      "0       False  \n",
      "1       False  \n",
      "2        True  \n",
      "3       False  \n",
      "4       False  \n",
      "...       ...  \n",
      "5263    False  \n",
      "5264    False  \n",
      "5265     True  \n",
      "5266    False  \n",
      "5267    False  \n",
      "\n",
      "[5268 rows x 51 columns]\n",
      "Le DataFrame avec colonne 'is_train' a été sauvegardé avec succès.\n"
     ]
    }
   ],
   "source": [
    "# Chemin vers le fichier CSV d'origine\n",
    "original_file_path = f'D:\\\\Poverty_Predict_Par_Milieu\\\\{Data_milieu}\\\\df_nightlights_{X}m_{moitiequarts}_IPM_{Y}.csv'\n",
    "\n",
    "# Charger le DataFrame\n",
    "df = load_dataframe(original_file_path)\n",
    "\n",
    "# Marquer les lignes sélectionnées de manière aléatoire par groupe\n",
    "df_marked = mark_sample_by_group(df, 'grappe', 2)\n",
    "print(\"DataFrame avec colonne 'is_train':\")\n",
    "print(df_marked)\n",
    "\n",
    "# Sauvegarder le DataFrame avec la nouvelle colonne 'is_train' en tant que fichier CSV\n",
    "new_file_path = f'D:\\\\Poverty_Predict_Par_Milieu\\\\{Data_milieu}\\\\df_nightlights_{X}m_{moitiequarts}_IPM_{Y}_marked.csv'\n",
    "\n",
    "save_dataframe(df_marked, new_file_path)\n",
    "\n",
    "print(\"Le DataFrame avec colonne 'is_train' a été sauvegardé avec succès.\")\n"
   ]
  },
  {
   "cell_type": "markdown",
   "metadata": {},
   "source": [
    "#### Concatenation de la colonne 'is train' et des images, nous avons 2 ménages par ZD sélectionnés aléatoirement en zone urbaine"
   ]
  },
  {
   "cell_type": "code",
   "execution_count": 10,
   "metadata": {},
   "outputs": [],
   "source": [
    "import os\n",
    "import pandas as pd\n",
    "\n",
    "def process_images_and_merge_data(csv_file_path, images_folder_path, save_folder_path, X, moitiequarts, Y):\n",
    "    \"\"\"Automatise le traitement des images et la fusion des données avec des noms de variables dynamiques.\"\"\"\n",
    "    # Générer le nom dynamique du DataFrame\n",
    "    df_name = f\"df_nightlights_{X}m_{moitiequarts}_IPM_{Y}\"\n",
    "    \n",
    "    # Lire le fichier CSV sauvegardé\n",
    "    df_nightlights = pd.read_csv(csv_file_path)\n",
    "    \n",
    "    # Extraire les informations des images\n",
    "    image_info = []\n",
    "    for image_file in os.listdir(images_folder_path):\n",
    "        base_name, _ = os.path.splitext(image_file)\n",
    "        base_name_with_extension = base_name + '.png'\n",
    "        parts = base_name.split('_')\n",
    "        if len(parts) >= 2:\n",
    "            menage_lat, menage_lon = float(parts[0]), float(parts[1])\n",
    "            image_info.append({\n",
    "                'image_name': base_name_with_extension,\n",
    "                'menage_lat': menage_lat,\n",
    "                'menage_lon': menage_lon\n",
    "            })\n",
    "\n",
    "    df_images = pd.DataFrame(image_info)\n",
    "    \n",
    "    # Convertir les latitudes et longitudes pour la fusion\n",
    "    df_nightlights['GPS__Latitude'] = df_nightlights['GPS__Latitude'].astype(float)\n",
    "    df_nightlights['GPS__Longitude'] = df_nightlights['GPS__Longitude'].astype(float)\n",
    "\n",
    "    # Fusionner les DataFrames\n",
    "    df_download = pd.merge(df_images, df_nightlights, \n",
    "                           left_on=['menage_lat', 'menage_lon'], \n",
    "                           right_on=['GPS__Latitude', 'GPS__Longitude'], how='inner')\n",
    "\n",
    "    # Sélection et renommage des colonnes pour le résultat final\n",
    "    df_download = df_download.rename(columns={\n",
    "        'pcexp': 'pcexp',\n",
    "        f'nightlights_{X}m': f'nightlights_{X}m',\n",
    "        f'nightlights_{X}m_bins': f'nightlights_{X}m_bins'\n",
    "    })\n",
    "\n",
    "    # Ajouter les colonnes 'grappe' et 'is_train'\n",
    "    df_download['grappe'] = df_download['grappe']\n",
    "    df_download['hhweight']=df_download['hhweight']\n",
    "    df_download['hhsize']=df_download['hhsize']\n",
    "    df_download['is_train'] = df_download['is_train']\n",
    "\n",
    "    df_download = df_download[['image_name', 'menage_lat', 'menage_lon', 'grappe', 'hhweight', 'hhsize','is_train', 'pcexp', f'nightlights_{X}m', f'nightlights_{X}m_bins']]\n",
    "    \n",
    "    # Sauvegarder le DataFrame fusionné avec les doublons\n",
    "    download_file_path_with_duplicates = os.path.join(save_folder_path, f'df_download_{X}m_{moitiequarts}_IPM_{Y}.csv')\n",
    "    df_download.to_csv(download_file_path_with_duplicates, index=False)\n",
    "    \n",
    "    print(f\"DataFrame fusionné avec doublons sauvegardé sous {download_file_path_with_duplicates}\")\n",
    "    \n",
    "    # Étape 6: Afficher les valeurs du DataFrame\n",
    "    print(df_download.head())\n",
    "    print(df_download.shape)\n",
    "    \n",
    "    # Identifier les doublons exacts dans 'image_name' et obtenir leurs indices\n",
    "    doublons_indices = df_download[df_download.duplicated(subset=['image_name'], keep='first')].index\n",
    "\n",
    "    # Afficher les valeurs de 'image_name' qui sont des doublons et leurs indices\n",
    "    for indice in doublons_indices:\n",
    "        valeur_doublon = df_download.loc[indice, 'image_name']\n",
    "        print(f\"Indice: {indice}, Valeur Doublon: {valeur_doublon}\")\n",
    "\n",
    "    # Supprimer les doublons, en ne gardant que la première occurrence\n",
    "    df_download_sans_doublons = df_download.drop_duplicates(subset=['image_name'], keep='first')\n",
    "\n",
    "    # Maintenant, df_download_sans_doublons contient le DataFrame sans les doublons\n",
    "\n",
    "    # Sauvegarder le DataFrame sans doublons avec un nom dynamique\n",
    "    download_file_path_without_duplicates = os.path.join(save_folder_path, f'df_download_{X}m_{moitiequarts}_IPM_{Y}_vf.csv')\n",
    "    df_download_sans_doublons.to_csv(download_file_path_without_duplicates, index=False)\n",
    "    \n",
    "    print(f\"DataFrame fusionné sans doublons sauvegardé sous {download_file_path_without_duplicates}\")\n",
    "\n",
    "    # Compter le nombre total d'images\n",
    "    image_count = len(os.listdir(images_folder_path))\n",
    "    print(f\"Nombre total d'images : {image_count}\")\n",
    "    \n",
    "    return df_download, df_download_sans_doublons\n"
   ]
  },
  {
   "cell_type": "code",
   "execution_count": 11,
   "metadata": {},
   "outputs": [],
   "source": [
    "# Paramètres de l'utilisateur\n",
    "X = 50\n",
    "moitiequarts = 'moitie'\n",
    "Y = 100\n",
    "Data_milieu='Data_urbain'"
   ]
  },
  {
   "cell_type": "markdown",
   "metadata": {},
   "source": [
    "#### Changement de chemin"
   ]
  },
  {
   "cell_type": "code",
   "execution_count": 12,
   "metadata": {},
   "outputs": [],
   "source": [
    "# Chemins des fichiers\n",
    "\n",
    "csv_file_path = f'D:\\\\Poverty_Predict_Par_Milieu\\\\{Data_milieu}\\\\df_nightlights_{X}m_{moitiequarts}_IPM_{Y}_marked.csv'\n",
    "images_folder_path =r'D:\\Processed_Data_400_42m_100img\\Processed_Data_400\\Image_Nombre_100_images_code_5'\n",
    "save_folder_path = f'D:\\\\Poverty_Predict_Par_Milieu\\\\{Data_milieu}'"
   ]
  },
  {
   "cell_type": "code",
   "execution_count": 13,
   "metadata": {},
   "outputs": [
    {
     "name": "stdout",
     "output_type": "stream",
     "text": [
      "DataFrame fusionné avec doublons sauvegardé sous D:\\Poverty_Predict_Par_Milieu\\Data_urbain\\df_download_50m_moitie_IPM_100.csv\n",
      "                      image_name  menage_lat  menage_lon  grappe  hhweight  \\\n",
      "0    10.0052188_-5.9011314_1.png   10.005219   -5.901131     167  547.8328   \n",
      "1   10.0052188_-5.9011314_10.png   10.005219   -5.901131     167  547.8328   \n",
      "2  10.0052188_-5.9011314_100.png   10.005219   -5.901131     167  547.8328   \n",
      "3   10.0052188_-5.9011314_11.png   10.005219   -5.901131     167  547.8328   \n",
      "4   10.0052188_-5.9011314_12.png   10.005219   -5.901131     167  547.8328   \n",
      "\n",
      "   hhsize  is_train      pcexp  nightlights_50m  nightlights_50m_bins  \n",
      "0       1     False  695713.06        17.569902                     5  \n",
      "1       1     False  695713.06        17.569902                     5  \n",
      "2       1     False  695713.06        17.569902                     5  \n",
      "3       1     False  695713.06        17.569902                     5  \n",
      "4       1     False  695713.06        17.569902                     5  \n",
      "(526800, 10)\n",
      "Indice: 116601, Valeur Doublon: 5.3491202_-3.9888312_1.png\n",
      "Indice: 116603, Valeur Doublon: 5.3491202_-3.9888312_10.png\n",
      "Indice: 116605, Valeur Doublon: 5.3491202_-3.9888312_100.png\n",
      "Indice: 116607, Valeur Doublon: 5.3491202_-3.9888312_11.png\n",
      "Indice: 116609, Valeur Doublon: 5.3491202_-3.9888312_12.png\n",
      "Indice: 116611, Valeur Doublon: 5.3491202_-3.9888312_13.png\n",
      "Indice: 116613, Valeur Doublon: 5.3491202_-3.9888312_14.png\n",
      "Indice: 116615, Valeur Doublon: 5.3491202_-3.9888312_15.png\n",
      "Indice: 116617, Valeur Doublon: 5.3491202_-3.9888312_16.png\n",
      "Indice: 116619, Valeur Doublon: 5.3491202_-3.9888312_17.png\n",
      "Indice: 116621, Valeur Doublon: 5.3491202_-3.9888312_18.png\n",
      "Indice: 116623, Valeur Doublon: 5.3491202_-3.9888312_19.png\n",
      "Indice: 116625, Valeur Doublon: 5.3491202_-3.9888312_2.png\n",
      "Indice: 116627, Valeur Doublon: 5.3491202_-3.9888312_20.png\n",
      "Indice: 116629, Valeur Doublon: 5.3491202_-3.9888312_21.png\n",
      "Indice: 116631, Valeur Doublon: 5.3491202_-3.9888312_22.png\n",
      "Indice: 116633, Valeur Doublon: 5.3491202_-3.9888312_23.png\n",
      "Indice: 116635, Valeur Doublon: 5.3491202_-3.9888312_24.png\n",
      "Indice: 116637, Valeur Doublon: 5.3491202_-3.9888312_25.png\n",
      "Indice: 116639, Valeur Doublon: 5.3491202_-3.9888312_26.png\n",
      "Indice: 116641, Valeur Doublon: 5.3491202_-3.9888312_27.png\n",
      "Indice: 116643, Valeur Doublon: 5.3491202_-3.9888312_28.png\n",
      "Indice: 116645, Valeur Doublon: 5.3491202_-3.9888312_29.png\n",
      "Indice: 116647, Valeur Doublon: 5.3491202_-3.9888312_3.png\n",
      "Indice: 116649, Valeur Doublon: 5.3491202_-3.9888312_30.png\n",
      "Indice: 116651, Valeur Doublon: 5.3491202_-3.9888312_31.png\n",
      "Indice: 116653, Valeur Doublon: 5.3491202_-3.9888312_32.png\n",
      "Indice: 116655, Valeur Doublon: 5.3491202_-3.9888312_33.png\n",
      "Indice: 116657, Valeur Doublon: 5.3491202_-3.9888312_34.png\n",
      "Indice: 116659, Valeur Doublon: 5.3491202_-3.9888312_35.png\n",
      "Indice: 116661, Valeur Doublon: 5.3491202_-3.9888312_36.png\n",
      "Indice: 116663, Valeur Doublon: 5.3491202_-3.9888312_37.png\n",
      "Indice: 116665, Valeur Doublon: 5.3491202_-3.9888312_38.png\n",
      "Indice: 116667, Valeur Doublon: 5.3491202_-3.9888312_39.png\n",
      "Indice: 116669, Valeur Doublon: 5.3491202_-3.9888312_4.png\n",
      "Indice: 116671, Valeur Doublon: 5.3491202_-3.9888312_40.png\n",
      "Indice: 116673, Valeur Doublon: 5.3491202_-3.9888312_41.png\n",
      "Indice: 116675, Valeur Doublon: 5.3491202_-3.9888312_42.png\n",
      "Indice: 116677, Valeur Doublon: 5.3491202_-3.9888312_43.png\n",
      "Indice: 116679, Valeur Doublon: 5.3491202_-3.9888312_44.png\n",
      "Indice: 116681, Valeur Doublon: 5.3491202_-3.9888312_45.png\n",
      "Indice: 116683, Valeur Doublon: 5.3491202_-3.9888312_46.png\n",
      "Indice: 116685, Valeur Doublon: 5.3491202_-3.9888312_47.png\n",
      "Indice: 116687, Valeur Doublon: 5.3491202_-3.9888312_48.png\n",
      "Indice: 116689, Valeur Doublon: 5.3491202_-3.9888312_49.png\n",
      "Indice: 116691, Valeur Doublon: 5.3491202_-3.9888312_5.png\n",
      "Indice: 116693, Valeur Doublon: 5.3491202_-3.9888312_50.png\n",
      "Indice: 116695, Valeur Doublon: 5.3491202_-3.9888312_51.png\n",
      "Indice: 116697, Valeur Doublon: 5.3491202_-3.9888312_52.png\n",
      "Indice: 116699, Valeur Doublon: 5.3491202_-3.9888312_53.png\n",
      "Indice: 116701, Valeur Doublon: 5.3491202_-3.9888312_54.png\n",
      "Indice: 116703, Valeur Doublon: 5.3491202_-3.9888312_55.png\n",
      "Indice: 116705, Valeur Doublon: 5.3491202_-3.9888312_56.png\n",
      "Indice: 116707, Valeur Doublon: 5.3491202_-3.9888312_57.png\n",
      "Indice: 116709, Valeur Doublon: 5.3491202_-3.9888312_58.png\n",
      "Indice: 116711, Valeur Doublon: 5.3491202_-3.9888312_59.png\n",
      "Indice: 116713, Valeur Doublon: 5.3491202_-3.9888312_6.png\n",
      "Indice: 116715, Valeur Doublon: 5.3491202_-3.9888312_60.png\n",
      "Indice: 116717, Valeur Doublon: 5.3491202_-3.9888312_61.png\n",
      "Indice: 116719, Valeur Doublon: 5.3491202_-3.9888312_62.png\n",
      "Indice: 116721, Valeur Doublon: 5.3491202_-3.9888312_63.png\n",
      "Indice: 116723, Valeur Doublon: 5.3491202_-3.9888312_64.png\n",
      "Indice: 116725, Valeur Doublon: 5.3491202_-3.9888312_65.png\n",
      "Indice: 116727, Valeur Doublon: 5.3491202_-3.9888312_66.png\n",
      "Indice: 116729, Valeur Doublon: 5.3491202_-3.9888312_67.png\n",
      "Indice: 116731, Valeur Doublon: 5.3491202_-3.9888312_68.png\n",
      "Indice: 116733, Valeur Doublon: 5.3491202_-3.9888312_69.png\n",
      "Indice: 116735, Valeur Doublon: 5.3491202_-3.9888312_7.png\n",
      "Indice: 116737, Valeur Doublon: 5.3491202_-3.9888312_70.png\n",
      "Indice: 116739, Valeur Doublon: 5.3491202_-3.9888312_71.png\n",
      "Indice: 116741, Valeur Doublon: 5.3491202_-3.9888312_72.png\n",
      "Indice: 116743, Valeur Doublon: 5.3491202_-3.9888312_73.png\n",
      "Indice: 116745, Valeur Doublon: 5.3491202_-3.9888312_74.png\n",
      "Indice: 116747, Valeur Doublon: 5.3491202_-3.9888312_75.png\n",
      "Indice: 116749, Valeur Doublon: 5.3491202_-3.9888312_76.png\n",
      "Indice: 116751, Valeur Doublon: 5.3491202_-3.9888312_77.png\n",
      "Indice: 116753, Valeur Doublon: 5.3491202_-3.9888312_78.png\n",
      "Indice: 116755, Valeur Doublon: 5.3491202_-3.9888312_79.png\n",
      "Indice: 116757, Valeur Doublon: 5.3491202_-3.9888312_8.png\n",
      "Indice: 116759, Valeur Doublon: 5.3491202_-3.9888312_80.png\n",
      "Indice: 116761, Valeur Doublon: 5.3491202_-3.9888312_81.png\n",
      "Indice: 116763, Valeur Doublon: 5.3491202_-3.9888312_82.png\n",
      "Indice: 116765, Valeur Doublon: 5.3491202_-3.9888312_83.png\n",
      "Indice: 116767, Valeur Doublon: 5.3491202_-3.9888312_84.png\n",
      "Indice: 116769, Valeur Doublon: 5.3491202_-3.9888312_85.png\n",
      "Indice: 116771, Valeur Doublon: 5.3491202_-3.9888312_86.png\n",
      "Indice: 116773, Valeur Doublon: 5.3491202_-3.9888312_87.png\n",
      "Indice: 116775, Valeur Doublon: 5.3491202_-3.9888312_88.png\n",
      "Indice: 116777, Valeur Doublon: 5.3491202_-3.9888312_89.png\n",
      "Indice: 116779, Valeur Doublon: 5.3491202_-3.9888312_9.png\n",
      "Indice: 116781, Valeur Doublon: 5.3491202_-3.9888312_90.png\n",
      "Indice: 116783, Valeur Doublon: 5.3491202_-3.9888312_91.png\n",
      "Indice: 116785, Valeur Doublon: 5.3491202_-3.9888312_92.png\n",
      "Indice: 116787, Valeur Doublon: 5.3491202_-3.9888312_93.png\n",
      "Indice: 116789, Valeur Doublon: 5.3491202_-3.9888312_94.png\n",
      "Indice: 116791, Valeur Doublon: 5.3491202_-3.9888312_95.png\n",
      "Indice: 116793, Valeur Doublon: 5.3491202_-3.9888312_96.png\n",
      "Indice: 116795, Valeur Doublon: 5.3491202_-3.9888312_97.png\n",
      "Indice: 116797, Valeur Doublon: 5.3491202_-3.9888312_98.png\n",
      "Indice: 116799, Valeur Doublon: 5.3491202_-3.9888312_99.png\n",
      "DataFrame fusionné sans doublons sauvegardé sous D:\\Poverty_Predict_Par_Milieu\\Data_urbain\\df_download_50m_moitie_IPM_100_vf.csv\n",
      "Nombre total d'images : 1297700\n"
     ]
    }
   ],
   "source": [
    "# Exécution principale\n",
    "df_download_result, df_download_sans_doublons_result = process_images_and_merge_data(csv_file_path, images_folder_path, save_folder_path, X, moitiequarts, Y)\n"
   ]
  },
  {
   "cell_type": "code",
   "execution_count": 14,
   "metadata": {},
   "outputs": [
    {
     "data": {
      "text/html": [
       "<div>\n",
       "<style scoped>\n",
       "    .dataframe tbody tr th:only-of-type {\n",
       "        vertical-align: middle;\n",
       "    }\n",
       "\n",
       "    .dataframe tbody tr th {\n",
       "        vertical-align: top;\n",
       "    }\n",
       "\n",
       "    .dataframe thead th {\n",
       "        text-align: right;\n",
       "    }\n",
       "</style>\n",
       "<table border=\"1\" class=\"dataframe\">\n",
       "  <thead>\n",
       "    <tr style=\"text-align: right;\">\n",
       "      <th></th>\n",
       "      <th>image_name</th>\n",
       "      <th>menage_lat</th>\n",
       "      <th>menage_lon</th>\n",
       "      <th>grappe</th>\n",
       "      <th>hhweight</th>\n",
       "      <th>hhsize</th>\n",
       "      <th>is_train</th>\n",
       "      <th>pcexp</th>\n",
       "      <th>nightlights_50m</th>\n",
       "      <th>nightlights_50m_bins</th>\n",
       "    </tr>\n",
       "  </thead>\n",
       "  <tbody>\n",
       "    <tr>\n",
       "      <th>0</th>\n",
       "      <td>10.0052188_-5.9011314_1.png</td>\n",
       "      <td>10.005219</td>\n",
       "      <td>-5.901131</td>\n",
       "      <td>167</td>\n",
       "      <td>547.83280</td>\n",
       "      <td>1</td>\n",
       "      <td>False</td>\n",
       "      <td>695713.06</td>\n",
       "      <td>17.569902</td>\n",
       "      <td>5</td>\n",
       "    </tr>\n",
       "    <tr>\n",
       "      <th>1</th>\n",
       "      <td>10.0052188_-5.9011314_10.png</td>\n",
       "      <td>10.005219</td>\n",
       "      <td>-5.901131</td>\n",
       "      <td>167</td>\n",
       "      <td>547.83280</td>\n",
       "      <td>1</td>\n",
       "      <td>False</td>\n",
       "      <td>695713.06</td>\n",
       "      <td>17.569902</td>\n",
       "      <td>5</td>\n",
       "    </tr>\n",
       "    <tr>\n",
       "      <th>2</th>\n",
       "      <td>10.0052188_-5.9011314_100.png</td>\n",
       "      <td>10.005219</td>\n",
       "      <td>-5.901131</td>\n",
       "      <td>167</td>\n",
       "      <td>547.83280</td>\n",
       "      <td>1</td>\n",
       "      <td>False</td>\n",
       "      <td>695713.06</td>\n",
       "      <td>17.569902</td>\n",
       "      <td>5</td>\n",
       "    </tr>\n",
       "    <tr>\n",
       "      <th>3</th>\n",
       "      <td>10.0052188_-5.9011314_11.png</td>\n",
       "      <td>10.005219</td>\n",
       "      <td>-5.901131</td>\n",
       "      <td>167</td>\n",
       "      <td>547.83280</td>\n",
       "      <td>1</td>\n",
       "      <td>False</td>\n",
       "      <td>695713.06</td>\n",
       "      <td>17.569902</td>\n",
       "      <td>5</td>\n",
       "    </tr>\n",
       "    <tr>\n",
       "      <th>4</th>\n",
       "      <td>10.0052188_-5.9011314_12.png</td>\n",
       "      <td>10.005219</td>\n",
       "      <td>-5.901131</td>\n",
       "      <td>167</td>\n",
       "      <td>547.83280</td>\n",
       "      <td>1</td>\n",
       "      <td>False</td>\n",
       "      <td>695713.06</td>\n",
       "      <td>17.569902</td>\n",
       "      <td>5</td>\n",
       "    </tr>\n",
       "    <tr>\n",
       "      <th>...</th>\n",
       "      <td>...</td>\n",
       "      <td>...</td>\n",
       "      <td>...</td>\n",
       "      <td>...</td>\n",
       "      <td>...</td>\n",
       "      <td>...</td>\n",
       "      <td>...</td>\n",
       "      <td>...</td>\n",
       "      <td>...</td>\n",
       "      <td>...</td>\n",
       "    </tr>\n",
       "    <tr>\n",
       "      <th>526695</th>\n",
       "      <td>9.99659178312868_-7.83548598177731_95.png</td>\n",
       "      <td>9.996592</td>\n",
       "      <td>-7.835486</td>\n",
       "      <td>800</td>\n",
       "      <td>84.23976</td>\n",
       "      <td>7</td>\n",
       "      <td>False</td>\n",
       "      <td>475279.28</td>\n",
       "      <td>3.531191</td>\n",
       "      <td>0</td>\n",
       "    </tr>\n",
       "    <tr>\n",
       "      <th>526696</th>\n",
       "      <td>9.99659178312868_-7.83548598177731_96.png</td>\n",
       "      <td>9.996592</td>\n",
       "      <td>-7.835486</td>\n",
       "      <td>800</td>\n",
       "      <td>84.23976</td>\n",
       "      <td>7</td>\n",
       "      <td>False</td>\n",
       "      <td>475279.28</td>\n",
       "      <td>3.531191</td>\n",
       "      <td>0</td>\n",
       "    </tr>\n",
       "    <tr>\n",
       "      <th>526697</th>\n",
       "      <td>9.99659178312868_-7.83548598177731_97.png</td>\n",
       "      <td>9.996592</td>\n",
       "      <td>-7.835486</td>\n",
       "      <td>800</td>\n",
       "      <td>84.23976</td>\n",
       "      <td>7</td>\n",
       "      <td>False</td>\n",
       "      <td>475279.28</td>\n",
       "      <td>3.531191</td>\n",
       "      <td>0</td>\n",
       "    </tr>\n",
       "    <tr>\n",
       "      <th>526698</th>\n",
       "      <td>9.99659178312868_-7.83548598177731_98.png</td>\n",
       "      <td>9.996592</td>\n",
       "      <td>-7.835486</td>\n",
       "      <td>800</td>\n",
       "      <td>84.23976</td>\n",
       "      <td>7</td>\n",
       "      <td>False</td>\n",
       "      <td>475279.28</td>\n",
       "      <td>3.531191</td>\n",
       "      <td>0</td>\n",
       "    </tr>\n",
       "    <tr>\n",
       "      <th>526699</th>\n",
       "      <td>9.99659178312868_-7.83548598177731_99.png</td>\n",
       "      <td>9.996592</td>\n",
       "      <td>-7.835486</td>\n",
       "      <td>800</td>\n",
       "      <td>84.23976</td>\n",
       "      <td>7</td>\n",
       "      <td>False</td>\n",
       "      <td>475279.28</td>\n",
       "      <td>3.531191</td>\n",
       "      <td>0</td>\n",
       "    </tr>\n",
       "  </tbody>\n",
       "</table>\n",
       "<p>526700 rows × 10 columns</p>\n",
       "</div>"
      ],
      "text/plain": [
       "                                       image_name  menage_lat  menage_lon  \\\n",
       "0                     10.0052188_-5.9011314_1.png   10.005219   -5.901131   \n",
       "1                    10.0052188_-5.9011314_10.png   10.005219   -5.901131   \n",
       "2                   10.0052188_-5.9011314_100.png   10.005219   -5.901131   \n",
       "3                    10.0052188_-5.9011314_11.png   10.005219   -5.901131   \n",
       "4                    10.0052188_-5.9011314_12.png   10.005219   -5.901131   \n",
       "...                                           ...         ...         ...   \n",
       "526695  9.99659178312868_-7.83548598177731_95.png    9.996592   -7.835486   \n",
       "526696  9.99659178312868_-7.83548598177731_96.png    9.996592   -7.835486   \n",
       "526697  9.99659178312868_-7.83548598177731_97.png    9.996592   -7.835486   \n",
       "526698  9.99659178312868_-7.83548598177731_98.png    9.996592   -7.835486   \n",
       "526699  9.99659178312868_-7.83548598177731_99.png    9.996592   -7.835486   \n",
       "\n",
       "        grappe   hhweight  hhsize  is_train      pcexp  nightlights_50m  \\\n",
       "0          167  547.83280       1     False  695713.06        17.569902   \n",
       "1          167  547.83280       1     False  695713.06        17.569902   \n",
       "2          167  547.83280       1     False  695713.06        17.569902   \n",
       "3          167  547.83280       1     False  695713.06        17.569902   \n",
       "4          167  547.83280       1     False  695713.06        17.569902   \n",
       "...        ...        ...     ...       ...        ...              ...   \n",
       "526695     800   84.23976       7     False  475279.28         3.531191   \n",
       "526696     800   84.23976       7     False  475279.28         3.531191   \n",
       "526697     800   84.23976       7     False  475279.28         3.531191   \n",
       "526698     800   84.23976       7     False  475279.28         3.531191   \n",
       "526699     800   84.23976       7     False  475279.28         3.531191   \n",
       "\n",
       "        nightlights_50m_bins  \n",
       "0                          5  \n",
       "1                          5  \n",
       "2                          5  \n",
       "3                          5  \n",
       "4                          5  \n",
       "...                      ...  \n",
       "526695                     0  \n",
       "526696                     0  \n",
       "526697                     0  \n",
       "526698                     0  \n",
       "526699                     0  \n",
       "\n",
       "[526700 rows x 10 columns]"
      ]
     },
     "execution_count": 14,
     "metadata": {},
     "output_type": "execute_result"
    }
   ],
   "source": [
    "pd.read_csv(f'D:\\\\Poverty_Predict_Par_Milieu\\\\{Data_milieu}\\\\df_download_{X}m_{moitiequarts}_IPM_{Y}_vf.csv')\n"
   ]
  },
  {
   "cell_type": "code",
   "execution_count": 15,
   "metadata": {},
   "outputs": [],
   "source": [
    "essaie=pd.read_csv(f'D:\\\\Poverty_Predict_Par_Milieu\\\\{Data_milieu}\\\\df_download_{X}m_{moitiequarts}_IPM_{Y}_vf.csv')\n"
   ]
  },
  {
   "cell_type": "code",
   "execution_count": 16,
   "metadata": {},
   "outputs": [
    {
     "data": {
      "text/plain": [
       "88000"
      ]
     },
     "execution_count": 16,
     "metadata": {},
     "output_type": "execute_result"
    }
   ],
   "source": [
    "sum(essaie[\"is_train\"])"
   ]
  },
  {
   "cell_type": "code",
   "execution_count": 17,
   "metadata": {},
   "outputs": [],
   "source": [
    "essaie_2=pd.read_csv(f'D:\\\\Poverty_Predict_Par_Milieu\\\\{Data_milieu}\\\\df_nightlights_{X}m_{moitiequarts}_IPM_{Y}_marked.csv')"
   ]
  },
  {
   "cell_type": "code",
   "execution_count": 18,
   "metadata": {},
   "outputs": [
    {
     "data": {
      "text/plain": [
       "880"
      ]
     },
     "execution_count": 18,
     "metadata": {},
     "output_type": "execute_result"
    }
   ],
   "source": [
    "sum(essaie_2[\"is_train\"])"
   ]
  },
  {
   "cell_type": "code",
   "execution_count": 19,
   "metadata": {},
   "outputs": [],
   "source": [
    "#### globals()[df_name] est équivalent à df_download_Xm_moitiequarts_IPM_Y"
   ]
  },
  {
   "cell_type": "markdown",
   "metadata": {},
   "source": [
    "##### On divise les données en ensemble d'entrainement et en ensemble de validation avec un ménage par ZD dans le training set et le reste dans le validation set "
   ]
  },
  {
   "cell_type": "code",
   "execution_count": 20,
   "metadata": {},
   "outputs": [],
   "source": [
    "import pandas as pd\n",
    "import numpy as np\n",
    "import os\n",
    "from tqdm import tqdm\n",
    "import pandas as pd\n",
    "\n",
    "\n",
    "def load_and_split_data(file_path, X, moitiequarts, Y):\n",
    "    \"\"\"Charge le DataFrame et divise les données en ensembles d'entraînement et de validation basés sur la colonne 'is_train'.\"\"\"\n",
    "    # Générer le nom dynamique du DataFrame\n",
    "    df_name = f\"df_download_{X}m_{moitiequarts}_IPM_{Y}\"\n",
    "    \n",
    "    # Charger le DataFrame\n",
    "    df = pd.read_csv(file_path)\n",
    "    \n",
    "    # Séparer les données en ensembles d'entraînement et de validation\n",
    "    df_train = df[df['is_train'] == True]\n",
    "    df_valid = df[df['is_train'] == False]\n",
    "    \n",
    "    # Afficher la proportion d'éléments dans l'ensemble d'entraînement\n",
    "    train_proportion = df_train.shape[0] / df.shape[0]\n",
    "    print(f\"Proportion d'éléments dans l'ensemble d'entraînement : {train_proportion}\")\n",
    "    \n",
    "    # Retourner les DataFrames et le nom dynamique\n",
    "    return df, df_train, df_valid, df_name"
   ]
  },
  {
   "cell_type": "code",
   "execution_count": 21,
   "metadata": {},
   "outputs": [
    {
     "name": "stdout",
     "output_type": "stream",
     "text": [
      "Proportion d'éléments dans l'ensemble d'entraînement : 0.1670780330358838\n"
     ]
    }
   ],
   "source": [
    "# Paramètres de l'utilisateur\n",
    "X = 50\n",
    "moitiequarts = 'moitie'\n",
    "Y = 100\n",
    "Data_milieu='Data_urbain'\n",
    "# Chemin du fichier\n",
    "file_path = f'D:\\\\Poverty_Predict_Par_Milieu\\\\{Data_milieu}\\\\df_download_{X}m_{moitiequarts}_IPM_{Y}_vf.csv'\n",
    "\n",
    "# Exécution principale\n",
    "df_download_result, df_train, df_valid, df_name = load_and_split_data(file_path, X, moitiequarts, Y)"
   ]
  },
  {
   "cell_type": "code",
   "execution_count": 22,
   "metadata": {},
   "outputs": [
    {
     "name": "stdout",
     "output_type": "stream",
     "text": [
      "Affichage de df_download_50m_moitie_IPM_100 :\n",
      "                      image_name  menage_lat  menage_lon  grappe  hhweight  \\\n",
      "0    10.0052188_-5.9011314_1.png   10.005219   -5.901131     167  547.8328   \n",
      "1   10.0052188_-5.9011314_10.png   10.005219   -5.901131     167  547.8328   \n",
      "2  10.0052188_-5.9011314_100.png   10.005219   -5.901131     167  547.8328   \n",
      "3   10.0052188_-5.9011314_11.png   10.005219   -5.901131     167  547.8328   \n",
      "4   10.0052188_-5.9011314_12.png   10.005219   -5.901131     167  547.8328   \n",
      "\n",
      "   hhsize  is_train      pcexp  nightlights_50m  nightlights_50m_bins  \n",
      "0       1     False  695713.06        17.569902                     5  \n",
      "1       1     False  695713.06        17.569902                     5  \n",
      "2       1     False  695713.06        17.569902                     5  \n",
      "3       1     False  695713.06        17.569902                     5  \n",
      "4       1     False  695713.06        17.569902                     5  \n"
     ]
    }
   ],
   "source": [
    "# Attribuer le DataFrame à une variable avec un nom dynamique\n",
    "globals()[df_name] = df_download_result\n",
    "\n",
    "# Affichage du DataFrame modifié\n",
    "print(f\"Affichage de {df_name} :\")\n",
    "print(globals()[df_name].head()) \n",
    "\n"
   ]
  },
  {
   "cell_type": "code",
   "execution_count": 23,
   "metadata": {},
   "outputs": [
    {
     "name": "stdout",
     "output_type": "stream",
     "text": [
      "Proportion des données dans l'ensemble d'entraînement : 0.1670780330358838\n",
      "DataFrame d'entraînement sauvegardé sous D:/Poverty_Predict_Par_Milieu/Data_urbain/df_download_50m_moitie_IPM_100_train.csv\n",
      "DataFrame de validation sauvegardé sous D:/Poverty_Predict_Par_Milieu/Data_urbain/df_download_50m_moitie_IPM_100_valid.csv\n",
      "Ensemble d'entraînement :\n",
      "                        image_name  menage_lat  menage_lon  grappe  hhweight  \\\n",
      "200    10.0074722_-5.9032249_1.png   10.007472   -5.903225     167  547.8328   \n",
      "201   10.0074722_-5.9032249_10.png   10.007472   -5.903225     167  547.8328   \n",
      "202  10.0074722_-5.9032249_100.png   10.007472   -5.903225     167  547.8328   \n",
      "203   10.0074722_-5.9032249_11.png   10.007472   -5.903225     167  547.8328   \n",
      "204   10.0074722_-5.9032249_12.png   10.007472   -5.903225     167  547.8328   \n",
      "\n",
      "     hhsize  is_train      pcexp  nightlights_50m  nightlights_50m_bins  \n",
      "200       5      True  328734.94         5.994053                     0  \n",
      "201       5      True  328734.94         5.994053                     0  \n",
      "202       5      True  328734.94         5.994053                     0  \n",
      "203       5      True  328734.94         5.994053                     0  \n",
      "204       5      True  328734.94         5.994053                     0  \n",
      "Ensemble de validation :\n",
      "                      image_name  menage_lat  menage_lon  grappe  hhweight  \\\n",
      "0    10.0052188_-5.9011314_1.png   10.005219   -5.901131     167  547.8328   \n",
      "1   10.0052188_-5.9011314_10.png   10.005219   -5.901131     167  547.8328   \n",
      "2  10.0052188_-5.9011314_100.png   10.005219   -5.901131     167  547.8328   \n",
      "3   10.0052188_-5.9011314_11.png   10.005219   -5.901131     167  547.8328   \n",
      "4   10.0052188_-5.9011314_12.png   10.005219   -5.901131     167  547.8328   \n",
      "\n",
      "   hhsize  is_train      pcexp  nightlights_50m  nightlights_50m_bins  \n",
      "0       1     False  695713.06        17.569902                     5  \n",
      "1       1     False  695713.06        17.569902                     5  \n",
      "2       1     False  695713.06        17.569902                     5  \n",
      "3       1     False  695713.06        17.569902                     5  \n",
      "4       1     False  695713.06        17.569902                     5  \n"
     ]
    }
   ],
   "source": [
    "# Afficher la proportion des données dans l'ensemble d'entraînement\n",
    "train_proportion = globals()[df_name]['is_train'].mean()\n",
    "print(f\"Proportion des données dans l'ensemble d'entraînement : {train_proportion}\")\n",
    "\n",
    "# Sauvegarder les DataFrames d'entraînement et de validation\n",
    "train_file_path = f'D:/Poverty_Predict_Par_Milieu/{Data_milieu}/{df_name}_train.csv'\n",
    "valid_file_path = f'D:/Poverty_Predict_Par_Milieu/{Data_milieu}/{df_name}_valid.csv'\n",
    "df_train.to_csv(train_file_path, index=False)\n",
    "df_valid.to_csv(valid_file_path, index=False)\n",
    "\n",
    "print(f\"DataFrame d'entraînement sauvegardé sous {train_file_path}\")\n",
    "print(f\"DataFrame de validation sauvegardé sous {valid_file_path}\")\n",
    "\n",
    "# Vérification finale\n",
    "print(\"Ensemble d'entraînement :\")\n",
    "print(df_train.head())\n",
    "print(\"Ensemble de validation :\")\n",
    "print(df_valid.head())\n",
    "\n"
   ]
  },
  {
   "cell_type": "code",
   "execution_count": 24,
   "metadata": {},
   "outputs": [
    {
     "name": "stdout",
     "output_type": "stream",
     "text": [
      "Ensemble d'entraînement :\n",
      "<class 'pandas.core.frame.DataFrame'>\n",
      "Index: 88000 entries, 200 to 525899\n",
      "Data columns (total 10 columns):\n",
      " #   Column                Non-Null Count  Dtype  \n",
      "---  ------                --------------  -----  \n",
      " 0   image_name            88000 non-null  object \n",
      " 1   menage_lat            88000 non-null  float64\n",
      " 2   menage_lon            88000 non-null  float64\n",
      " 3   grappe                88000 non-null  int64  \n",
      " 4   hhweight              88000 non-null  float64\n",
      " 5   hhsize                88000 non-null  int64  \n",
      " 6   is_train              88000 non-null  bool   \n",
      " 7   pcexp                 88000 non-null  float64\n",
      " 8   nightlights_50m       88000 non-null  float64\n",
      " 9   nightlights_50m_bins  88000 non-null  int64  \n",
      "dtypes: bool(1), float64(5), int64(3), object(1)\n",
      "memory usage: 6.8+ MB\n",
      "None\n",
      "Ensemble de validation :\n",
      "<class 'pandas.core.frame.DataFrame'>\n",
      "Index: 438700 entries, 0 to 526699\n",
      "Data columns (total 10 columns):\n",
      " #   Column                Non-Null Count   Dtype  \n",
      "---  ------                --------------   -----  \n",
      " 0   image_name            438700 non-null  object \n",
      " 1   menage_lat            438700 non-null  float64\n",
      " 2   menage_lon            438700 non-null  float64\n",
      " 3   grappe                438700 non-null  int64  \n",
      " 4   hhweight              438700 non-null  float64\n",
      " 5   hhsize                438700 non-null  int64  \n",
      " 6   is_train              438700 non-null  bool   \n",
      " 7   pcexp                 438700 non-null  float64\n",
      " 8   nightlights_50m       438700 non-null  float64\n",
      " 9   nightlights_50m_bins  438700 non-null  int64  \n",
      "dtypes: bool(1), float64(5), int64(3), object(1)\n",
      "memory usage: 33.9+ MB\n",
      "None\n"
     ]
    }
   ],
   "source": [
    "print(\"Ensemble d'entraînement :\")\n",
    "print(df_train.info())\n",
    "print(\"Ensemble de validation :\")\n",
    "print(df_valid.info())"
   ]
  },
  {
   "cell_type": "code",
   "execution_count": 25,
   "metadata": {},
   "outputs": [],
   "source": [
    "# On voit qu'on entraine sur 880 ménages et on valide sur 4387"
   ]
  },
  {
   "cell_type": "markdown",
   "metadata": {},
   "source": [
    "##### Creation des dossiers training et validation set pour accueillir les données"
   ]
  },
  {
   "cell_type": "code",
   "execution_count": 26,
   "metadata": {},
   "outputs": [
    {
     "data": {
      "text/html": [
       "<div>\n",
       "<style scoped>\n",
       "    .dataframe tbody tr th:only-of-type {\n",
       "        vertical-align: middle;\n",
       "    }\n",
       "\n",
       "    .dataframe tbody tr th {\n",
       "        vertical-align: top;\n",
       "    }\n",
       "\n",
       "    .dataframe thead th {\n",
       "        text-align: right;\n",
       "    }\n",
       "</style>\n",
       "<table border=\"1\" class=\"dataframe\">\n",
       "  <thead>\n",
       "    <tr style=\"text-align: right;\">\n",
       "      <th></th>\n",
       "      <th>image_name</th>\n",
       "      <th>menage_lat</th>\n",
       "      <th>menage_lon</th>\n",
       "      <th>grappe</th>\n",
       "      <th>hhweight</th>\n",
       "      <th>hhsize</th>\n",
       "      <th>is_train</th>\n",
       "      <th>pcexp</th>\n",
       "      <th>nightlights_50m</th>\n",
       "      <th>nightlights_50m_bins</th>\n",
       "    </tr>\n",
       "  </thead>\n",
       "  <tbody>\n",
       "    <tr>\n",
       "      <th>0</th>\n",
       "      <td>10.0052188_-5.9011314_1.png</td>\n",
       "      <td>10.005219</td>\n",
       "      <td>-5.901131</td>\n",
       "      <td>167</td>\n",
       "      <td>547.83280</td>\n",
       "      <td>1</td>\n",
       "      <td>False</td>\n",
       "      <td>695713.06</td>\n",
       "      <td>17.569902</td>\n",
       "      <td>5</td>\n",
       "    </tr>\n",
       "    <tr>\n",
       "      <th>1</th>\n",
       "      <td>10.0052188_-5.9011314_10.png</td>\n",
       "      <td>10.005219</td>\n",
       "      <td>-5.901131</td>\n",
       "      <td>167</td>\n",
       "      <td>547.83280</td>\n",
       "      <td>1</td>\n",
       "      <td>False</td>\n",
       "      <td>695713.06</td>\n",
       "      <td>17.569902</td>\n",
       "      <td>5</td>\n",
       "    </tr>\n",
       "    <tr>\n",
       "      <th>2</th>\n",
       "      <td>10.0052188_-5.9011314_100.png</td>\n",
       "      <td>10.005219</td>\n",
       "      <td>-5.901131</td>\n",
       "      <td>167</td>\n",
       "      <td>547.83280</td>\n",
       "      <td>1</td>\n",
       "      <td>False</td>\n",
       "      <td>695713.06</td>\n",
       "      <td>17.569902</td>\n",
       "      <td>5</td>\n",
       "    </tr>\n",
       "    <tr>\n",
       "      <th>3</th>\n",
       "      <td>10.0052188_-5.9011314_11.png</td>\n",
       "      <td>10.005219</td>\n",
       "      <td>-5.901131</td>\n",
       "      <td>167</td>\n",
       "      <td>547.83280</td>\n",
       "      <td>1</td>\n",
       "      <td>False</td>\n",
       "      <td>695713.06</td>\n",
       "      <td>17.569902</td>\n",
       "      <td>5</td>\n",
       "    </tr>\n",
       "    <tr>\n",
       "      <th>4</th>\n",
       "      <td>10.0052188_-5.9011314_12.png</td>\n",
       "      <td>10.005219</td>\n",
       "      <td>-5.901131</td>\n",
       "      <td>167</td>\n",
       "      <td>547.83280</td>\n",
       "      <td>1</td>\n",
       "      <td>False</td>\n",
       "      <td>695713.06</td>\n",
       "      <td>17.569902</td>\n",
       "      <td>5</td>\n",
       "    </tr>\n",
       "    <tr>\n",
       "      <th>...</th>\n",
       "      <td>...</td>\n",
       "      <td>...</td>\n",
       "      <td>...</td>\n",
       "      <td>...</td>\n",
       "      <td>...</td>\n",
       "      <td>...</td>\n",
       "      <td>...</td>\n",
       "      <td>...</td>\n",
       "      <td>...</td>\n",
       "      <td>...</td>\n",
       "    </tr>\n",
       "    <tr>\n",
       "      <th>526695</th>\n",
       "      <td>9.99659178312868_-7.83548598177731_95.png</td>\n",
       "      <td>9.996592</td>\n",
       "      <td>-7.835486</td>\n",
       "      <td>800</td>\n",
       "      <td>84.23976</td>\n",
       "      <td>7</td>\n",
       "      <td>False</td>\n",
       "      <td>475279.28</td>\n",
       "      <td>3.531191</td>\n",
       "      <td>0</td>\n",
       "    </tr>\n",
       "    <tr>\n",
       "      <th>526696</th>\n",
       "      <td>9.99659178312868_-7.83548598177731_96.png</td>\n",
       "      <td>9.996592</td>\n",
       "      <td>-7.835486</td>\n",
       "      <td>800</td>\n",
       "      <td>84.23976</td>\n",
       "      <td>7</td>\n",
       "      <td>False</td>\n",
       "      <td>475279.28</td>\n",
       "      <td>3.531191</td>\n",
       "      <td>0</td>\n",
       "    </tr>\n",
       "    <tr>\n",
       "      <th>526697</th>\n",
       "      <td>9.99659178312868_-7.83548598177731_97.png</td>\n",
       "      <td>9.996592</td>\n",
       "      <td>-7.835486</td>\n",
       "      <td>800</td>\n",
       "      <td>84.23976</td>\n",
       "      <td>7</td>\n",
       "      <td>False</td>\n",
       "      <td>475279.28</td>\n",
       "      <td>3.531191</td>\n",
       "      <td>0</td>\n",
       "    </tr>\n",
       "    <tr>\n",
       "      <th>526698</th>\n",
       "      <td>9.99659178312868_-7.83548598177731_98.png</td>\n",
       "      <td>9.996592</td>\n",
       "      <td>-7.835486</td>\n",
       "      <td>800</td>\n",
       "      <td>84.23976</td>\n",
       "      <td>7</td>\n",
       "      <td>False</td>\n",
       "      <td>475279.28</td>\n",
       "      <td>3.531191</td>\n",
       "      <td>0</td>\n",
       "    </tr>\n",
       "    <tr>\n",
       "      <th>526699</th>\n",
       "      <td>9.99659178312868_-7.83548598177731_99.png</td>\n",
       "      <td>9.996592</td>\n",
       "      <td>-7.835486</td>\n",
       "      <td>800</td>\n",
       "      <td>84.23976</td>\n",
       "      <td>7</td>\n",
       "      <td>False</td>\n",
       "      <td>475279.28</td>\n",
       "      <td>3.531191</td>\n",
       "      <td>0</td>\n",
       "    </tr>\n",
       "  </tbody>\n",
       "</table>\n",
       "<p>526700 rows × 10 columns</p>\n",
       "</div>"
      ],
      "text/plain": [
       "                                       image_name  menage_lat  menage_lon  \\\n",
       "0                     10.0052188_-5.9011314_1.png   10.005219   -5.901131   \n",
       "1                    10.0052188_-5.9011314_10.png   10.005219   -5.901131   \n",
       "2                   10.0052188_-5.9011314_100.png   10.005219   -5.901131   \n",
       "3                    10.0052188_-5.9011314_11.png   10.005219   -5.901131   \n",
       "4                    10.0052188_-5.9011314_12.png   10.005219   -5.901131   \n",
       "...                                           ...         ...         ...   \n",
       "526695  9.99659178312868_-7.83548598177731_95.png    9.996592   -7.835486   \n",
       "526696  9.99659178312868_-7.83548598177731_96.png    9.996592   -7.835486   \n",
       "526697  9.99659178312868_-7.83548598177731_97.png    9.996592   -7.835486   \n",
       "526698  9.99659178312868_-7.83548598177731_98.png    9.996592   -7.835486   \n",
       "526699  9.99659178312868_-7.83548598177731_99.png    9.996592   -7.835486   \n",
       "\n",
       "        grappe   hhweight  hhsize  is_train      pcexp  nightlights_50m  \\\n",
       "0          167  547.83280       1     False  695713.06        17.569902   \n",
       "1          167  547.83280       1     False  695713.06        17.569902   \n",
       "2          167  547.83280       1     False  695713.06        17.569902   \n",
       "3          167  547.83280       1     False  695713.06        17.569902   \n",
       "4          167  547.83280       1     False  695713.06        17.569902   \n",
       "...        ...        ...     ...       ...        ...              ...   \n",
       "526695     800   84.23976       7     False  475279.28         3.531191   \n",
       "526696     800   84.23976       7     False  475279.28         3.531191   \n",
       "526697     800   84.23976       7     False  475279.28         3.531191   \n",
       "526698     800   84.23976       7     False  475279.28         3.531191   \n",
       "526699     800   84.23976       7     False  475279.28         3.531191   \n",
       "\n",
       "        nightlights_50m_bins  \n",
       "0                          5  \n",
       "1                          5  \n",
       "2                          5  \n",
       "3                          5  \n",
       "4                          5  \n",
       "...                      ...  \n",
       "526695                     0  \n",
       "526696                     0  \n",
       "526697                     0  \n",
       "526698                     0  \n",
       "526699                     0  \n",
       "\n",
       "[526700 rows x 10 columns]"
      ]
     },
     "execution_count": 26,
     "metadata": {},
     "output_type": "execute_result"
    }
   ],
   "source": [
    "globals()[df_name]"
   ]
  },
  {
   "cell_type": "code",
   "execution_count": 28,
   "metadata": {},
   "outputs": [
    {
     "name": "stdout",
     "output_type": "stream",
     "text": [
      "Les fichiers de validation et d'entraînement ont été sauvegardés.\n",
      "Nombre d'éléments dans l'ensemble d'entraînement: 88000\n",
      "Nombre d'éléments dans l'ensemble de validation: 438700\n"
     ]
    }
   ],
   "source": [
    "# Préparation des répertoires et chargement des DataFrames d'entraînement et de validation\n",
    "BASE_DIR = r'D:\\Poverty_Predict_Par_Milieu'\n",
    "\n",
    "RANDOM_SEED = 7 # Pour réplication\n",
    "PROCESSED_DIR = os.path.join(BASE_DIR,f'{Data_milieu}', 'processed') \n",
    "\n",
    "CNN_TRAIN_IMAGE_DIR = os.path.join(BASE_DIR, f'{Data_milieu}/cnn_images_{X}m_{moitiequarts}_IPM_{Y}')\n",
    "CNN_SAVE_DIR = os.path.join(BASE_DIR, f'models_{X}m_{moitiequarts}_IPM_{Y}') \n",
    "\n",
    "os.makedirs(CNN_TRAIN_IMAGE_DIR, exist_ok=True)\n",
    "os.makedirs(CNN_SAVE_DIR, exist_ok=True) \n",
    "os.makedirs(PROCESSED_DIR, exist_ok=True) \n",
    "\n",
    "# Calcul du nombre de classes uniques dans 'nightlights_{X}m_bins'\n",
    "nombre_de_classes = globals()[df_name][f'nightlights_{X}m_bins'].nunique()\n",
    "\n",
    "# Création de labels basés sur le nombre de classes\n",
    "labels = [str(i) for i in range(nombre_de_classes)]\n",
    "\n",
    "# Sauvegarde du nouveau DataFrame\n",
    "globals()[df_name].to_csv(os.path.join(PROCESSED_DIR, f'image_download_actual_{X}m_{moitiequarts}_IPM_{Y}.csv'), index=False)\n",
    "\n",
    "# Création des dossiers de base pour 'train' et 'valid'\n",
    "os.makedirs(os.path.join(CNN_TRAIN_IMAGE_DIR, f'train_{X}m_{moitiequarts}_IPM_{Y}'), exist_ok=True)\n",
    "os.makedirs(os.path.join(CNN_TRAIN_IMAGE_DIR, f'valid_{X}m_{moitiequarts}_IPM_{Y}'), exist_ok=True)\n",
    "\n",
    "# Création des sous-dossiers pour chaque label dans 'train' et 'valid'\n",
    "for l in labels:\n",
    "    os.makedirs(os.path.join(CNN_TRAIN_IMAGE_DIR, f'train_{X}m_{moitiequarts}_IPM_{Y}', l), exist_ok=True)\n",
    "    os.makedirs(os.path.join(CNN_TRAIN_IMAGE_DIR, f'valid_{X}m_{moitiequarts}_IPM_{Y}', l), exist_ok=True)\n",
    "\n",
    "# Séparation des ensembles d'entraînement et de validation\n",
    "t = globals()[df_name][globals()[df_name]['is_train']]\n",
    "v = globals()[df_name][~globals()[df_name]['is_train']]\n",
    "\n",
    "# Sauvegarde des ensembles d'entraînement et de validation\n",
    "v.to_csv(os.path.join(BASE_DIR, f'validation_set_{X}m_{moitiequarts}_IPM_{Y}.csv'), index=False)\n",
    "t.to_csv(os.path.join(BASE_DIR, f'training_set_{X}m_{moitiequarts}_IPM_{Y}.csv'), index=False)\n",
    "\n",
    "print(f\"Les fichiers de validation et d'entraînement ont été sauvegardés.\")\n",
    "\n",
    "# Longueur des ensembles d'entraînement et de validation\n",
    "print(f\"Nombre d'éléments dans l'ensemble d'entraînement: {len(t)}\")\n",
    "print(f\"Nombre d'éléments dans l'ensemble de validation: {len(v)}\")"
   ]
  },
  {
   "cell_type": "markdown",
   "metadata": {},
   "source": [
    "#### changement de chemin"
   ]
  },
  {
   "cell_type": "code",
   "execution_count": 29,
   "metadata": {},
   "outputs": [],
   "source": [
    "IMAGE_DIR = r'D:\\Processed_Data_400_42m_100img\\Processed_Data_400\\Image_Nombre_100_images_code_5'\n"
   ]
  },
  {
   "cell_type": "markdown",
   "metadata": {},
   "source": [
    "##### Préparation des directoires, marquages des images d'entrainement et de validation dans des dossiers "
   ]
  },
  {
   "cell_type": "code",
   "execution_count": 30,
   "metadata": {},
   "outputs": [
    {
     "name": "stdout",
     "output_type": "stream",
     "text": [
      "Organizing training images\n"
     ]
    },
    {
     "name": "stderr",
     "output_type": "stream",
     "text": [
      "100%|██████████| 88000/88000 [00:14<00:00, 6202.26it/s]\n"
     ]
    }
   ],
   "source": [
    "# Organiser les images d'entraînement\n",
    "print('Organizing training images')\n",
    "\n",
    "for im_name, nl in tqdm(zip(t['image_name'], t[f'nightlights_{X}m_bins']), total=len(t)):\n",
    "    src = os.path.abspath(os.path.join(IMAGE_DIR, im_name))  \n",
    "    dest = os.path.join(CNN_TRAIN_IMAGE_DIR, f'train_{X}m_{moitiequarts}_IPM_{Y}', str(nl), im_name)\n",
    "    \n",
    "    os.makedirs(os.path.dirname(dest), exist_ok=True)\n",
    "    \n",
    "    try:\n",
    "        os.symlink(src, dest)\n",
    "    except OSError as e:\n",
    "        print(f\"Error creating symlink for {im_name}: {e}\")\n"
   ]
  },
  {
   "cell_type": "code",
   "execution_count": 31,
   "metadata": {},
   "outputs": [
    {
     "name": "stdout",
     "output_type": "stream",
     "text": [
      "Organizing validation images\n"
     ]
    },
    {
     "name": "stderr",
     "output_type": "stream",
     "text": [
      "100%|██████████| 438700/438700 [01:13<00:00, 5994.35it/s]\n"
     ]
    }
   ],
   "source": [
    "# Organiser les images de validation\n",
    "print('Organizing validation images')\n",
    "\n",
    "for im_name, nl in tqdm(zip(v['image_name'], v[f'nightlights_{X}m_bins']), total=len(v)):\n",
    "    src = os.path.abspath(os.path.join(IMAGE_DIR, im_name))  \n",
    "    dest = os.path.join(CNN_TRAIN_IMAGE_DIR, f'valid_{X}m_{moitiequarts}_IPM_{Y}', str(nl), im_name)\n",
    "\n",
    "    os.makedirs(os.path.dirname(dest), exist_ok=True)\n",
    "    \n",
    "    try:\n",
    "        os.symlink(src, dest)\n",
    "    except OSError as e:\n",
    "        print(f\"Error creating symlink for {im_name}: {e}\")\n",
    "\n"
   ]
  },
  {
   "cell_type": "code",
   "execution_count": 32,
   "metadata": {},
   "outputs": [
    {
     "name": "stdout",
     "output_type": "stream",
     "text": [
      "[30400, 11200, 1800, 11300, 21400, 11900]\n",
      "[0.34545454545454546, 0.12727272727272726, 0.020454545454545454, 0.12840909090909092, 0.2431818181818182, 0.13522727272727272]\n",
      "88000\n"
     ]
    }
   ],
   "source": [
    "# Montre le décompte des images par classe dans chaque dossier du training set\n",
    "counts = []\n",
    "for l in range(nombre_de_classes):\n",
    "    folder_name = f\"{l}\" \n",
    "    path_to_folder = os.path.join(CNN_TRAIN_IMAGE_DIR,f'train_{X}m_{moitiequarts}_IPM_{Y}', folder_name)\n",
    "    counts.append(len(os.listdir(path_to_folder)))\n",
    "\n",
    "print(counts)\n",
    "\n",
    "# Calculer la proportion de chaque classe\n",
    "proportions = [c/sum(counts) for c in counts]\n",
    "print(proportions)\n",
    "\n",
    "# Afficher la somme totale pour vérifier\n",
    "print(sum(counts))\n"
   ]
  },
  {
   "cell_type": "markdown",
   "metadata": {},
   "source": [
    "### Entrainement du modèle"
   ]
  },
  {
   "cell_type": "markdown",
   "metadata": {},
   "source": [
    "##### Préparation des Données et du Modèle\n",
    "##### Initialisation du Modèle\n",
    "##### Transformation des Données"
   ]
  },
  {
   "cell_type": "code",
   "execution_count": 33,
   "metadata": {},
   "outputs": [
    {
     "name": "stdout",
     "output_type": "stream",
     "text": [
      "Requirement already satisfied: torchvision in c:\\users\\dell\\anaconda3\\lib\\site-packages (0.17.2+cu118)\n",
      "Requirement already satisfied: numpy in c:\\users\\dell\\anaconda3\\lib\\site-packages (from torchvision) (1.24.3)\n",
      "Requirement already satisfied: torch==2.2.2+cu118 in c:\\users\\dell\\anaconda3\\lib\\site-packages (from torchvision) (2.2.2+cu118)\n",
      "Requirement already satisfied: pillow!=8.3.*,>=5.3.0 in c:\\users\\dell\\anaconda3\\lib\\site-packages (from torchvision) (9.4.0)\n",
      "Requirement already satisfied: filelock in c:\\users\\dell\\anaconda3\\lib\\site-packages (from torch==2.2.2+cu118->torchvision) (3.9.0)\n",
      "Requirement already satisfied: typing-extensions>=4.8.0 in c:\\users\\dell\\appdata\\roaming\\python\\python311\\site-packages (from torch==2.2.2+cu118->torchvision) (4.12.2)\n",
      "Requirement already satisfied: sympy in c:\\users\\dell\\anaconda3\\lib\\site-packages (from torch==2.2.2+cu118->torchvision) (1.11.1)\n",
      "Requirement already satisfied: networkx in c:\\users\\dell\\anaconda3\\lib\\site-packages (from torch==2.2.2+cu118->torchvision) (3.1)\n",
      "Requirement already satisfied: jinja2 in c:\\users\\dell\\anaconda3\\lib\\site-packages (from torch==2.2.2+cu118->torchvision) (3.1.2)\n",
      "Requirement already satisfied: fsspec in c:\\users\\dell\\anaconda3\\lib\\site-packages (from torch==2.2.2+cu118->torchvision) (2023.4.0)\n",
      "Requirement already satisfied: MarkupSafe>=2.0 in c:\\users\\dell\\anaconda3\\lib\\site-packages (from jinja2->torch==2.2.2+cu118->torchvision) (2.1.1)\n",
      "Requirement already satisfied: mpmath>=0.19 in c:\\users\\dell\\anaconda3\\lib\\site-packages (from sympy->torch==2.2.2+cu118->torchvision) (1.3.0)\n"
     ]
    }
   ],
   "source": [
    "!pip install torchvision"
   ]
  },
  {
   "cell_type": "code",
   "execution_count": 34,
   "metadata": {},
   "outputs": [],
   "source": [
    "import pandas as pd\n",
    "import numpy as np\n",
    "import os\n",
    "from tqdm import tqdm\n",
    "import torch\n",
    "import torch.nn as nn\n",
    "import torch.optim as optim\n",
    "import torchvision\n",
    "from torchvision import datasets, models, transforms\n",
    "import matplotlib.pyplot as plt\n",
    "import time\n",
    "import copy"
   ]
  },
  {
   "cell_type": "markdown",
   "metadata": {},
   "source": [
    "##### Mettre à jour le nombre de classe"
   ]
  },
  {
   "cell_type": "code",
   "execution_count": 35,
   "metadata": {},
   "outputs": [],
   "source": [
    "# Le directoire\n",
    "data_dir = CNN_TRAIN_IMAGE_DIR\n",
    "\n",
    "# Activer le débogage CUDA\n",
    "os.environ['CUDA_LAUNCH_BLOCKING'] = \"1\"\n",
    "\n",
    "# Modèles à choisir entre resnet, alexnet, vgg, squeezenet, densenet, inception\n",
    "model_name = \"vgg\"\n",
    "\n",
    "# Le nombre de catégories pour la classification\n",
    "num_classes = 6 #Mettre à jour le nombre de classe\n",
    "\n",
    "# Taille de lot pour l'entraînement (à modifier selon la quantité de mémoire disponible)\n",
    "batch_size = 8\n",
    "\n",
    "# Nombre d'époques pour l'entraînement,\n",
    "#les 10 premières seront consacrées à l'entraînement des nouvelles couches,\n",
    "#les 10 dernières à l'ensemble du modèle.\n",
    "num_epochs = 20\n",
    "\n",
    "# Flag pour l'extraction de caractéristiques. Lorsqu'il est à False, nous affinons tout le modèle.\n",
    "#   quand il est à True, nous mettons à jour uniquement les paramètres des couches remodelées\n",
    "feature_extract = True \n",
    "\n",
    "\n",
    "\n"
   ]
  },
  {
   "cell_type": "code",
   "execution_count": 36,
   "metadata": {},
   "outputs": [
    {
     "data": {
      "text/plain": [
       "'D:\\\\Poverty_Predict_Par_Milieu\\\\Data_urbain/cnn_images_50m_moitie_IPM_100'"
      ]
     },
     "execution_count": 36,
     "metadata": {},
     "output_type": "execute_result"
    }
   ],
   "source": [
    "data_dir"
   ]
  },
  {
   "cell_type": "code",
   "execution_count": 37,
   "metadata": {},
   "outputs": [],
   "source": [
    "def initialize_model(model_name, num_classes, feature_extract, use_pretrained=True):\n",
    "    # Initialisez les variables qui seront définies dans ce 'if-statement'.\n",
    "    # Chacune de ces variables est spécifique au modèle.\n",
    "    model_ft = models.vgg11_bn(pretrained=use_pretrained)\n",
    "    set_parameter_requires_grad(model_ft, feature_extract)\n",
    "    num_ftrs = model_ft.classifier[6].in_features\n",
    "    model_ft.classifier[6] = nn.Linear(num_ftrs,num_classes)\n",
    "    input_size = 224\n",
    "    return model_ft, input_size\n",
    "\n",
    "def set_parameter_requires_grad(model, feature_extracting):\n",
    "    if feature_extracting:\n",
    "        for param in model.parameters():\n",
    "            param.requires_grad = False \n",
    "\n"
   ]
  },
  {
   "cell_type": "code",
   "execution_count": 38,
   "metadata": {},
   "outputs": [
    {
     "name": "stderr",
     "output_type": "stream",
     "text": [
      "c:\\Users\\Dell\\anaconda3\\Lib\\site-packages\\torchvision\\models\\_utils.py:208: UserWarning: The parameter 'pretrained' is deprecated since 0.13 and may be removed in the future, please use 'weights' instead.\n",
      "  warnings.warn(\n",
      "c:\\Users\\Dell\\anaconda3\\Lib\\site-packages\\torchvision\\models\\_utils.py:223: UserWarning: Arguments other than a weight enum or `None` for 'weights' are deprecated since 0.13 and may be removed in the future. The current behavior is equivalent to passing `weights=VGG11_BN_Weights.IMAGENET1K_V1`. You can also use `weights=VGG11_BN_Weights.DEFAULT` to get the most up-to-date weights.\n",
      "  warnings.warn(msg)\n"
     ]
    },
    {
     "name": "stdout",
     "output_type": "stream",
     "text": [
      "Initializing Datasets and Dataloaders...\n"
     ]
    }
   ],
   "source": [
    "# Initialiser le modèle pour l'exécution\n",
    "model_ft, input_size = initialize_model(model_name, num_classes, feature_extract, use_pretrained=True)\n",
    "\n",
    "# Imprimer\n",
    "model_ft \n",
    "\n",
    "print('Initializing Datasets and Dataloaders...')"
   ]
  },
  {
   "cell_type": "code",
   "execution_count": 39,
   "metadata": {},
   "outputs": [],
   "source": [
    "# Data augmentation and normalization for training\n",
    "# Just normalization for validation\n",
    "\n",
    "data_transforms = {\n",
    "    f'train_{X}m_{moitiequarts}_IPM_{Y}': transforms.Compose([\n",
    "        transforms.RandomResizedCrop(input_size),\n",
    "        transforms.RandomHorizontalFlip(),\n",
    "        transforms.ToTensor(),\n",
    "        transforms.Normalize([0.485, 0.456, 0.406], [0.229, 0.224, 0.225])\n",
    "    ]),\n",
    "    f'valid_{X}m_{moitiequarts}_IPM_{Y}': transforms.Compose([\n",
    "        transforms.Resize(input_size),\n",
    "        transforms.CenterCrop(input_size),\n",
    "        transforms.ToTensor(),\n",
    "        transforms.Normalize([0.485, 0.456, 0.406], [0.229, 0.224, 0.225])\n",
    "    ]),\n",
    "}"
   ]
  },
  {
   "cell_type": "code",
   "execution_count": 40,
   "metadata": {},
   "outputs": [],
   "source": [
    "##### Création des Ensembles de Données et des Dataloaders\n",
    "##### Configuration de l'Appareil et du Modèle\n",
    "##### Optimisation et Mise à Jour des Paramètres"
   ]
  },
  {
   "cell_type": "code",
   "execution_count": 41,
   "metadata": {},
   "outputs": [],
   "source": [
    "# Création des ensembles de données d'entraînement et de validation\n",
    "image_datasets = {x: datasets.ImageFolder(os.path.join(data_dir, x), data_transforms[x]) for x in [f'train_{X}m_{moitiequarts}_IPM_{Y}', f'valid_{X}m_{moitiequarts}_IPM_{Y}']}\n",
    "\n",
    "# Création des dataloaders d'entraînement et de validation\n",
    "dataloaders_dict = {x: torch.utils.data.DataLoader(image_datasets[x], batch_size=batch_size, shuffle=True, num_workers=4) for x in [f'train_{X}m_{moitiequarts}_IPM_{Y}', f'valid_{X}m_{moitiequarts}_IPM_{Y}']}\n",
    "\n"
   ]
  },
  {
   "cell_type": "code",
   "execution_count": 42,
   "metadata": {},
   "outputs": [
    {
     "name": "stdout",
     "output_type": "stream",
     "text": [
      "device: cuda:0\n"
     ]
    }
   ],
   "source": [
    "# Inspectons pour savoir si nous avons un GPU (Graphical Processing Unit) disponible\n",
    "device = torch.device(\"cuda:0\" if torch.cuda.is_available() else \"cpu\")\n",
    "print('device:', device)\n",
    "\n"
   ]
  },
  {
   "cell_type": "code",
   "execution_count": 43,
   "metadata": {},
   "outputs": [
    {
     "name": "stdout",
     "output_type": "stream",
     "text": [
      "Params to learn:\n",
      "\t classifier.6.weight\n",
      "\t classifier.6.bias\n"
     ]
    }
   ],
   "source": [
    "# Envoyer le modèle sur le GPU\n",
    "model_ft = model_ft.to(device)\n",
    "\n",
    "# Rassembler les paramètres qui doivent être optimisés/mis à jour dans cette exécution.\n",
    "params_to_update = model_ft.parameters()\n",
    "print(\"Params to learn:\")\n",
    "if feature_extract:\n",
    "    params_to_update = []\n",
    "    for name, param in model_ft.named_parameters():\n",
    "        if param.requires_grad:\n",
    "            params_to_update.append(param)\n",
    "            print(\"\\t\", name)\n",
    "else:\n",
    "    for name, param in model_ft.named_parameters():\n",
    "        if param.requires_grad:\n",
    "            print(\"\\t\", name)\n",
    "\n",
    "# Observons que tous les paramètres sont optimisés\n",
    "optimizer_ft = optim.SGD(params_to_update, lr=1e-4, momentum=0.9)\n",
    "\n"
   ]
  },
  {
   "cell_type": "code",
   "execution_count": 44,
   "metadata": {},
   "outputs": [],
   "source": [
    "# Fonction d'entraînement du modèle\n",
    "def train_model(model, dataloaders, criterion, optimizer, num_epochs=25):\n",
    "    since = time.time()\n",
    "\n",
    "    val_acc_history = []\n",
    "    \n",
    "    best_model_wts = copy.deepcopy(model.state_dict())\n",
    "    best_acc = 0.0\n",
    "    \n",
    "    for epoch in range(num_epochs):\n",
    "        print('Epoch {}/{}'.format(epoch, num_epochs - 1))\n",
    "        print('-' * 10)\n",
    "        if epoch > 10:\n",
    "            # Fine tune whole model\n",
    "            for param in model_ft.parameters():\n",
    "                param.requires_grad = True\n",
    "            optimizer = optim.SGD(model_ft.parameters(), lr=1e-4, momentum=0.9)\n",
    "\n",
    "        # Each epoch has a training and validation phase\n",
    "        for phase in [f'train_{X}m_{moitiequarts}_IPM_{Y}', f'valid_{X}m_{moitiequarts}_IPM_{Y}']:\n",
    "            if phase == f'train_{X}m_{moitiequarts}_IPM_{Y}':\n",
    "                model.train()  # Set model to training mode\n",
    "            else:\n",
    "                model.eval()   # Set model to evaluate mode\n",
    "\n",
    "            running_loss = 0.0\n",
    "            running_corrects = 0\n",
    "\n",
    "            # Iterate over data.\n",
    "            for inputs, labels in tqdm(dataloaders[phase]):\n",
    "                inputs = inputs.to(device)\n",
    "                labels = labels.to(device)\n",
    "\n",
    "                # Zero the parameter gradients\n",
    "                optimizer.zero_grad()\n",
    "\n",
    "                # Forward\n",
    "                # Track history if only in train\n",
    "                with torch.set_grad_enabled(phase == f'train_{X}m_{moitiequarts}_IPM_{Y}'):\n",
    "                    outputs = model(inputs)\n",
    "                    loss = criterion(outputs, labels)\n",
    "\n",
    "                    _, preds = torch.max(outputs, 1)\n",
    "\n",
    "                    # Backward + optimize only if in training phase\n",
    "                    if phase == f'train_{X}m_{moitiequarts}_IPM_{Y}':\n",
    "                        loss.backward()\n",
    "                        optimizer.step()\n",
    "\n",
    "                # Statistics\n",
    "                running_loss += loss.item() * inputs.size(0)\n",
    "                running_corrects += torch.sum(preds == labels.data)\n",
    "\n",
    "            epoch_loss = running_loss / len(dataloaders[phase].dataset)\n",
    "            epoch_acc = running_corrects.double() / len(dataloaders[phase].dataset)\n",
    "\n",
    "            print('{} Loss: {:.4f} Acc: {:.4f}'.format(phase, epoch_loss, epoch_acc))\n",
    "\n",
    "            # Deep copy the model\n",
    "            if phase == f'valid_{X}m_{moitiequarts}_IPM_{Y}' and epoch_acc > best_acc:\n",
    "                best_acc = epoch_acc\n",
    "                best_model_wts = copy.deepcopy(model.state_dict())\n",
    "            if phase == f'valid_{X}m_{moitiequarts}_IPM_{Y}':\n",
    "                val_acc_history.append(epoch_acc)\n",
    "                \n",
    "        print()\n",
    "\n",
    "    time_elapsed = time.time() - since\n",
    "    print('Training complete in {:.0f}m {:.0f}s'.format(time_elapsed // 60, time_elapsed % 60))\n",
    "    print('Best val Acc: {:4f}'.format(best_acc))\n",
    "\n",
    "    # Load best model weights\n",
    "    model.load_state_dict(best_model_wts)\n",
    "    return model, val_acc_history\n",
    "\n"
   ]
  },
  {
   "cell_type": "code",
   "execution_count": 45,
   "metadata": {},
   "outputs": [
    {
     "name": "stdout",
     "output_type": "stream",
     "text": [
      "Epoch 0/19\n",
      "----------\n"
     ]
    },
    {
     "name": "stderr",
     "output_type": "stream",
     "text": [
      "100%|██████████| 11000/11000 [04:44<00:00, 38.60it/s]\n"
     ]
    },
    {
     "name": "stdout",
     "output_type": "stream",
     "text": [
      "train_50m_moitie_IPM_100 Loss: 1.2551 Acc: 0.4846\n"
     ]
    },
    {
     "name": "stderr",
     "output_type": "stream",
     "text": [
      "100%|██████████| 54838/54838 [21:19<00:00, 42.87it/s]\n"
     ]
    },
    {
     "name": "stdout",
     "output_type": "stream",
     "text": [
      "valid_50m_moitie_IPM_100 Loss: 1.1282 Acc: 0.5500\n",
      "\n",
      "Epoch 1/19\n",
      "----------\n"
     ]
    },
    {
     "name": "stderr",
     "output_type": "stream",
     "text": [
      "100%|██████████| 11000/11000 [04:41<00:00, 39.12it/s]\n"
     ]
    },
    {
     "name": "stdout",
     "output_type": "stream",
     "text": [
      "train_50m_moitie_IPM_100 Loss: 1.1882 Acc: 0.5137\n"
     ]
    },
    {
     "name": "stderr",
     "output_type": "stream",
     "text": [
      "100%|██████████| 54838/54838 [21:17<00:00, 42.94it/s]\n"
     ]
    },
    {
     "name": "stdout",
     "output_type": "stream",
     "text": [
      "valid_50m_moitie_IPM_100 Loss: 1.0954 Acc: 0.5634\n",
      "\n",
      "Epoch 2/19\n",
      "----------\n"
     ]
    },
    {
     "name": "stderr",
     "output_type": "stream",
     "text": [
      "100%|██████████| 11000/11000 [04:41<00:00, 39.03it/s]\n"
     ]
    },
    {
     "name": "stdout",
     "output_type": "stream",
     "text": [
      "train_50m_moitie_IPM_100 Loss: 1.1734 Acc: 0.5186\n"
     ]
    },
    {
     "name": "stderr",
     "output_type": "stream",
     "text": [
      "100%|██████████| 54838/54838 [21:19<00:00, 42.87it/s]\n"
     ]
    },
    {
     "name": "stdout",
     "output_type": "stream",
     "text": [
      "valid_50m_moitie_IPM_100 Loss: 1.0787 Acc: 0.5704\n",
      "\n",
      "Epoch 3/19\n",
      "----------\n"
     ]
    },
    {
     "name": "stderr",
     "output_type": "stream",
     "text": [
      "100%|██████████| 11000/11000 [04:42<00:00, 38.92it/s]\n"
     ]
    },
    {
     "name": "stdout",
     "output_type": "stream",
     "text": [
      "train_50m_moitie_IPM_100 Loss: 1.1625 Acc: 0.5233\n"
     ]
    },
    {
     "name": "stderr",
     "output_type": "stream",
     "text": [
      "100%|██████████| 54838/54838 [21:21<00:00, 42.78it/s]\n"
     ]
    },
    {
     "name": "stdout",
     "output_type": "stream",
     "text": [
      "valid_50m_moitie_IPM_100 Loss: 1.0569 Acc: 0.5793\n",
      "\n",
      "Epoch 4/19\n",
      "----------\n"
     ]
    },
    {
     "name": "stderr",
     "output_type": "stream",
     "text": [
      "100%|██████████| 11000/11000 [04:40<00:00, 39.18it/s]\n"
     ]
    },
    {
     "name": "stdout",
     "output_type": "stream",
     "text": [
      "train_50m_moitie_IPM_100 Loss: 1.1568 Acc: 0.5241\n"
     ]
    },
    {
     "name": "stderr",
     "output_type": "stream",
     "text": [
      "100%|██████████| 54838/54838 [21:19<00:00, 42.87it/s]\n"
     ]
    },
    {
     "name": "stdout",
     "output_type": "stream",
     "text": [
      "valid_50m_moitie_IPM_100 Loss: 1.0543 Acc: 0.5812\n",
      "\n",
      "Epoch 5/19\n",
      "----------\n"
     ]
    },
    {
     "name": "stderr",
     "output_type": "stream",
     "text": [
      "100%|██████████| 11000/11000 [04:41<00:00, 39.07it/s]\n"
     ]
    },
    {
     "name": "stdout",
     "output_type": "stream",
     "text": [
      "train_50m_moitie_IPM_100 Loss: 1.1528 Acc: 0.5260\n"
     ]
    },
    {
     "name": "stderr",
     "output_type": "stream",
     "text": [
      "100%|██████████| 54838/54838 [21:14<00:00, 43.04it/s]\n"
     ]
    },
    {
     "name": "stdout",
     "output_type": "stream",
     "text": [
      "valid_50m_moitie_IPM_100 Loss: 1.0689 Acc: 0.5746\n",
      "\n",
      "Epoch 6/19\n",
      "----------\n"
     ]
    },
    {
     "name": "stderr",
     "output_type": "stream",
     "text": [
      "100%|██████████| 11000/11000 [04:40<00:00, 39.17it/s]\n"
     ]
    },
    {
     "name": "stdout",
     "output_type": "stream",
     "text": [
      "train_50m_moitie_IPM_100 Loss: 1.1495 Acc: 0.5296\n"
     ]
    },
    {
     "name": "stderr",
     "output_type": "stream",
     "text": [
      "100%|██████████| 54838/54838 [21:15<00:00, 42.99it/s]\n"
     ]
    },
    {
     "name": "stdout",
     "output_type": "stream",
     "text": [
      "valid_50m_moitie_IPM_100 Loss: 1.0908 Acc: 0.5612\n",
      "\n",
      "Epoch 7/19\n",
      "----------\n"
     ]
    },
    {
     "name": "stderr",
     "output_type": "stream",
     "text": [
      "100%|██████████| 11000/11000 [04:40<00:00, 39.17it/s]\n"
     ]
    },
    {
     "name": "stdout",
     "output_type": "stream",
     "text": [
      "train_50m_moitie_IPM_100 Loss: 1.1413 Acc: 0.5327\n"
     ]
    },
    {
     "name": "stderr",
     "output_type": "stream",
     "text": [
      "100%|██████████| 54838/54838 [21:18<00:00, 42.91it/s]\n"
     ]
    },
    {
     "name": "stdout",
     "output_type": "stream",
     "text": [
      "valid_50m_moitie_IPM_100 Loss: 1.0513 Acc: 0.5840\n",
      "\n",
      "Epoch 8/19\n",
      "----------\n"
     ]
    },
    {
     "name": "stderr",
     "output_type": "stream",
     "text": [
      "100%|██████████| 11000/11000 [04:41<00:00, 39.08it/s]\n"
     ]
    },
    {
     "name": "stdout",
     "output_type": "stream",
     "text": [
      "train_50m_moitie_IPM_100 Loss: 1.1422 Acc: 0.5310\n"
     ]
    },
    {
     "name": "stderr",
     "output_type": "stream",
     "text": [
      "100%|██████████| 54838/54838 [21:20<00:00, 42.83it/s]\n"
     ]
    },
    {
     "name": "stdout",
     "output_type": "stream",
     "text": [
      "valid_50m_moitie_IPM_100 Loss: 1.0646 Acc: 0.5783\n",
      "\n",
      "Epoch 9/19\n",
      "----------\n"
     ]
    },
    {
     "name": "stderr",
     "output_type": "stream",
     "text": [
      "100%|██████████| 11000/11000 [04:42<00:00, 38.99it/s]\n"
     ]
    },
    {
     "name": "stdout",
     "output_type": "stream",
     "text": [
      "train_50m_moitie_IPM_100 Loss: 1.1412 Acc: 0.5318\n"
     ]
    },
    {
     "name": "stderr",
     "output_type": "stream",
     "text": [
      "100%|██████████| 54838/54838 [21:16<00:00, 42.96it/s]\n"
     ]
    },
    {
     "name": "stdout",
     "output_type": "stream",
     "text": [
      "valid_50m_moitie_IPM_100 Loss: 1.0634 Acc: 0.5777\n",
      "\n",
      "Epoch 10/19\n",
      "----------\n"
     ]
    },
    {
     "name": "stderr",
     "output_type": "stream",
     "text": [
      "100%|██████████| 11000/11000 [04:41<00:00, 39.09it/s]\n"
     ]
    },
    {
     "name": "stdout",
     "output_type": "stream",
     "text": [
      "train_50m_moitie_IPM_100 Loss: 1.1399 Acc: 0.5324\n"
     ]
    },
    {
     "name": "stderr",
     "output_type": "stream",
     "text": [
      "100%|██████████| 54838/54838 [21:16<00:00, 42.95it/s]\n"
     ]
    },
    {
     "name": "stdout",
     "output_type": "stream",
     "text": [
      "valid_50m_moitie_IPM_100 Loss: 1.0367 Acc: 0.5906\n",
      "\n",
      "Epoch 11/19\n",
      "----------\n"
     ]
    },
    {
     "name": "stderr",
     "output_type": "stream",
     "text": [
      "100%|██████████| 11000/11000 [14:41<00:00, 12.48it/s]\n"
     ]
    },
    {
     "name": "stdout",
     "output_type": "stream",
     "text": [
      "train_50m_moitie_IPM_100 Loss: 0.8818 Acc: 0.6497\n"
     ]
    },
    {
     "name": "stderr",
     "output_type": "stream",
     "text": [
      "100%|██████████| 54838/54838 [21:19<00:00, 42.86it/s]\n"
     ]
    },
    {
     "name": "stdout",
     "output_type": "stream",
     "text": [
      "valid_50m_moitie_IPM_100 Loss: 0.8414 Acc: 0.6902\n",
      "\n",
      "Epoch 12/19\n",
      "----------\n"
     ]
    },
    {
     "name": "stderr",
     "output_type": "stream",
     "text": [
      "100%|██████████| 11000/11000 [14:40<00:00, 12.49it/s]\n"
     ]
    },
    {
     "name": "stdout",
     "output_type": "stream",
     "text": [
      "train_50m_moitie_IPM_100 Loss: 0.5889 Acc: 0.7746\n"
     ]
    },
    {
     "name": "stderr",
     "output_type": "stream",
     "text": [
      "100%|██████████| 54838/54838 [21:16<00:00, 42.97it/s]\n"
     ]
    },
    {
     "name": "stdout",
     "output_type": "stream",
     "text": [
      "valid_50m_moitie_IPM_100 Loss: 0.8766 Acc: 0.7238\n",
      "\n",
      "Epoch 13/19\n",
      "----------\n"
     ]
    },
    {
     "name": "stderr",
     "output_type": "stream",
     "text": [
      "100%|██████████| 11000/11000 [14:41<00:00, 12.48it/s]\n"
     ]
    },
    {
     "name": "stdout",
     "output_type": "stream",
     "text": [
      "train_50m_moitie_IPM_100 Loss: 0.4259 Acc: 0.8396\n"
     ]
    },
    {
     "name": "stderr",
     "output_type": "stream",
     "text": [
      "100%|██████████| 54838/54838 [21:19<00:00, 42.85it/s]\n"
     ]
    },
    {
     "name": "stdout",
     "output_type": "stream",
     "text": [
      "valid_50m_moitie_IPM_100 Loss: 0.9324 Acc: 0.7414\n",
      "\n",
      "Epoch 14/19\n",
      "----------\n"
     ]
    },
    {
     "name": "stderr",
     "output_type": "stream",
     "text": [
      "100%|██████████| 11000/11000 [14:40<00:00, 12.49it/s]\n"
     ]
    },
    {
     "name": "stdout",
     "output_type": "stream",
     "text": [
      "train_50m_moitie_IPM_100 Loss: 0.3319 Acc: 0.8776\n"
     ]
    },
    {
     "name": "stderr",
     "output_type": "stream",
     "text": [
      "100%|██████████| 54838/54838 [21:17<00:00, 42.92it/s]\n"
     ]
    },
    {
     "name": "stdout",
     "output_type": "stream",
     "text": [
      "valid_50m_moitie_IPM_100 Loss: 0.9674 Acc: 0.7495\n",
      "\n",
      "Epoch 15/19\n",
      "----------\n"
     ]
    },
    {
     "name": "stderr",
     "output_type": "stream",
     "text": [
      "100%|██████████| 11000/11000 [14:39<00:00, 12.50it/s]\n"
     ]
    },
    {
     "name": "stdout",
     "output_type": "stream",
     "text": [
      "train_50m_moitie_IPM_100 Loss: 0.2723 Acc: 0.8996\n"
     ]
    },
    {
     "name": "stderr",
     "output_type": "stream",
     "text": [
      "100%|██████████| 54838/54838 [21:18<00:00, 42.89it/s]\n"
     ]
    },
    {
     "name": "stdout",
     "output_type": "stream",
     "text": [
      "valid_50m_moitie_IPM_100 Loss: 1.0182 Acc: 0.7572\n",
      "\n",
      "Epoch 16/19\n",
      "----------\n"
     ]
    },
    {
     "name": "stderr",
     "output_type": "stream",
     "text": [
      "100%|██████████| 11000/11000 [14:40<00:00, 12.50it/s]\n"
     ]
    },
    {
     "name": "stdout",
     "output_type": "stream",
     "text": [
      "train_50m_moitie_IPM_100 Loss: 0.2310 Acc: 0.9161\n"
     ]
    },
    {
     "name": "stderr",
     "output_type": "stream",
     "text": [
      "100%|██████████| 54838/54838 [21:18<00:00, 42.89it/s]\n"
     ]
    },
    {
     "name": "stdout",
     "output_type": "stream",
     "text": [
      "valid_50m_moitie_IPM_100 Loss: 1.0787 Acc: 0.7530\n",
      "\n",
      "Epoch 17/19\n",
      "----------\n"
     ]
    },
    {
     "name": "stderr",
     "output_type": "stream",
     "text": [
      "100%|██████████| 11000/11000 [14:38<00:00, 12.53it/s]\n"
     ]
    },
    {
     "name": "stdout",
     "output_type": "stream",
     "text": [
      "train_50m_moitie_IPM_100 Loss: 0.2016 Acc: 0.9269\n"
     ]
    },
    {
     "name": "stderr",
     "output_type": "stream",
     "text": [
      "100%|██████████| 54838/54838 [21:18<00:00, 42.88it/s]\n"
     ]
    },
    {
     "name": "stdout",
     "output_type": "stream",
     "text": [
      "valid_50m_moitie_IPM_100 Loss: 1.0417 Acc: 0.7652\n",
      "\n",
      "Epoch 18/19\n",
      "----------\n"
     ]
    },
    {
     "name": "stderr",
     "output_type": "stream",
     "text": [
      "100%|██████████| 11000/11000 [14:38<00:00, 12.53it/s]\n"
     ]
    },
    {
     "name": "stdout",
     "output_type": "stream",
     "text": [
      "train_50m_moitie_IPM_100 Loss: 0.1789 Acc: 0.9357\n"
     ]
    },
    {
     "name": "stderr",
     "output_type": "stream",
     "text": [
      "100%|██████████| 54838/54838 [21:18<00:00, 42.88it/s]\n"
     ]
    },
    {
     "name": "stdout",
     "output_type": "stream",
     "text": [
      "valid_50m_moitie_IPM_100 Loss: 1.0774 Acc: 0.7640\n",
      "\n",
      "Epoch 19/19\n",
      "----------\n"
     ]
    },
    {
     "name": "stderr",
     "output_type": "stream",
     "text": [
      "100%|██████████| 11000/11000 [14:37<00:00, 12.54it/s]\n"
     ]
    },
    {
     "name": "stdout",
     "output_type": "stream",
     "text": [
      "train_50m_moitie_IPM_100 Loss: 0.1641 Acc: 0.9409\n"
     ]
    },
    {
     "name": "stderr",
     "output_type": "stream",
     "text": [
      "100%|██████████| 54838/54838 [21:19<00:00, 42.84it/s]"
     ]
    },
    {
     "name": "stdout",
     "output_type": "stream",
     "text": [
      "valid_50m_moitie_IPM_100 Loss: 1.1572 Acc: 0.7608\n",
      "\n",
      "Training complete in 609m 43s\n",
      "Best val Acc: 0.765213\n"
     ]
    },
    {
     "name": "stderr",
     "output_type": "stream",
     "text": [
      "\n"
     ]
    }
   ],
   "source": [
    "# Setup the loss function\n",
    "criterion = nn.CrossEntropyLoss()\n",
    "\n",
    "# Train and evaluate\n",
    "model_ft, hist = train_model(model_ft, dataloaders_dict, criterion, optimizer_ft, num_epochs=num_epochs) \n",
    "\n"
   ]
  },
  {
   "cell_type": "code",
   "execution_count": 46,
   "metadata": {},
   "outputs": [
    {
     "name": "stdout",
     "output_type": "stream",
     "text": [
      "Saving model to D:\\Poverty_Predict_Par_Milieu\\models_50m_moitie_IPM_100\\trained_model_50m_moitie_IPM_100_vgg11bn.pt\n"
     ]
    }
   ],
   "source": [
    "# Sauvegarder le modèle\n",
    "model_path = os.path.join(CNN_SAVE_DIR, f'trained_model_{X}m_{moitiequarts}_IPM_{Y}_vgg11bn.pt')\n",
    "assert not os.path.isfile(model_path), print('Un modèle est déjà sauvegardé à cette destination')\n",
    "print(f'Saving model to {model_path}')\n",
    "torch.save(model_ft, model_path)"
   ]
  },
  {
   "cell_type": "markdown",
   "metadata": {},
   "source": [
    "#### Evaluation du modèle"
   ]
  },
  {
   "cell_type": "code",
   "execution_count": 47,
   "metadata": {},
   "outputs": [],
   "source": [
    "import pandas as pd\n",
    "import numpy as np\n",
    "import os\n",
    "from tqdm import tqdm\n",
    "import torch\n",
    "import torch.nn as nn\n",
    "import torch.optim as optim\n",
    "import torchvision\n",
    "from torchvision import datasets, models, transforms\n",
    "import matplotlib.pyplot as plt\n",
    "import time\n",
    "import copy\n",
    "from sklearn.metrics import confusion_matrix, classification_report\n",
    "import seaborn as sns\n"
   ]
  },
  {
   "cell_type": "code",
   "execution_count": 48,
   "metadata": {},
   "outputs": [
    {
     "name": "stderr",
     "output_type": "stream",
     "text": [
      "100%|██████████| 11000/11000 [04:22<00:00, 41.98it/s]"
     ]
    },
    {
     "name": "stdout",
     "output_type": "stream",
     "text": [
      "tensor(0.9710, device='cuda:0', dtype=torch.float64)\n"
     ]
    },
    {
     "name": "stderr",
     "output_type": "stream",
     "text": [
      "\n"
     ]
    }
   ],
   "source": [
    "# Chargement du modèle\n",
    "model_ft = torch.load(model_path)\n",
    "\n",
    "# Évaluation sur le jeu d'entraînement\n",
    "model_ft.eval()   # Set model to evaluate mode\n",
    "running_loss = 0.0\n",
    "running_corrects = 0\n",
    "total = 0\n",
    "\n",
    "for inputs, labels in tqdm(dataloaders_dict[f'train_{X}m_{moitiequarts}_IPM_{Y}']):\n",
    "    inputs = inputs.to(device)\n",
    "    labels = labels.to(device)\n",
    "\n",
    "    with torch.set_grad_enabled(False):\n",
    "        outputs = model_ft(inputs)\n",
    "        loss = criterion(outputs, labels)\n",
    "\n",
    "        _, preds = torch.max(outputs, 1)\n",
    "\n",
    "    running_loss += loss.item() * inputs.size(0)\n",
    "    running_corrects += torch.sum(preds == labels.data)\n",
    "    total += len(preds)\n",
    "        \n",
    "print(running_corrects.double() / total)\n",
    "\n"
   ]
  },
  {
   "cell_type": "code",
   "execution_count": 49,
   "metadata": {},
   "outputs": [
    {
     "data": {
      "image/png": "[encoded data removed]",
      "text/plain": [
       "<Figure size 2500x2500 with 2 Axes>"
      ]
     },
     "metadata": {},
     "output_type": "display_data"
    }
   ],
   "source": [
    "# Sauvegarder les labels et les prédictions\n",
    "all_preds = []\n",
    "all_labels = []\n",
    "\n",
    "for inputs, labels in dataloaders_dict[f'train_{X}m_{moitiequarts}_IPM_{Y}']:\n",
    "    inputs = inputs.to(device)\n",
    "    labels = labels.to(device)\n",
    "\n",
    "    with torch.set_grad_enabled(False):\n",
    "        outputs = model_ft(inputs)\n",
    "        _, preds = torch.max(outputs, 1)\n",
    "\n",
    "    all_preds.extend(preds.cpu().numpy())\n",
    "    all_labels.extend(labels.cpu().numpy())\n",
    "\n",
    "all_preds_tensor = torch.tensor(all_preds)\n",
    "all_labels_tensor = torch.tensor(all_labels)\n",
    "\n",
    "# Matrice de confusion pour le jeu d'entraînement\n",
    "cm = confusion_matrix(all_labels, all_preds)\n",
    "plt.figure(figsize=(25, 25))\n",
    "sns.heatmap(cm, annot=True, fmt=\"d\", cmap=\"Blues\")\n",
    "plt.xlabel('Predicted Labels')\n",
    "plt.ylabel('True Labels')\n",
    "plt.title(f'Confusion Matrix for Training Set_{X}m_{moitiequarts}_IPM_{Y}_vgg11bn')\n",
    "plt.show()\n",
    "\n"
   ]
  },
  {
   "cell_type": "code",
   "execution_count": 50,
   "metadata": {},
   "outputs": [
    {
     "data": {
      "text/plain": [
       "array([[29611,   167,     7,    75,   374,   166],\n",
       "       [  221, 10727,    20,    63,    24,   145],\n",
       "       [   12,    12,  1728,    30,     2,    16],\n",
       "       [   65,    51,    14, 10932,    19,   219],\n",
       "       [  456,    14,     1,     8, 20900,    21],\n",
       "       [   96,    74,     9,   150,    15, 11556]], dtype=int64)"
      ]
     },
     "execution_count": 50,
     "metadata": {},
     "output_type": "execute_result"
    }
   ],
   "source": [
    "# La confusion matrix\n",
    "cm"
   ]
  },
  {
   "cell_type": "markdown",
   "metadata": {},
   "source": [
    "Ce fragment de code génère un rapport de classification à partir des étiquettes réelles et des prédictions collectées lors de l'évaluation du modèle sur l'ensemble d'entraînement."
   ]
  },
  {
   "cell_type": "code",
   "execution_count": 51,
   "metadata": {},
   "outputs": [
    {
     "name": "stdout",
     "output_type": "stream",
     "text": [
      "              precision    recall  f1-score   support\n",
      "\n",
      "           0     0.9721    0.9740    0.9731     30400\n",
      "           1     0.9712    0.9578    0.9644     11200\n",
      "           2     0.9713    0.9600    0.9656      1800\n",
      "           3     0.9710    0.9674    0.9692     11300\n",
      "           4     0.9797    0.9766    0.9781     21400\n",
      "           5     0.9532    0.9711    0.9621     11900\n",
      "\n",
      "    accuracy                         0.9711     88000\n",
      "   macro avg     0.9698    0.9678    0.9688     88000\n",
      "weighted avg     0.9711    0.9711    0.9711     88000\n",
      "\n"
     ]
    }
   ],
   "source": [
    "# Rapport de classification\n",
    "from sklearn.metrics import classification_report\n",
    "# Convertit les listes en array de types numpy si elles ne sont pas convertit\n",
    "# Supposons que \"all_preds\" et \"all_labels\" sont des listes d'array numpy ou des tenseurs en PyTorch \n",
    "true_labels = np.array(all_labels)\n",
    "predicted_labels = np.array(all_preds)\n",
    "\n",
    "# Génère un rapport de  classification\n",
    "report = classification_report(true_labels, predicted_labels, digits=4)\n",
    "print(report)\n",
    "\n"
   ]
  },
  {
   "cell_type": "markdown",
   "metadata": {},
   "source": [
    "###### Calcul mécanique de ce qui précède"
   ]
  },
  {
   "cell_type": "code",
   "execution_count": 52,
   "metadata": {},
   "outputs": [
    {
     "name": "stdout",
     "output_type": "stream",
     "text": [
      "              precision    recall  f1-score   support\n",
      "\n",
      "           0       0.97      0.97      0.97     30400\n",
      "           1       0.97      0.96      0.96     11200\n",
      "           2       0.97      0.96      0.97      1800\n",
      "           3       0.97      0.97      0.97     11300\n",
      "           4       0.98      0.98      0.98     21400\n",
      "           5       0.95      0.97      0.96     11900\n",
      "\n",
      "    accuracy                           0.97     88000\n",
      "   macro avg       0.97      0.97      0.97     88000\n",
      "weighted avg       0.97      0.97      0.97     88000\n",
      "\n",
      "[0.97404605 0.95776786 0.96       0.96743363 0.97663551 0.97109244]\n"
     ]
    }
   ],
   "source": [
    "#Conversion des listes en array de types Numpy(Si ce n'est pas le cas)\n",
    "import numpy as np\n",
    "\n",
    "all_preds_array = np.array(all_preds)\n",
    "all_labels_array = np.array(all_labels)\n",
    "\n",
    "# Use classification_report to Calculate Metrics\n",
    "from sklearn.metrics import classification_report\n",
    "\n",
    "# Calcul et imprime le rapport de classification\n",
    "print(classification_report(all_labels_array, all_preds_array))\n",
    "\n",
    "# Calcul de l'Accuracy par Classe Mécanique\n",
    "from sklearn.metrics import confusion_matrix\n",
    "\n",
    "# Calcul de l'Accuracy par classe\n",
    "cm = confusion_matrix(all_labels_array, all_preds_array)\n",
    "per_class_accuracy = cm.diagonal() / cm.sum(axis=1)\n",
    "print(per_class_accuracy)"
   ]
  },
  {
   "cell_type": "markdown",
   "metadata": {},
   "source": [
    "Cette portion de code étendue est conçue pour évaluer de manière plus détaillée la performance du modèle de réseau de neurones convolutif (CNN) sur l'ensemble de validation.  "
   ]
  },
  {
   "cell_type": "code",
   "execution_count": 53,
   "metadata": {},
   "outputs": [
    {
     "name": "stderr",
     "output_type": "stream",
     "text": [
      "100%|██████████| 54838/54838 [21:01<00:00, 43.48it/s]\n"
     ]
    },
    {
     "name": "stdout",
     "output_type": "stream",
     "text": [
      "Validation Loss: 1.0417\n",
      "Validation Accuracy: 0.7652\n"
     ]
    },
    {
     "data": {
      "image/png": "[encoded data removed]",
      "text/plain": [
       "<Figure size 2500x2500 with 2 Axes>"
      ]
     },
     "metadata": {},
     "output_type": "display_data"
    }
   ],
   "source": [
    "# Évaluation sur le jeu de validation\n",
    "# Importation de la bibliothèque nécessaire pour la barre de progression\n",
    "from tqdm import tqdm\n",
    "\n",
    "# Met le modèle en mode d'évaluation. Cela est crucial car cela désactive des comportements spécifiques à l'entraînement,\n",
    "# tels que les dropout layers et la normalisation par lots, qui ne devraient pas être utilisés lors de l'évaluation.\n",
    "model_ft.eval()\n",
    "\n",
    "# Initialisation des variables pour accumuler la perte totale et le nombre total de prédictions correctes\n",
    "running_loss = 0.0\n",
    "running_corrects = 0\n",
    "total = 0\n",
    "\n",
    "# Désactive le calcul du gradient, réduisant la consommation de mémoire et accélérant le processus\n",
    "# puisque les gradients ne sont pas nécessaires pour l'évaluation.\n",
    "with torch.no_grad():\n",
    "        #Itère sur les données de l'ensemble de validation. tqdm est utilisé pour afficher une barre de progression.\n",
    "    for inputs, labels in tqdm(dataloaders_dict[f'valid_{X}m_{moitiequarts}_IPM_{Y}']):\n",
    "        # Transfère les inputs et les labels sur le dispositif de calcul (GPU ou CPU).\n",
    "        inputs = inputs.to(device)\n",
    "        labels = labels.to(device)\n",
    "\n",
    "        # Calcule les sorties en passant les inputs à travers le modèle.\n",
    "        outputs = model_ft(inputs)\n",
    "        \n",
    "        # Calcule la perte entre les sorties prédites et les vrais labels.\n",
    "        loss = criterion(outputs, labels)\n",
    "        \n",
    "        # Trouve la classe prédite pour chaque input en prenant l'indice de la valeur maximale dans les prédictions logit.\n",
    "        _, preds = torch.max(outputs, 1)\n",
    "\n",
    "        # Accumule la perte totale en ajoutant la perte de ce lot.\n",
    "        running_loss += loss.item() * inputs.size(0)\n",
    "        \n",
    "        # Accumule le nombre total de prédictions correctes.\n",
    "        running_corrects += torch.sum(preds == labels.data)\n",
    "        \n",
    "        # Accumule le nombre total d'exemples vus.\n",
    "        total += inputs.size(0)\n",
    "# Calcule la perte moyenne sur l'ensemble de validation.\n",
    "val_loss = running_loss / total\n",
    "\n",
    "# Calcule la précision globale sur l'ensemble de validation.\n",
    "val_acc = running_corrects.double() / total\n",
    "\n",
    "# Affiche la perte moyenne et la précision sur l'ensemble de validation.\n",
    "print(f'Validation Loss: {val_loss:.4f}')\n",
    "print(f'Validation Accuracy: {val_acc:.4f}')\n",
    "\n",
    "# Matrice de confusion pour le jeu de validation\n",
    "val_preds = []\n",
    "val_labels = []\n",
    "\n",
    "for inputs, labels in dataloaders_dict[f'valid_{X}m_{moitiequarts}_IPM_{Y}']:\n",
    "    inputs = inputs.to(device)\n",
    "    labels = labels.to(device)\n",
    "\n",
    "    with torch.no_grad():\n",
    "        outputs = model_ft(inputs)\n",
    "        _, preds = torch.max(outputs, 1)\n",
    "    \n",
    "    val_preds.extend(preds.cpu().numpy())\n",
    "    val_labels.extend(labels.cpu().numpy())\n",
    "\n",
    "    \n",
    "# Calcul de la matrice de confusion en utilisant scikit-learn\n",
    "cm_val = confusion_matrix(val_labels, val_preds)\n",
    "# Utilisation de Seaborn pour afficher la matrice de confusion sous forme de heatmap\n",
    "plt.figure(figsize=(25, 25))\n",
    "sns.heatmap(cm_val, annot=True, fmt=\"d\", cmap=\"Blues\")\n",
    "plt.xlabel('Predicted Labels')\n",
    "plt.ylabel('True Labels')\n",
    "plt.title(f'Confusion Matrix for Validation Set_{X}m_{moitiequarts}_IPM_{Y}_vgg11bn')\n",
    "plt.show()\n",
    "\n"
   ]
  },
  {
   "cell_type": "code",
   "execution_count": 54,
   "metadata": {},
   "outputs": [
    {
     "name": "stdout",
     "output_type": "stream",
     "text": [
      "Classification Report for Validation Set_50m_moitie_IPM_100:\n",
      "               precision    recall  f1-score   support\n",
      "\n",
      "           0     0.8060    0.7710    0.7881    153100\n",
      "           1     0.6423    0.6811    0.6611     52200\n",
      "           2     0.6983    0.5326    0.6043      8000\n",
      "           3     0.7462    0.7915    0.7682     54100\n",
      "           4     0.8114    0.8486    0.8296    105800\n",
      "           5     0.7209    0.6905    0.7054     65500\n",
      "\n",
      "    accuracy                         0.7652    438700\n",
      "   macro avg     0.7375    0.7192    0.7261    438700\n",
      "weighted avg     0.7658    0.7652    0.7649    438700\n",
      "\n"
     ]
    }
   ],
   "source": [
    "# Rapport de classification pour le jeu de validation\n",
    "# Conversion des listes en tableaux numpy pour une utilisation avec scikit-learn\n",
    "\n",
    "val_true_labels_array = np.array(val_labels)\n",
    "val_predictions_array = np.array(val_preds)\n",
    "\n",
    "# Générez le rapport de classification pour l'ensemble de validation\n",
    "val_report = classification_report(val_true_labels_array, val_predictions_array, digits=4)\n",
    "print(f\"Classification Report for Validation Set_{X}m_{moitiequarts}_IPM_{Y}:\\n\", val_report)\n",
    "\n"
   ]
  },
  {
   "cell_type": "code",
   "execution_count": 55,
   "metadata": {},
   "outputs": [
    {
     "name": "stdout",
     "output_type": "stream",
     "text": [
      "Per-class Accuracy for the Validation Set_50m_moitie_IPM_100: [0.77104507 0.6810728  0.532625   0.7915342  0.84864839 0.69053435]\n"
     ]
    }
   ],
   "source": [
    "# Précision (Accuracy) par classe pour le jeu de validation\n",
    "# Calculez la matrice de confusion pour l'ensemble de validation\n",
    "val_cm = confusion_matrix(val_true_labels_array, val_predictions_array)\n",
    "\n",
    "# Calculez la précision par classe manuellement à partir de la matrice de confusion\n",
    "val_per_class_accuracy = val_cm.diagonal() / val_cm.sum(axis=1)\n",
    "print(f\"Per-class Accuracy for the Validation Set_{X}m_{moitiequarts}_IPM_{Y}:\", val_per_class_accuracy)"
   ]
  },
  {
   "cell_type": "markdown",
   "metadata": {},
   "source": [
    "##### Sauvegarde des graphes"
   ]
  },
  {
   "cell_type": "code",
   "execution_count": 56,
   "metadata": {},
   "outputs": [],
   "source": [
    "import os\n",
    "import numpy as np\n",
    "import pandas as pd\n",
    "import torch\n",
    "from sklearn.metrics import confusion_matrix, classification_report\n",
    "import seaborn as sns\n",
    "import matplotlib.pyplot as plt\n",
    "\n",
    "# Configuration initiale\n",
    "\n",
    "BASE_DIR = r'D:\\Poverty_Predict_Par_Milieu'#Choisir une base directory\n",
    "\n",
    "GRAPH_DIR = os.path.join(BASE_DIR, f'Graph_etape_cnn_pred_nightlights_{X}m_{moitiequarts}_IPM_{Y}_vgg11bn')\n",
    "os.makedirs(GRAPH_DIR, exist_ok=True)\n",
    "\n",
    "# Fonction pour générer et sauvegarder l'histogramme de distribution\n",
    "def save_histogram(data, column, title, filename):\n",
    "    plt.hist(data[column], bins='auto', alpha=0.7, rwidth=0.85)\n",
    "    plt.xlabel('Nightlights Bin')\n",
    "    plt.ylabel('Frequency')\n",
    "    plt.title(title)\n",
    "    plt.grid(axis='y', alpha=0.75)\n",
    "    plt.savefig(os.path.join(GRAPH_DIR, filename))\n",
    "    plt.close()\n",
    "\n",
    "# Fonction pour générer et sauvegarder la heatmap de la matrice de confusion\n",
    "def save_confusion_matrix_heatmap(y_true, y_pred, title, filename):\n",
    "    cm = confusion_matrix(y_true, y_pred)\n",
    "    plt.figure(figsize=(25,25))\n",
    "    sns.heatmap(cm, annot=True, fmt=\"d\", cmap=\"Blues\")\n",
    "    plt.xlabel('Predicted Labels')\n",
    "    plt.ylabel('True Labels')\n",
    "    plt.title(title)\n",
    "    plt.savefig(os.path.join(GRAPH_DIR, filename))\n",
    "    plt.close()\n",
    "\n",
    "# Fonction pour générer et sauvegarder le rapport de classification\n",
    "def save_classification_report(y_true, y_pred, filename, digits=4):\n",
    "    report = classification_report(y_true, y_pred, digits=digits)\n",
    "    with open(os.path.join(GRAPH_DIR, filename), 'w') as f:\n",
    "        f.write(report)\n",
    "\n",
    "# Génération et sauvegarde des fichiers\n",
    "save_histogram(globals()[df_name], f'nightlights_{X}m_bins', f'Distribution of Nightlights Bin', f'distribution_nightlights_bin_{X}m_IPM_{Y}_vgg11bn.png')\n",
    "save_confusion_matrix_heatmap(all_labels, all_preds, f'Confusion Matrix for Training Set', f'confusion_matrix_train_{X}m_IPM_{Y}_vgg11bn.png')\n",
    "save_confusion_matrix_heatmap(val_labels, val_preds, f'Confusion Matrix for Validation Set', f'confusion_matrix_val_{X}m_IPM_{Y}_vgg11bn.png')\n",
    "save_classification_report(all_labels_array, all_preds_array, f'classification_report_train_{X}m_IPM_{Y}_vgg11bn.txt')\n",
    "save_classification_report(val_true_labels_array, val_predictions_array, f'classification_report_val_{X}m_IPM_{Y}_vgg11bn.txt')"
   ]
  }
 ],
 "metadata": {
  "kernelspec": {
   "display_name": "base",
   "language": "python",
   "name": "python3"
  },
  "language_info": {
   "codemirror_mode": {
    "name": "ipython",
    "version": 3
   },
   "file_extension": ".py",
   "mimetype": "text/x-python",
   "name": "python",
   "nbconvert_exporter": "python",
   "pygments_lexer": "ipython3",
   "version": "3.11.5"
  }
 },
 "nbformat": 4,
 "nbformat_minor": 2
}
