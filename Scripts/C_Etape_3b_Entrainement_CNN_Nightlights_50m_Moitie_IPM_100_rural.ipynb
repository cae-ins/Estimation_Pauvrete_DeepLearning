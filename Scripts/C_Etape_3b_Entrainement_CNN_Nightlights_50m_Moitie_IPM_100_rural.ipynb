{
 "cells": [
  {
   "cell_type": "code",
   "execution_count": 28,
   "metadata": {},
   "outputs": [],
   "source": [
    "import pandas as pd\n",
    "from sklearn.mixture import GaussianMixture\n",
    "import numpy as np\n",
    "import matplotlib.pyplot as plt\n",
    "\n",
    "def load_data(file_path):\n",
    "    \"\"\"Charge les données à partir du fichier CSV.\"\"\"\n",
    "    return pd.read_csv(file_path)\n",
    "\n",
    "def apply_gmm(data, column, n_components_range=range(1, 8)):\n",
    "    \"\"\"Applique le GMM à une colonne spécifique pour trouver le nombre optimal de clusters.\"\"\"\n",
    "    X = data[column].values.reshape(-1, 1)  # Redimensionnement pour le GMM\n",
    "    bics = []\n",
    "    for n_components in n_components_range:\n",
    "        gmm = GaussianMixture(n_components=n_components, random_state=42)\n",
    "        gmm.fit(X)\n",
    "        bics.append(gmm.bic(X))\n",
    "    optimal_n_components = n_components_range[np.argmin(bics)]\n",
    "    gmm_optimal = GaussianMixture(n_components=optimal_n_components, random_state=42)\n",
    "    gmm_optimal.fit(X)\n",
    "    cluster_labels = gmm_optimal.predict(X)\n",
    "    return optimal_n_components, cluster_labels, n_components_range, bics\n",
    "\n",
    "def generate_columns_to_exclude(X):\n",
    "    \"\"\"Génère la liste des colonnes à exclure en fonction de la valeur de X.\"\"\"\n",
    "    base_columns_to_exclude = [\n",
    "        \"nightlights_50m\", \"nightlights_20m\",\"nightlights_100m\",\n",
    "        \"nightlights_25m\", \"nightlights_30m\", \"nightlights_150m\",\n",
    "        \"nightlights_1000m\", \"nightlights_5000m\", \"nightlights_0m\"\n",
    "    ]\n",
    "    \n",
    "    specific_column = f\"nightlights_{X}m\"\n",
    "    if specific_column in base_columns_to_exclude:\n",
    "        base_columns_to_exclude.remove(specific_column)\n",
    "    \n",
    "    return base_columns_to_exclude\n",
    "\n",
    "def main(file_path, X, moitiequarts, Y):\n",
    "    \"\"\"Charge les données, applique le GMM, et prépare le DataFrame final selon les paramètres fournis.\"\"\"\n",
    "    # Générer les noms dynamiquement\n",
    "    column_to_cluster = f\"nightlights_{X}m\"\n",
    "    df_name = f\"df_nightlights_{X}m_{moitiequarts}_IPM_{Y}\"\n",
    "    bin_column = f\"nightlights_{X}m_bins\"\n",
    "    \n",
    "    # Générer la liste des colonnes à exclure\n",
    "    columns_to_exclude = generate_columns_to_exclude(X)\n",
    "    \n",
    "    # Charger les données\n",
    "    data = load_data(file_path)\n",
    "    \n",
    "    # Appliquer le GMM\n",
    "    optimal_n_components, cluster_labels, n_components_range, bics = apply_gmm(data, column_to_cluster)\n",
    "    \n",
    "    # Afficher la liste des scores BIC\n",
    "    print(\"Scores BIC pour chaque nombre de clusters :\")\n",
    "    for n, bic in zip(n_components_range, bics):\n",
    "        print(f\"Nombre de clusters: {n}, BIC: {bic}\")\n",
    "    \n",
    "    # Créer le DataFrame final et ajouter les étiquettes de cluster\n",
    "    df_result = data.drop(columns=columns_to_exclude)\n",
    "    df_result[bin_column] = cluster_labels\n",
    "    \n",
    "    # Afficher les résultats\n",
    "    print(f\"Nombre optimal de clusters pour '{column_to_cluster}': {optimal_n_components}\")\n",
    "    print(df_result.head())\n",
    "    \n",
    "    # Sauvegarder le DataFrame avec un nom dynamique\n",
    "    globals()[df_name] = df_result\n",
    "\n",
    "    # Tracer le graphique des scores BIC\n",
    "    plt.figure(figsize=(10, 6))\n",
    "    plt.plot(n_components_range, bics, marker='o', linestyle='-')\n",
    "    plt.title(\"Relation entre le nombre de clusters et le BIC\")\n",
    "    plt.xlabel(\"Nombre de clusters\")\n",
    "    plt.ylabel(\"Score BIC\")\n",
    "    plt.grid(True)\n",
    "    \n",
    "    # Annoter chaque point avec son score BIC en texte oblique\n",
    "    for (i, txt) in zip(n_components_range, bics):\n",
    "        plt.annotate(f\"{txt:.2f}\",  # Texte à annoter\n",
    "                     (i, txt),  # Position (x, y) pour l'annotation\n",
    "                     textcoords=\"offset points\",  # Coordonnées relatives à la position\n",
    "                     xytext=(0, 5),  # Décalage textuel (x, y)\n",
    "                     ha='center',  # Alignement horizontal\n",
    "                     rotation=45)  # Texte oblique\n",
    "\n",
    "    plt.show()\n",
    "    \n",
    "    # Tracer l'histogramme de la distribution des \"nightlights\"\n",
    "    plt.figure(figsize=(10, 6))\n",
    "    plt.hist(df_result[bin_column], bins='auto', alpha=0.7, rwidth=0.85)\n",
    "    plt.xlabel(f'Nightlights Bin {X} mètres')  # Label for the x-axis\n",
    "    plt.ylabel('Frequency')  # Label for the y-axis\n",
    "    plt.title(f'Distribution of Nightlights Bin {X} mètres')  # Title of the histogram\n",
    "    plt.grid(axis='y', alpha=0.75)\n",
    "    plt.show()\n",
    "    \n",
    "    # Définir le chemin du fichier de sortie\n",
    "    output_file_path = f'D:\\\\Poverty_Predict_Par_Milieu\\\\Data_rural\\\\df_nightlights_{X}m_{moitiequarts}_IPM_{Y}.csv'\n",
    "\n",
    "    # Exporter le DataFrame en fichier CSV\n",
    "    df_result.to_csv(output_file_path, index=False)\n",
    "    print(f\"DataFrame sauvegardé sous {output_file_path}\")\n",
    "    \n",
    "    # Retourner le DataFrame avec le nom dynamique\n",
    "    return df_result\n"
   ]
  },
  {
   "cell_type": "code",
   "execution_count": 29,
   "metadata": {},
   "outputs": [
    {
     "name": "stdout",
     "output_type": "stream",
     "text": [
      "Scores BIC pour chaque nombre de clusters :\n",
      "Nombre de clusters: 1, BIC: 28787.802025281875\n",
      "Nombre de clusters: 2, BIC: 13797.512157507888\n",
      "Nombre de clusters: 3, BIC: 10883.441094888725\n",
      "Nombre de clusters: 4, BIC: 10314.37596920209\n",
      "Nombre de clusters: 5, BIC: 10179.146311595852\n",
      "Nombre de clusters: 6, BIC: 10143.262376613911\n",
      "Nombre de clusters: 7, BIC: 10144.896331162568\n",
      "Nombre optimal de clusters pour 'nightlights_50m': 6\n",
      "  country  year    hhid  grappe  menage  vague      zae              region  \\\n",
      "0     CIV  2018  8101.0      81       1      1  SUD-EST  AUTONOME D'ABIDJAN   \n",
      "1     CIV  2018  8103.0      81       3      1  SUD-EST  AUTONOME D'ABIDJAN   \n",
      "2     CIV  2018  8104.0      81       4      1  SUD-EST  AUTONOME D'ABIDJAN   \n",
      "3     CIV  2018  8105.0      81       5      1  SUD-EST  AUTONOME D'ABIDJAN   \n",
      "4     CIV  2018  8106.0      81       6      1  SUD-EST  AUTONOME D'ABIDJAN   \n",
      "\n",
      "  milieu milieu2  ...                     interview__id  GPS__Latitude  \\\n",
      "0  Rural   Rural  ...  d03c914334034cb8852f71621c3cf88a       5.480360   \n",
      "1  Rural   Rural  ...  eeaa79a6b9874ca8abe1e0e69ac6b852       5.480303   \n",
      "2  Rural   Rural  ...  f4f0394b8cd7477a88d6ec2acdc07c62       5.480217   \n",
      "3  Rural   Rural  ...  5537d88d434544c995965d146b918ebb       5.479894   \n",
      "4  Rural   Rural  ...  a13efdba555f4c0392ea2011a2027d87       5.479459   \n",
      "\n",
      "   GPS__Longitude  GPS__Accuracy GPS__Altitude       GPS__Timestamp  \\\n",
      "0       -4.151238           32.0          43.0  2018-11-02T08:40:01   \n",
      "1       -4.151965           25.0          82.0  2018-11-02T15:03:55   \n",
      "2       -4.152364           18.0          88.0  2018-11-02T09:37:31   \n",
      "3       -4.152511           25.0          97.0  2018-11-02T12:17:19   \n",
      "4       -4.152512           27.0          89.0  2018-11-02T10:57:01   \n",
      "\n",
      "  nom_prenom_cm localisation_menage nightlights_50m nightlights_50m_bins  \n",
      "0           NaN                 NaN        7.117401                    5  \n",
      "1           NaN                 NaN       10.430248                    1  \n",
      "2           NaN                 NaN       13.743094                    1  \n",
      "3           NaN                 NaN       13.743094                    1  \n",
      "4           NaN                 NaN       13.743094                    1  \n",
      "\n",
      "[5 rows x 50 columns]\n"
     ]
    },
    {
     "data": {
      "image/png": "[encoded data removed]",
      "text/plain": [
       "<Figure size 1000x600 with 1 Axes>"
      ]
     },
     "metadata": {},
     "output_type": "display_data"
    },
    {
     "data": {
      "image/png": "[encoded data removed]",
      "text/plain": [
       "<Figure size 1000x600 with 1 Axes>"
      ]
     },
     "metadata": {},
     "output_type": "display_data"
    },
    {
     "name": "stdout",
     "output_type": "stream",
     "text": [
      "DataFrame sauvegardé sous D:\\Poverty_Predict_Par_Milieu\\Data_rural\\df_nightlights_50m_moitie_IPM_100.csv\n"
     ]
    }
   ],
   "source": [
    "# Paramètres de l'utilisateur\n",
    "file_path = r'D:\\Poverty_Predict_Par_Milieu\\rural_data.csv' #Chemin des données d'enquetes en milieu rural\n",
    "\n",
    "X = 50\n",
    "moitiequarts = 'moitie'\n",
    "Y = 100\n",
    "\n",
    "# Exécution principale\n",
    "df_result = main(file_path, X, moitiequarts, Y)"
   ]
  },
  {
   "cell_type": "code",
   "execution_count": 30,
   "metadata": {},
   "outputs": [
    {
     "name": "stdout",
     "output_type": "stream",
     "text": [
      "Affichage de df_nightlights_50m_moitie_IPM_100 :\n",
      "     country  year      hhid  grappe  menage  vague      zae  \\\n",
      "0        CIV  2018    8101.0      81       1      1  SUD-EST   \n",
      "1        CIV  2018    8103.0      81       3      1  SUD-EST   \n",
      "2        CIV  2018    8104.0      81       4      1  SUD-EST   \n",
      "3        CIV  2018    8105.0      81       5      1  SUD-EST   \n",
      "4        CIV  2018    8106.0      81       6      1  SUD-EST   \n",
      "...      ...   ...       ...     ...     ...    ...      ...   \n",
      "7707     CIV  2019  108408.0    1084       8      2   CENTRE   \n",
      "7708     CIV  2019  108409.0    1084       9      2   CENTRE   \n",
      "7709     CIV  2019  108410.0    1084      10      2   CENTRE   \n",
      "7710     CIV  2019  108411.0    1084      11      2   CENTRE   \n",
      "7711     CIV  2019  108412.0    1084      12      2   CENTRE   \n",
      "\n",
      "                  region milieu milieu2  ...  \\\n",
      "0     AUTONOME D'ABIDJAN  Rural   Rural  ...   \n",
      "1     AUTONOME D'ABIDJAN  Rural   Rural  ...   \n",
      "2     AUTONOME D'ABIDJAN  Rural   Rural  ...   \n",
      "3     AUTONOME D'ABIDJAN  Rural   Rural  ...   \n",
      "4     AUTONOME D'ABIDJAN  Rural   Rural  ...   \n",
      "...                  ...    ...     ...  ...   \n",
      "7707             MORONOU  Rural   Rural  ...   \n",
      "7708             MORONOU  Rural   Rural  ...   \n",
      "7709             MORONOU  Rural   Rural  ...   \n",
      "7710             MORONOU  Rural   Rural  ...   \n",
      "7711             MORONOU  Rural   Rural  ...   \n",
      "\n",
      "                         interview__id  GPS__Latitude  GPS__Longitude  \\\n",
      "0     d03c914334034cb8852f71621c3cf88a       5.480360       -4.151238   \n",
      "1     eeaa79a6b9874ca8abe1e0e69ac6b852       5.480303       -4.151965   \n",
      "2     f4f0394b8cd7477a88d6ec2acdc07c62       5.480217       -4.152364   \n",
      "3     5537d88d434544c995965d146b918ebb       5.479894       -4.152511   \n",
      "4     a13efdba555f4c0392ea2011a2027d87       5.479459       -4.152512   \n",
      "...                                ...            ...             ...   \n",
      "7707  103cff29baaf4405863e1043897aa6dc       6.546733       -4.508211   \n",
      "7708  e3a3deb8965e45c18018d1e5d103d914       6.549112       -4.505840   \n",
      "7709  45397589c6d44a478051e4089a884c97       6.551556       -4.507530   \n",
      "7710  505343592b0f4b8b8ede9980f714b8ab       6.552345       -4.507551   \n",
      "7711  d3431cc126bd44b38fa4976fc3adb753       6.550105       -4.508566   \n",
      "\n",
      "      GPS__Accuracy GPS__Altitude       GPS__Timestamp nom_prenom_cm  \\\n",
      "0              32.0          43.0  2018-11-02T08:40:01           NaN   \n",
      "1              25.0          82.0  2018-11-02T15:03:55           NaN   \n",
      "2              18.0          88.0  2018-11-02T09:37:31           NaN   \n",
      "3              25.0          97.0  2018-11-02T12:17:19           NaN   \n",
      "4              27.0          89.0  2018-11-02T10:57:01           NaN   \n",
      "...             ...           ...                  ...           ...   \n",
      "7707            7.0         134.0  2019-06-16T19:42:05           NaN   \n",
      "7708           36.0         131.0  2019-06-17T08:10:57           NaN   \n",
      "7709           29.0         118.0  2019-06-16T09:30:14           NaN   \n",
      "7710           19.0         157.0  2019-06-16T10:18:13           NaN   \n",
      "7711            6.0         134.0  2019-06-16T08:39:10           NaN   \n",
      "\n",
      "     localisation_menage nightlights_50m nightlights_50m_bins  \n",
      "0                    NaN        7.117401                    5  \n",
      "1                    NaN       10.430248                    1  \n",
      "2                    NaN       13.743094                    1  \n",
      "3                    NaN       13.743094                    1  \n",
      "4                    NaN       13.743094                    1  \n",
      "...                  ...             ...                  ...  \n",
      "7707                 NaN        2.226889                    4  \n",
      "7708                 NaN        1.055968                    0  \n",
      "7709                 NaN        1.651123                    0  \n",
      "7710                 NaN        0.570887                    0  \n",
      "7711                 NaN        1.651123                    0  \n",
      "\n",
      "[7712 rows x 50 columns]\n"
     ]
    }
   ],
   "source": [
    "# Affichage du DataFrame avec le nom dynamique\n",
    "df_name = f\"df_nightlights_{X}m_{moitiequarts}_IPM_{Y}\"\n",
    "print(f\"Affichage de {df_name} :\")\n",
    "print(globals()[df_name])"
   ]
  },
  {
   "cell_type": "code",
   "execution_count": 31,
   "metadata": {},
   "outputs": [
    {
     "data": {
      "text/plain": [
       "array([5, 1, 3, 4, 0, 2], dtype=int64)"
      ]
     },
     "execution_count": 31,
     "metadata": {},
     "output_type": "execute_result"
    }
   ],
   "source": [
    "globals()[df_name][f'nightlights_{X}m_bins'].unique()"
   ]
  },
  {
   "cell_type": "markdown",
   "metadata": {},
   "source": [
    "##### I - Affichage des grappes (ZD) (cette section n'est pas une nécessité)"
   ]
  },
  {
   "cell_type": "code",
   "execution_count": 32,
   "metadata": {},
   "outputs": [],
   "source": [
    "Data_milieu='Data_rural'\n"
   ]
  },
  {
   "cell_type": "code",
   "execution_count": 33,
   "metadata": {},
   "outputs": [
    {
     "name": "stdout",
     "output_type": "stream",
     "text": [
      "Éléments de la colonne 'grappe':\n",
      "0         81\n",
      "1         81\n",
      "2         81\n",
      "3         81\n",
      "4         81\n",
      "        ... \n",
      "7707    1084\n",
      "7708    1084\n",
      "7709    1084\n",
      "7710    1084\n",
      "7711    1084\n",
      "Name: grappe, Length: 7712, dtype: int64\n",
      "\n",
      "Chiffres uniques dans la colonne 'grappe':\n",
      "[  81   83   84   85   86   87   97   98   99  100  101  102  105  106\n",
      "  109  110  111  112  114  115  116  117  118  119  120  121  122  123\n",
      "  124  125  128  129  130  131  132  133  134  135  137  138  139  140\n",
      "  141  142  143  155  156  157  158  159  160  161  163  165  168  169\n",
      "  170  171  172  173  174  175  176  177  178  181  182  205  206  207\n",
      "  208  209  210  211  212  213  214  221  223  224  225  228  229  230\n",
      "  231  232  233  237  238  241  242  244  245  246  248  249  250  251\n",
      "  253  254  258  259  260  262  263  264  265  274  275  277  278  279\n",
      "  280  282  284  287  288  289  290  291  293  310  311  312  313  314\n",
      "  315  321  322  323  324  325  327  328  329  330  331  332  333  334\n",
      "  335  336  337  338  339  340  343  344  345  346  347  348  350  351\n",
      "  352  353  355  357  358  359  360  361  362  363  364  365  374  375\n",
      "  376  377  378  379  380  381  383  384  386  387  388  390  391  392\n",
      "  393  394  395  400  402  403  404  405  406  407  408  410  411  412\n",
      "  413  414  415  417  418  419  424  425  427  428  429  434  439  440\n",
      "  441  442  443  444  445  446  447  448  451  452  457  458  459  460\n",
      "  461  462  463  464  467  468  472  473  474  475  476  477  478  479\n",
      "  480  481  483  486  487  488  489  490  493  494  500  501  502  506\n",
      "  507  508  510  512  513  514  518  519  520  521  522  523  524  525\n",
      "  526  533  534  535  537  538  540  541  542  544  545  546  547  548\n",
      "  550  551  552  555  556  557  558  559  560  565  566  570  571  572\n",
      "  573  574  576  578  580  581  582  583  584  585  586  587  588  590\n",
      "  591  593  594  596  597  598  599  600  601  602  611  612  614  616\n",
      "  617  619  620  621  622  624  625  627  630  631  632  633  634  637\n",
      "  638  639  640  641  648  649  650  651  652  654  655  656  660  661\n",
      "  662  663  666  668  669  670  671  672  674  675  676  677  678  680\n",
      "  681  684  688  689  690  691  693  694  695  697  699  700  701  702\n",
      "  704  708  709  710  711  712  713  714  717  718  719  720  721  724\n",
      "  725  726  727  729  730  731  735  736  739  740  742  743  744  745\n",
      "  747  748  750  753  754  755  756  757  758  759  760  761  762  763\n",
      "  766  767  768  769  770  771  772  774  775  776  777  778  780  781\n",
      "  782  783  784  786  787  788  789  790  791  792  794  795  796  797\n",
      "  798  799  801  802  803  804  805  806  808  810  811  813  815  816\n",
      "  818  819  820  821  822  823  824  825  826  827  828  829  832  833\n",
      "  834  840  841  842  843  845  848  849  850  851  854  855  856  857\n",
      "  858  860  861  862  864  865  867  869  870  872  873  875  880  881\n",
      "  882  883  884  886  888  889  890  891  892  893  894  896  898  899\n",
      "  900  901  903  905  906  907  908  909  910  911  912  913  915  919\n",
      "  920  921  922  924  925  927  929  934  935  936  937  938  939  940\n",
      "  941  942  944  945  946  947  948  949  951  952  957  958  959  960\n",
      "  961  962  966  968  969  970  971  973  974  975  978  979  983  984\n",
      "  986  987  988  990  991  992  993  994  995  996  997  998  999 1000\n",
      " 1003 1004 1005 1006 1007 1008 1009 1011 1012 1013 1014 1015 1016 1018\n",
      " 1019 1020 1021 1026 1027 1028 1033 1034 1035 1036 1037 1038 1039 1040\n",
      " 1041 1042 1043 1045 1046 1047 1048 1051 1055 1056 1058 1062 1064 1066\n",
      " 1067 1068 1069 1072 1073 1075 1076 1077 1078 1080 1081 1082 1083 1084]\n",
      "\n",
      "Fréquence des chiffres dans la colonne 'grappe':\n",
      "grappe\n",
      "81      12\n",
      "616     12\n",
      "770     12\n",
      "771     12\n",
      "772     12\n",
      "        ..\n",
      "1011    11\n",
      "483     11\n",
      "403     10\n",
      "1013     9\n",
      "477      6\n",
      "Name: count, Length: 644, dtype: int64\n"
     ]
    }
   ],
   "source": [
    "import pandas as pd\n",
    "\n",
    "# Charger le DataFrame sans doublons\n",
    "file_path = f'D:\\\\Poverty_Predict_Par_Milieu\\\\{Data_milieu}\\\\df_nightlights_{X}m_{moitiequarts}_IPM_{Y}.csv'\n",
    "df = pd.read_csv(file_path)\n",
    "\n",
    "# Afficher les éléments de la colonne 'grappe'\n",
    "print(\"Éléments de la colonne 'grappe':\")\n",
    "print(df['grappe'])\n",
    "\n",
    "# Afficher les chiffres uniques dans la colonne 'grappe'\n",
    "unique_values = df['grappe'].unique()\n",
    "print(\"\\nChiffres uniques dans la colonne 'grappe':\")\n",
    "print(unique_values)\n",
    "\n",
    "# Afficher la fréquence de chaque chiffre unique\n",
    "value_counts = df['grappe'].value_counts()\n",
    "print(\"\\nFréquence des chiffres dans la colonne 'grappe':\")\n",
    "print(value_counts)\n"
   ]
  },
  {
   "cell_type": "markdown",
   "metadata": {},
   "source": [
    "##### Ajout d'une colonne 'is_train'"
   ]
  },
  {
   "cell_type": "code",
   "execution_count": 34,
   "metadata": {},
   "outputs": [],
   "source": [
    "import pandas as pd\n",
    "\n",
    "def load_dataframe(file_path):\n",
    "    \"\"\"Charger le DataFrame à partir du fichier CSV.\"\"\"\n",
    "    return pd.read_csv(file_path)\n",
    "\n",
    "def mark_sample_by_group(df, group_column, n_samples):\n",
    "    \"\"\"Grouper le DataFrame par la colonne spécifiée, sélectionner un nombre aléatoire de lignes par groupe, et marquer ces lignes.\"\"\"\n",
    "    # Créer une colonne 'is_train' initialisée à False\n",
    "    df['is_train'] = False\n",
    "    # Sélectionner aléatoirement des échantillons par groupe\n",
    "    sampled_indices = df.groupby(group_column).apply(lambda x: x.sample(n_samples).index).explode()\n",
    "    # Marquer les lignes sélectionnées\n",
    "    df.loc[sampled_indices, 'is_train'] = True\n",
    "    return df\n",
    "\n",
    "def save_dataframe(df, file_path):\n",
    "    \"\"\"Sauvegarder le DataFrame en fichier CSV.\"\"\"\n",
    "    df.to_csv(file_path, index=False)"
   ]
  },
  {
   "cell_type": "code",
   "execution_count": 35,
   "metadata": {},
   "outputs": [],
   "source": [
    "# Définir les variables X, moitiequarts et Y pour personnaliser les chemins de fichiers\n",
    "X = 50\n",
    "moitiequarts = 'moitie'\n",
    "Y = 100\n",
    "Data_milieu='Data_rural'"
   ]
  },
  {
   "cell_type": "code",
   "execution_count": 36,
   "metadata": {},
   "outputs": [
    {
     "name": "stdout",
     "output_type": "stream",
     "text": [
      "DataFrame avec colonne 'is_train':\n",
      "     country  year      hhid  grappe  menage  vague      zae  \\\n",
      "0        CIV  2018    8101.0      81       1      1  SUD-EST   \n",
      "1        CIV  2018    8103.0      81       3      1  SUD-EST   \n",
      "2        CIV  2018    8104.0      81       4      1  SUD-EST   \n",
      "3        CIV  2018    8105.0      81       5      1  SUD-EST   \n",
      "4        CIV  2018    8106.0      81       6      1  SUD-EST   \n",
      "...      ...   ...       ...     ...     ...    ...      ...   \n",
      "7707     CIV  2019  108408.0    1084       8      2   CENTRE   \n",
      "7708     CIV  2019  108409.0    1084       9      2   CENTRE   \n",
      "7709     CIV  2019  108410.0    1084      10      2   CENTRE   \n",
      "7710     CIV  2019  108411.0    1084      11      2   CENTRE   \n",
      "7711     CIV  2019  108412.0    1084      12      2   CENTRE   \n",
      "\n",
      "                  region milieu milieu2  ...  GPS__Latitude  GPS__Longitude  \\\n",
      "0     AUTONOME D'ABIDJAN  Rural   Rural  ...       5.480360       -4.151238   \n",
      "1     AUTONOME D'ABIDJAN  Rural   Rural  ...       5.480303       -4.151965   \n",
      "2     AUTONOME D'ABIDJAN  Rural   Rural  ...       5.480217       -4.152364   \n",
      "3     AUTONOME D'ABIDJAN  Rural   Rural  ...       5.479894       -4.152511   \n",
      "4     AUTONOME D'ABIDJAN  Rural   Rural  ...       5.479459       -4.152512   \n",
      "...                  ...    ...     ...  ...            ...             ...   \n",
      "7707             MORONOU  Rural   Rural  ...       6.546733       -4.508211   \n",
      "7708             MORONOU  Rural   Rural  ...       6.549112       -4.505840   \n",
      "7709             MORONOU  Rural   Rural  ...       6.551556       -4.507530   \n",
      "7710             MORONOU  Rural   Rural  ...       6.552345       -4.507551   \n",
      "7711             MORONOU  Rural   Rural  ...       6.550105       -4.508566   \n",
      "\n",
      "      GPS__Accuracy  GPS__Altitude       GPS__Timestamp  nom_prenom_cm  \\\n",
      "0              32.0           43.0  2018-11-02T08:40:01            NaN   \n",
      "1              25.0           82.0  2018-11-02T15:03:55            NaN   \n",
      "2              18.0           88.0  2018-11-02T09:37:31            NaN   \n",
      "3              25.0           97.0  2018-11-02T12:17:19            NaN   \n",
      "4              27.0           89.0  2018-11-02T10:57:01            NaN   \n",
      "...             ...            ...                  ...            ...   \n",
      "7707            7.0          134.0  2019-06-16T19:42:05            NaN   \n",
      "7708           36.0          131.0  2019-06-17T08:10:57            NaN   \n",
      "7709           29.0          118.0  2019-06-16T09:30:14            NaN   \n",
      "7710           19.0          157.0  2019-06-16T10:18:13            NaN   \n",
      "7711            6.0          134.0  2019-06-16T08:39:10            NaN   \n",
      "\n",
      "     localisation_menage nightlights_50m nightlights_50m_bins is_train  \n",
      "0                    NaN        7.117401                    5    False  \n",
      "1                    NaN       10.430248                    1    False  \n",
      "2                    NaN       13.743094                    1     True  \n",
      "3                    NaN       13.743094                    1    False  \n",
      "4                    NaN       13.743094                    1     True  \n",
      "...                  ...             ...                  ...      ...  \n",
      "7707                 NaN        2.226889                    4    False  \n",
      "7708                 NaN        1.055968                    0    False  \n",
      "7709                 NaN        1.651123                    0    False  \n",
      "7710                 NaN        0.570887                    0    False  \n",
      "7711                 NaN        1.651123                    0    False  \n",
      "\n",
      "[7712 rows x 51 columns]\n",
      "Le DataFrame avec colonne 'is_train' a été sauvegardé avec succès.\n"
     ]
    }
   ],
   "source": [
    "# Chemin vers le fichier CSV d'origine\n",
    "original_file_path = f'D:\\\\Poverty_Predict_Par_Milieu\\\\{Data_milieu}\\\\df_nightlights_{X}m_{moitiequarts}_IPM_{Y}.csv'\n",
    "\n",
    "# Charger le DataFrame\n",
    "df = load_dataframe(original_file_path)\n",
    "\n",
    "# Marquer les lignes sélectionnées de manière aléatoire par groupe\n",
    "df_marked = mark_sample_by_group(df, 'grappe', 2)\n",
    "print(\"DataFrame avec colonne 'is_train':\")\n",
    "print(df_marked)\n",
    "\n",
    "# Sauvegarder le DataFrame avec la nouvelle colonne 'is_train' en tant que fichier CSV\n",
    "new_file_path = f'D:\\\\Poverty_Predict_Par_Milieu\\\\{Data_milieu}\\\\df_nightlights_{X}m_{moitiequarts}_IPM_{Y}_marked.csv'\n",
    "\n",
    "save_dataframe(df_marked, new_file_path)\n",
    "\n",
    "print(\"Le DataFrame avec colonne 'is_train' a été sauvegardé avec succès.\")\n"
   ]
  },
  {
   "cell_type": "markdown",
   "metadata": {},
   "source": [
    "#### Concatenation de la colonne 'is train' et des images, nous avons 2 ménages par ZD sélectionnés aléatoirement en zone urbaine"
   ]
  },
  {
   "cell_type": "code",
   "execution_count": 37,
   "metadata": {},
   "outputs": [],
   "source": [
    "import os\n",
    "import pandas as pd\n",
    "\n",
    "def process_images_and_merge_data(csv_file_path, images_folder_path, save_folder_path, X, moitiequarts, Y):\n",
    "    \"\"\"Automatise le traitement des images et la fusion des données avec des noms de variables dynamiques.\"\"\"\n",
    "    # Générer le nom dynamique du DataFrame\n",
    "    df_name = f\"df_nightlights_{X}m_{moitiequarts}_IPM_{Y}\"\n",
    "    \n",
    "    # Lire le fichier CSV sauvegardé\n",
    "    df_nightlights = pd.read_csv(csv_file_path)\n",
    "    \n",
    "    # Extraire les informations des images\n",
    "    image_info = []\n",
    "    for image_file in os.listdir(images_folder_path):\n",
    "        base_name, _ = os.path.splitext(image_file)\n",
    "        base_name_with_extension = base_name + '.png'\n",
    "        parts = base_name.split('_')\n",
    "        if len(parts) >= 2:\n",
    "            menage_lat, menage_lon = float(parts[0]), float(parts[1])\n",
    "            image_info.append({\n",
    "                'image_name': base_name_with_extension,\n",
    "                'menage_lat': menage_lat,\n",
    "                'menage_lon': menage_lon\n",
    "            })\n",
    "\n",
    "    df_images = pd.DataFrame(image_info)\n",
    "    \n",
    "    # Convertir les latitudes et longitudes pour la fusion\n",
    "    df_nightlights['GPS__Latitude'] = df_nightlights['GPS__Latitude'].astype(float)\n",
    "    df_nightlights['GPS__Longitude'] = df_nightlights['GPS__Longitude'].astype(float)\n",
    "\n",
    "    # Fusionner les DataFrames\n",
    "    df_download = pd.merge(df_images, df_nightlights, \n",
    "                           left_on=['menage_lat', 'menage_lon'], \n",
    "                           right_on=['GPS__Latitude', 'GPS__Longitude'], how='inner')\n",
    "\n",
    "    # Sélection et renommage des colonnes pour le résultat final\n",
    "    df_download = df_download.rename(columns={\n",
    "        'pcexp': 'pcexp',\n",
    "        f'nightlights_{X}m': f'nightlights_{X}m',\n",
    "        f'nightlights_{X}m_bins': f'nightlights_{X}m_bins'\n",
    "    })\n",
    "\n",
    "    # Ajouter les colonnes 'grappe' et 'is_train'\n",
    "    df_download['grappe'] = df_download['grappe']\n",
    "    df_download['hhweight']=df_download['hhweight']\n",
    "    df_download['hhsize']=df_download['hhsize']\n",
    "    df_download['is_train'] = df_download['is_train']\n",
    "\n",
    "    df_download = df_download[['image_name', 'menage_lat', 'menage_lon', 'grappe', 'hhweight', 'hhsize','is_train', 'pcexp', f'nightlights_{X}m', f'nightlights_{X}m_bins']]\n",
    "    \n",
    "    # Sauvegarder le DataFrame fusionné avec les doublons\n",
    "    download_file_path_with_duplicates = os.path.join(save_folder_path, f'df_download_{X}m_{moitiequarts}_IPM_{Y}.csv')\n",
    "    df_download.to_csv(download_file_path_with_duplicates, index=False)\n",
    "    \n",
    "    print(f\"DataFrame fusionné avec doublons sauvegardé sous {download_file_path_with_duplicates}\")\n",
    "    \n",
    "    # Étape 6: Afficher les valeurs du DataFrame\n",
    "    print(df_download.head())\n",
    "    print(df_download.shape)\n",
    "    \n",
    "    # Identifier les doublons exacts dans 'image_name' et obtenir leurs indices\n",
    "    doublons_indices = df_download[df_download.duplicated(subset=['image_name'], keep='first')].index\n",
    "\n",
    "    # Afficher les valeurs de 'image_name' qui sont des doublons et leurs indices\n",
    "    for indice in doublons_indices:\n",
    "        valeur_doublon = df_download.loc[indice, 'image_name']\n",
    "        print(f\"Indice: {indice}, Valeur Doublon: {valeur_doublon}\")\n",
    "\n",
    "    # Supprimer les doublons, en ne gardant que la première occurrence\n",
    "    df_download_sans_doublons = df_download.drop_duplicates(subset=['image_name'], keep='first')\n",
    "\n",
    "    # Maintenant, df_download_sans_doublons contient le DataFrame sans les doublons\n",
    "\n",
    "    # Sauvegarder le DataFrame sans doublons avec un nom dynamique\n",
    "    download_file_path_without_duplicates = os.path.join(save_folder_path, f'df_download_{X}m_{moitiequarts}_IPM_{Y}_vf.csv')\n",
    "    df_download_sans_doublons.to_csv(download_file_path_without_duplicates, index=False)\n",
    "    \n",
    "    print(f\"DataFrame fusionné sans doublons sauvegardé sous {download_file_path_without_duplicates}\")\n",
    "\n",
    "    # Compter le nombre total d'images\n",
    "    image_count = len(os.listdir(images_folder_path))\n",
    "    print(f\"Nombre total d'images : {image_count}\")\n",
    "    \n",
    "    return df_download, df_download_sans_doublons\n"
   ]
  },
  {
   "cell_type": "code",
   "execution_count": 38,
   "metadata": {},
   "outputs": [],
   "source": [
    "# Paramètres de l'utilisateur\n",
    "X = 50\n",
    "moitiequarts = 'moitie'\n",
    "Y = 100\n",
    "Data_milieu='Data_rural'"
   ]
  },
  {
   "cell_type": "markdown",
   "metadata": {},
   "source": [
    "#### Changement de chemin"
   ]
  },
  {
   "cell_type": "code",
   "execution_count": 39,
   "metadata": {},
   "outputs": [],
   "source": [
    "# Chemins des fichiers\n",
    "\n",
    "csv_file_path = f'D:\\\\Poverty_Predict_Par_Milieu\\\\{Data_milieu}\\\\df_nightlights_{X}m_{moitiequarts}_IPM_{Y}_marked.csv'\n",
    "images_folder_path =r'D:\\Processed_Data_400_42m_100img\\Processed_Data_400\\Image_Nombre_100_images_code_5'\n",
    "save_folder_path = f'D:\\\\Poverty_Predict_Par_Milieu\\\\{Data_milieu}'"
   ]
  },
  {
   "cell_type": "code",
   "execution_count": 40,
   "metadata": {},
   "outputs": [
    {
     "name": "stdout",
     "output_type": "stream",
     "text": [
      "DataFrame fusionné avec doublons sauvegardé sous D:\\Poverty_Predict_Par_Milieu\\Data_rural\\df_download_50m_moitie_IPM_100.csv\n",
      "                      image_name  menage_lat  menage_lon  grappe   hhweight  \\\n",
      "0    10.0003794_-5.5802424_1.png   10.000379   -5.580242    1047  268.36096   \n",
      "1   10.0003794_-5.5802424_10.png   10.000379   -5.580242    1047  268.36096   \n",
      "2  10.0003794_-5.5802424_100.png   10.000379   -5.580242    1047  268.36096   \n",
      "3   10.0003794_-5.5802424_11.png   10.000379   -5.580242    1047  268.36096   \n",
      "4   10.0003794_-5.5802424_12.png   10.000379   -5.580242    1047  268.36096   \n",
      "\n",
      "   hhsize  is_train      pcexp  nightlights_50m  nightlights_50m_bins  \n",
      "0       4     False  274696.28         2.232362                     4  \n",
      "1       4     False  274696.28         2.232362                     4  \n",
      "2       4     False  274696.28         2.232362                     4  \n",
      "3       4     False  274696.28         2.232362                     4  \n",
      "4       4     False  274696.28         2.232362                     4  \n",
      "(771200, 10)\n",
      "Indice: 312501, Valeur Doublon: 6.51279760524631_-4.8633152525872_1.png\n",
      "Indice: 312503, Valeur Doublon: 6.51279760524631_-4.8633152525872_10.png\n",
      "Indice: 312505, Valeur Doublon: 6.51279760524631_-4.8633152525872_100.png\n",
      "Indice: 312507, Valeur Doublon: 6.51279760524631_-4.8633152525872_11.png\n",
      "Indice: 312509, Valeur Doublon: 6.51279760524631_-4.8633152525872_12.png\n",
      "Indice: 312511, Valeur Doublon: 6.51279760524631_-4.8633152525872_13.png\n",
      "Indice: 312513, Valeur Doublon: 6.51279760524631_-4.8633152525872_14.png\n",
      "Indice: 312515, Valeur Doublon: 6.51279760524631_-4.8633152525872_15.png\n",
      "Indice: 312517, Valeur Doublon: 6.51279760524631_-4.8633152525872_16.png\n",
      "Indice: 312519, Valeur Doublon: 6.51279760524631_-4.8633152525872_17.png\n",
      "Indice: 312521, Valeur Doublon: 6.51279760524631_-4.8633152525872_18.png\n",
      "Indice: 312523, Valeur Doublon: 6.51279760524631_-4.8633152525872_19.png\n",
      "Indice: 312525, Valeur Doublon: 6.51279760524631_-4.8633152525872_2.png\n",
      "Indice: 312527, Valeur Doublon: 6.51279760524631_-4.8633152525872_20.png\n",
      "Indice: 312529, Valeur Doublon: 6.51279760524631_-4.8633152525872_21.png\n",
      "Indice: 312531, Valeur Doublon: 6.51279760524631_-4.8633152525872_22.png\n",
      "Indice: 312533, Valeur Doublon: 6.51279760524631_-4.8633152525872_23.png\n",
      "Indice: 312535, Valeur Doublon: 6.51279760524631_-4.8633152525872_24.png\n",
      "Indice: 312537, Valeur Doublon: 6.51279760524631_-4.8633152525872_25.png\n",
      "Indice: 312539, Valeur Doublon: 6.51279760524631_-4.8633152525872_26.png\n",
      "Indice: 312541, Valeur Doublon: 6.51279760524631_-4.8633152525872_27.png\n",
      "Indice: 312543, Valeur Doublon: 6.51279760524631_-4.8633152525872_28.png\n",
      "Indice: 312545, Valeur Doublon: 6.51279760524631_-4.8633152525872_29.png\n",
      "Indice: 312547, Valeur Doublon: 6.51279760524631_-4.8633152525872_3.png\n",
      "Indice: 312549, Valeur Doublon: 6.51279760524631_-4.8633152525872_30.png\n",
      "Indice: 312551, Valeur Doublon: 6.51279760524631_-4.8633152525872_31.png\n",
      "Indice: 312553, Valeur Doublon: 6.51279760524631_-4.8633152525872_32.png\n",
      "Indice: 312555, Valeur Doublon: 6.51279760524631_-4.8633152525872_33.png\n",
      "Indice: 312557, Valeur Doublon: 6.51279760524631_-4.8633152525872_34.png\n",
      "Indice: 312559, Valeur Doublon: 6.51279760524631_-4.8633152525872_35.png\n",
      "Indice: 312561, Valeur Doublon: 6.51279760524631_-4.8633152525872_36.png\n",
      "Indice: 312563, Valeur Doublon: 6.51279760524631_-4.8633152525872_37.png\n",
      "Indice: 312565, Valeur Doublon: 6.51279760524631_-4.8633152525872_38.png\n",
      "Indice: 312567, Valeur Doublon: 6.51279760524631_-4.8633152525872_39.png\n",
      "Indice: 312569, Valeur Doublon: 6.51279760524631_-4.8633152525872_4.png\n",
      "Indice: 312571, Valeur Doublon: 6.51279760524631_-4.8633152525872_40.png\n",
      "Indice: 312573, Valeur Doublon: 6.51279760524631_-4.8633152525872_41.png\n",
      "Indice: 312575, Valeur Doublon: 6.51279760524631_-4.8633152525872_42.png\n",
      "Indice: 312577, Valeur Doublon: 6.51279760524631_-4.8633152525872_43.png\n",
      "Indice: 312579, Valeur Doublon: 6.51279760524631_-4.8633152525872_44.png\n",
      "Indice: 312581, Valeur Doublon: 6.51279760524631_-4.8633152525872_45.png\n",
      "Indice: 312583, Valeur Doublon: 6.51279760524631_-4.8633152525872_46.png\n",
      "Indice: 312585, Valeur Doublon: 6.51279760524631_-4.8633152525872_47.png\n",
      "Indice: 312587, Valeur Doublon: 6.51279760524631_-4.8633152525872_48.png\n",
      "Indice: 312589, Valeur Doublon: 6.51279760524631_-4.8633152525872_49.png\n",
      "Indice: 312591, Valeur Doublon: 6.51279760524631_-4.8633152525872_5.png\n",
      "Indice: 312593, Valeur Doublon: 6.51279760524631_-4.8633152525872_50.png\n",
      "Indice: 312595, Valeur Doublon: 6.51279760524631_-4.8633152525872_51.png\n",
      "Indice: 312597, Valeur Doublon: 6.51279760524631_-4.8633152525872_52.png\n",
      "Indice: 312599, Valeur Doublon: 6.51279760524631_-4.8633152525872_53.png\n",
      "Indice: 312601, Valeur Doublon: 6.51279760524631_-4.8633152525872_54.png\n",
      "Indice: 312603, Valeur Doublon: 6.51279760524631_-4.8633152525872_55.png\n",
      "Indice: 312605, Valeur Doublon: 6.51279760524631_-4.8633152525872_56.png\n",
      "Indice: 312607, Valeur Doublon: 6.51279760524631_-4.8633152525872_57.png\n",
      "Indice: 312609, Valeur Doublon: 6.51279760524631_-4.8633152525872_58.png\n",
      "Indice: 312611, Valeur Doublon: 6.51279760524631_-4.8633152525872_59.png\n",
      "Indice: 312613, Valeur Doublon: 6.51279760524631_-4.8633152525872_6.png\n",
      "Indice: 312615, Valeur Doublon: 6.51279760524631_-4.8633152525872_60.png\n",
      "Indice: 312617, Valeur Doublon: 6.51279760524631_-4.8633152525872_61.png\n",
      "Indice: 312619, Valeur Doublon: 6.51279760524631_-4.8633152525872_62.png\n",
      "Indice: 312621, Valeur Doublon: 6.51279760524631_-4.8633152525872_63.png\n",
      "Indice: 312623, Valeur Doublon: 6.51279760524631_-4.8633152525872_64.png\n",
      "Indice: 312625, Valeur Doublon: 6.51279760524631_-4.8633152525872_65.png\n",
      "Indice: 312627, Valeur Doublon: 6.51279760524631_-4.8633152525872_66.png\n",
      "Indice: 312629, Valeur Doublon: 6.51279760524631_-4.8633152525872_67.png\n",
      "Indice: 312631, Valeur Doublon: 6.51279760524631_-4.8633152525872_68.png\n",
      "Indice: 312633, Valeur Doublon: 6.51279760524631_-4.8633152525872_69.png\n",
      "Indice: 312635, Valeur Doublon: 6.51279760524631_-4.8633152525872_7.png\n",
      "Indice: 312637, Valeur Doublon: 6.51279760524631_-4.8633152525872_70.png\n",
      "Indice: 312639, Valeur Doublon: 6.51279760524631_-4.8633152525872_71.png\n",
      "Indice: 312641, Valeur Doublon: 6.51279760524631_-4.8633152525872_72.png\n",
      "Indice: 312643, Valeur Doublon: 6.51279760524631_-4.8633152525872_73.png\n",
      "Indice: 312645, Valeur Doublon: 6.51279760524631_-4.8633152525872_74.png\n",
      "Indice: 312647, Valeur Doublon: 6.51279760524631_-4.8633152525872_75.png\n",
      "Indice: 312649, Valeur Doublon: 6.51279760524631_-4.8633152525872_76.png\n",
      "Indice: 312651, Valeur Doublon: 6.51279760524631_-4.8633152525872_77.png\n",
      "Indice: 312653, Valeur Doublon: 6.51279760524631_-4.8633152525872_78.png\n",
      "Indice: 312655, Valeur Doublon: 6.51279760524631_-4.8633152525872_79.png\n",
      "Indice: 312657, Valeur Doublon: 6.51279760524631_-4.8633152525872_8.png\n",
      "Indice: 312659, Valeur Doublon: 6.51279760524631_-4.8633152525872_80.png\n",
      "Indice: 312661, Valeur Doublon: 6.51279760524631_-4.8633152525872_81.png\n",
      "Indice: 312663, Valeur Doublon: 6.51279760524631_-4.8633152525872_82.png\n",
      "Indice: 312665, Valeur Doublon: 6.51279760524631_-4.8633152525872_83.png\n",
      "Indice: 312667, Valeur Doublon: 6.51279760524631_-4.8633152525872_84.png\n",
      "Indice: 312669, Valeur Doublon: 6.51279760524631_-4.8633152525872_85.png\n",
      "Indice: 312671, Valeur Doublon: 6.51279760524631_-4.8633152525872_86.png\n",
      "Indice: 312673, Valeur Doublon: 6.51279760524631_-4.8633152525872_87.png\n",
      "Indice: 312675, Valeur Doublon: 6.51279760524631_-4.8633152525872_88.png\n",
      "Indice: 312677, Valeur Doublon: 6.51279760524631_-4.8633152525872_89.png\n",
      "Indice: 312679, Valeur Doublon: 6.51279760524631_-4.8633152525872_9.png\n",
      "Indice: 312681, Valeur Doublon: 6.51279760524631_-4.8633152525872_90.png\n",
      "Indice: 312683, Valeur Doublon: 6.51279760524631_-4.8633152525872_91.png\n",
      "Indice: 312685, Valeur Doublon: 6.51279760524631_-4.8633152525872_92.png\n",
      "Indice: 312687, Valeur Doublon: 6.51279760524631_-4.8633152525872_93.png\n",
      "Indice: 312689, Valeur Doublon: 6.51279760524631_-4.8633152525872_94.png\n",
      "Indice: 312691, Valeur Doublon: 6.51279760524631_-4.8633152525872_95.png\n",
      "Indice: 312693, Valeur Doublon: 6.51279760524631_-4.8633152525872_96.png\n",
      "Indice: 312695, Valeur Doublon: 6.51279760524631_-4.8633152525872_97.png\n",
      "Indice: 312697, Valeur Doublon: 6.51279760524631_-4.8633152525872_98.png\n",
      "Indice: 312699, Valeur Doublon: 6.51279760524631_-4.8633152525872_99.png\n",
      "Indice: 314901, Valeur Doublon: 6.52161913923919_-5.11280343867838_1.png\n",
      "Indice: 314903, Valeur Doublon: 6.52161913923919_-5.11280343867838_10.png\n",
      "Indice: 314905, Valeur Doublon: 6.52161913923919_-5.11280343867838_100.png\n",
      "Indice: 314907, Valeur Doublon: 6.52161913923919_-5.11280343867838_11.png\n",
      "Indice: 314909, Valeur Doublon: 6.52161913923919_-5.11280343867838_12.png\n",
      "Indice: 314911, Valeur Doublon: 6.52161913923919_-5.11280343867838_13.png\n",
      "Indice: 314913, Valeur Doublon: 6.52161913923919_-5.11280343867838_14.png\n",
      "Indice: 314915, Valeur Doublon: 6.52161913923919_-5.11280343867838_15.png\n",
      "Indice: 314917, Valeur Doublon: 6.52161913923919_-5.11280343867838_16.png\n",
      "Indice: 314919, Valeur Doublon: 6.52161913923919_-5.11280343867838_17.png\n",
      "Indice: 314921, Valeur Doublon: 6.52161913923919_-5.11280343867838_18.png\n",
      "Indice: 314923, Valeur Doublon: 6.52161913923919_-5.11280343867838_19.png\n",
      "Indice: 314925, Valeur Doublon: 6.52161913923919_-5.11280343867838_2.png\n",
      "Indice: 314927, Valeur Doublon: 6.52161913923919_-5.11280343867838_20.png\n",
      "Indice: 314929, Valeur Doublon: 6.52161913923919_-5.11280343867838_21.png\n",
      "Indice: 314931, Valeur Doublon: 6.52161913923919_-5.11280343867838_22.png\n",
      "Indice: 314933, Valeur Doublon: 6.52161913923919_-5.11280343867838_23.png\n",
      "Indice: 314935, Valeur Doublon: 6.52161913923919_-5.11280343867838_24.png\n",
      "Indice: 314937, Valeur Doublon: 6.52161913923919_-5.11280343867838_25.png\n",
      "Indice: 314939, Valeur Doublon: 6.52161913923919_-5.11280343867838_26.png\n",
      "Indice: 314941, Valeur Doublon: 6.52161913923919_-5.11280343867838_27.png\n",
      "Indice: 314943, Valeur Doublon: 6.52161913923919_-5.11280343867838_28.png\n",
      "Indice: 314945, Valeur Doublon: 6.52161913923919_-5.11280343867838_29.png\n",
      "Indice: 314947, Valeur Doublon: 6.52161913923919_-5.11280343867838_3.png\n",
      "Indice: 314949, Valeur Doublon: 6.52161913923919_-5.11280343867838_30.png\n",
      "Indice: 314951, Valeur Doublon: 6.52161913923919_-5.11280343867838_31.png\n",
      "Indice: 314953, Valeur Doublon: 6.52161913923919_-5.11280343867838_32.png\n",
      "Indice: 314955, Valeur Doublon: 6.52161913923919_-5.11280343867838_33.png\n",
      "Indice: 314957, Valeur Doublon: 6.52161913923919_-5.11280343867838_34.png\n",
      "Indice: 314959, Valeur Doublon: 6.52161913923919_-5.11280343867838_35.png\n",
      "Indice: 314961, Valeur Doublon: 6.52161913923919_-5.11280343867838_36.png\n",
      "Indice: 314963, Valeur Doublon: 6.52161913923919_-5.11280343867838_37.png\n",
      "Indice: 314965, Valeur Doublon: 6.52161913923919_-5.11280343867838_38.png\n",
      "Indice: 314967, Valeur Doublon: 6.52161913923919_-5.11280343867838_39.png\n",
      "Indice: 314969, Valeur Doublon: 6.52161913923919_-5.11280343867838_4.png\n",
      "Indice: 314971, Valeur Doublon: 6.52161913923919_-5.11280343867838_40.png\n",
      "Indice: 314973, Valeur Doublon: 6.52161913923919_-5.11280343867838_41.png\n",
      "Indice: 314975, Valeur Doublon: 6.52161913923919_-5.11280343867838_42.png\n",
      "Indice: 314977, Valeur Doublon: 6.52161913923919_-5.11280343867838_43.png\n",
      "Indice: 314979, Valeur Doublon: 6.52161913923919_-5.11280343867838_44.png\n",
      "Indice: 314981, Valeur Doublon: 6.52161913923919_-5.11280343867838_45.png\n",
      "Indice: 314983, Valeur Doublon: 6.52161913923919_-5.11280343867838_46.png\n",
      "Indice: 314985, Valeur Doublon: 6.52161913923919_-5.11280343867838_47.png\n",
      "Indice: 314987, Valeur Doublon: 6.52161913923919_-5.11280343867838_48.png\n",
      "Indice: 314989, Valeur Doublon: 6.52161913923919_-5.11280343867838_49.png\n",
      "Indice: 314991, Valeur Doublon: 6.52161913923919_-5.11280343867838_5.png\n",
      "Indice: 314993, Valeur Doublon: 6.52161913923919_-5.11280343867838_50.png\n",
      "Indice: 314995, Valeur Doublon: 6.52161913923919_-5.11280343867838_51.png\n",
      "Indice: 314997, Valeur Doublon: 6.52161913923919_-5.11280343867838_52.png\n",
      "Indice: 314999, Valeur Doublon: 6.52161913923919_-5.11280343867838_53.png\n",
      "Indice: 315001, Valeur Doublon: 6.52161913923919_-5.11280343867838_54.png\n",
      "Indice: 315003, Valeur Doublon: 6.52161913923919_-5.11280343867838_55.png\n",
      "Indice: 315005, Valeur Doublon: 6.52161913923919_-5.11280343867838_56.png\n",
      "Indice: 315007, Valeur Doublon: 6.52161913923919_-5.11280343867838_57.png\n",
      "Indice: 315009, Valeur Doublon: 6.52161913923919_-5.11280343867838_58.png\n",
      "Indice: 315011, Valeur Doublon: 6.52161913923919_-5.11280343867838_59.png\n",
      "Indice: 315013, Valeur Doublon: 6.52161913923919_-5.11280343867838_6.png\n",
      "Indice: 315015, Valeur Doublon: 6.52161913923919_-5.11280343867838_60.png\n",
      "Indice: 315017, Valeur Doublon: 6.52161913923919_-5.11280343867838_61.png\n",
      "Indice: 315019, Valeur Doublon: 6.52161913923919_-5.11280343867838_62.png\n",
      "Indice: 315021, Valeur Doublon: 6.52161913923919_-5.11280343867838_63.png\n",
      "Indice: 315023, Valeur Doublon: 6.52161913923919_-5.11280343867838_64.png\n",
      "Indice: 315025, Valeur Doublon: 6.52161913923919_-5.11280343867838_65.png\n",
      "Indice: 315027, Valeur Doublon: 6.52161913923919_-5.11280343867838_66.png\n",
      "Indice: 315029, Valeur Doublon: 6.52161913923919_-5.11280343867838_67.png\n",
      "Indice: 315031, Valeur Doublon: 6.52161913923919_-5.11280343867838_68.png\n",
      "Indice: 315033, Valeur Doublon: 6.52161913923919_-5.11280343867838_69.png\n",
      "Indice: 315035, Valeur Doublon: 6.52161913923919_-5.11280343867838_7.png\n",
      "Indice: 315037, Valeur Doublon: 6.52161913923919_-5.11280343867838_70.png\n",
      "Indice: 315039, Valeur Doublon: 6.52161913923919_-5.11280343867838_71.png\n",
      "Indice: 315041, Valeur Doublon: 6.52161913923919_-5.11280343867838_72.png\n",
      "Indice: 315043, Valeur Doublon: 6.52161913923919_-5.11280343867838_73.png\n",
      "Indice: 315045, Valeur Doublon: 6.52161913923919_-5.11280343867838_74.png\n",
      "Indice: 315047, Valeur Doublon: 6.52161913923919_-5.11280343867838_75.png\n",
      "Indice: 315049, Valeur Doublon: 6.52161913923919_-5.11280343867838_76.png\n",
      "Indice: 315051, Valeur Doublon: 6.52161913923919_-5.11280343867838_77.png\n",
      "Indice: 315053, Valeur Doublon: 6.52161913923919_-5.11280343867838_78.png\n",
      "Indice: 315055, Valeur Doublon: 6.52161913923919_-5.11280343867838_79.png\n",
      "Indice: 315057, Valeur Doublon: 6.52161913923919_-5.11280343867838_8.png\n",
      "Indice: 315059, Valeur Doublon: 6.52161913923919_-5.11280343867838_80.png\n",
      "Indice: 315061, Valeur Doublon: 6.52161913923919_-5.11280343867838_81.png\n",
      "Indice: 315063, Valeur Doublon: 6.52161913923919_-5.11280343867838_82.png\n",
      "Indice: 315065, Valeur Doublon: 6.52161913923919_-5.11280343867838_83.png\n",
      "Indice: 315067, Valeur Doublon: 6.52161913923919_-5.11280343867838_84.png\n",
      "Indice: 315069, Valeur Doublon: 6.52161913923919_-5.11280343867838_85.png\n",
      "Indice: 315071, Valeur Doublon: 6.52161913923919_-5.11280343867838_86.png\n",
      "Indice: 315073, Valeur Doublon: 6.52161913923919_-5.11280343867838_87.png\n",
      "Indice: 315075, Valeur Doublon: 6.52161913923919_-5.11280343867838_88.png\n",
      "Indice: 315077, Valeur Doublon: 6.52161913923919_-5.11280343867838_89.png\n",
      "Indice: 315079, Valeur Doublon: 6.52161913923919_-5.11280343867838_9.png\n",
      "Indice: 315081, Valeur Doublon: 6.52161913923919_-5.11280343867838_90.png\n",
      "Indice: 315083, Valeur Doublon: 6.52161913923919_-5.11280343867838_91.png\n",
      "Indice: 315085, Valeur Doublon: 6.52161913923919_-5.11280343867838_92.png\n",
      "Indice: 315087, Valeur Doublon: 6.52161913923919_-5.11280343867838_93.png\n",
      "Indice: 315089, Valeur Doublon: 6.52161913923919_-5.11280343867838_94.png\n",
      "Indice: 315091, Valeur Doublon: 6.52161913923919_-5.11280343867838_95.png\n",
      "Indice: 315093, Valeur Doublon: 6.52161913923919_-5.11280343867838_96.png\n",
      "Indice: 315095, Valeur Doublon: 6.52161913923919_-5.11280343867838_97.png\n",
      "Indice: 315097, Valeur Doublon: 6.52161913923919_-5.11280343867838_98.png\n",
      "Indice: 315099, Valeur Doublon: 6.52161913923919_-5.11280343867838_99.png\n",
      "DataFrame fusionné sans doublons sauvegardé sous D:\\Poverty_Predict_Par_Milieu\\Data_rural\\df_download_50m_moitie_IPM_100_vf.csv\n",
      "Nombre total d'images : 1297700\n"
     ]
    }
   ],
   "source": [
    "# Exécution principale\n",
    "df_download_result, df_download_sans_doublons_result = process_images_and_merge_data(csv_file_path, images_folder_path, save_folder_path, X, moitiequarts, Y)\n"
   ]
  },
  {
   "cell_type": "code",
   "execution_count": 41,
   "metadata": {},
   "outputs": [
    {
     "data": {
      "text/html": [
       "<div>\n",
       "<style scoped>\n",
       "    .dataframe tbody tr th:only-of-type {\n",
       "        vertical-align: middle;\n",
       "    }\n",
       "\n",
       "    .dataframe tbody tr th {\n",
       "        vertical-align: top;\n",
       "    }\n",
       "\n",
       "    .dataframe thead th {\n",
       "        text-align: right;\n",
       "    }\n",
       "</style>\n",
       "<table border=\"1\" class=\"dataframe\">\n",
       "  <thead>\n",
       "    <tr style=\"text-align: right;\">\n",
       "      <th></th>\n",
       "      <th>image_name</th>\n",
       "      <th>menage_lat</th>\n",
       "      <th>menage_lon</th>\n",
       "      <th>grappe</th>\n",
       "      <th>hhweight</th>\n",
       "      <th>hhsize</th>\n",
       "      <th>is_train</th>\n",
       "      <th>pcexp</th>\n",
       "      <th>nightlights_50m</th>\n",
       "      <th>nightlights_50m_bins</th>\n",
       "    </tr>\n",
       "  </thead>\n",
       "  <tbody>\n",
       "    <tr>\n",
       "      <th>0</th>\n",
       "      <td>10.0003794_-5.5802424_1.png</td>\n",
       "      <td>10.000379</td>\n",
       "      <td>-5.580242</td>\n",
       "      <td>1047</td>\n",
       "      <td>268.36096</td>\n",
       "      <td>4</td>\n",
       "      <td>False</td>\n",
       "      <td>274696.28</td>\n",
       "      <td>2.232362</td>\n",
       "      <td>4</td>\n",
       "    </tr>\n",
       "    <tr>\n",
       "      <th>1</th>\n",
       "      <td>10.0003794_-5.5802424_10.png</td>\n",
       "      <td>10.000379</td>\n",
       "      <td>-5.580242</td>\n",
       "      <td>1047</td>\n",
       "      <td>268.36096</td>\n",
       "      <td>4</td>\n",
       "      <td>False</td>\n",
       "      <td>274696.28</td>\n",
       "      <td>2.232362</td>\n",
       "      <td>4</td>\n",
       "    </tr>\n",
       "    <tr>\n",
       "      <th>2</th>\n",
       "      <td>10.0003794_-5.5802424_100.png</td>\n",
       "      <td>10.000379</td>\n",
       "      <td>-5.580242</td>\n",
       "      <td>1047</td>\n",
       "      <td>268.36096</td>\n",
       "      <td>4</td>\n",
       "      <td>False</td>\n",
       "      <td>274696.28</td>\n",
       "      <td>2.232362</td>\n",
       "      <td>4</td>\n",
       "    </tr>\n",
       "    <tr>\n",
       "      <th>3</th>\n",
       "      <td>10.0003794_-5.5802424_11.png</td>\n",
       "      <td>10.000379</td>\n",
       "      <td>-5.580242</td>\n",
       "      <td>1047</td>\n",
       "      <td>268.36096</td>\n",
       "      <td>4</td>\n",
       "      <td>False</td>\n",
       "      <td>274696.28</td>\n",
       "      <td>2.232362</td>\n",
       "      <td>4</td>\n",
       "    </tr>\n",
       "    <tr>\n",
       "      <th>4</th>\n",
       "      <td>10.0003794_-5.5802424_12.png</td>\n",
       "      <td>10.000379</td>\n",
       "      <td>-5.580242</td>\n",
       "      <td>1047</td>\n",
       "      <td>268.36096</td>\n",
       "      <td>4</td>\n",
       "      <td>False</td>\n",
       "      <td>274696.28</td>\n",
       "      <td>2.232362</td>\n",
       "      <td>4</td>\n",
       "    </tr>\n",
       "    <tr>\n",
       "      <th>...</th>\n",
       "      <td>...</td>\n",
       "      <td>...</td>\n",
       "      <td>...</td>\n",
       "      <td>...</td>\n",
       "      <td>...</td>\n",
       "      <td>...</td>\n",
       "      <td>...</td>\n",
       "      <td>...</td>\n",
       "      <td>...</td>\n",
       "      <td>...</td>\n",
       "    </tr>\n",
       "    <tr>\n",
       "      <th>770995</th>\n",
       "      <td>9.9994593_-5.5801466_95.png</td>\n",
       "      <td>9.999459</td>\n",
       "      <td>-5.580147</td>\n",
       "      <td>1047</td>\n",
       "      <td>268.36096</td>\n",
       "      <td>1</td>\n",
       "      <td>False</td>\n",
       "      <td>1239198.10</td>\n",
       "      <td>2.232362</td>\n",
       "      <td>4</td>\n",
       "    </tr>\n",
       "    <tr>\n",
       "      <th>770996</th>\n",
       "      <td>9.9994593_-5.5801466_96.png</td>\n",
       "      <td>9.999459</td>\n",
       "      <td>-5.580147</td>\n",
       "      <td>1047</td>\n",
       "      <td>268.36096</td>\n",
       "      <td>1</td>\n",
       "      <td>False</td>\n",
       "      <td>1239198.10</td>\n",
       "      <td>2.232362</td>\n",
       "      <td>4</td>\n",
       "    </tr>\n",
       "    <tr>\n",
       "      <th>770997</th>\n",
       "      <td>9.9994593_-5.5801466_97.png</td>\n",
       "      <td>9.999459</td>\n",
       "      <td>-5.580147</td>\n",
       "      <td>1047</td>\n",
       "      <td>268.36096</td>\n",
       "      <td>1</td>\n",
       "      <td>False</td>\n",
       "      <td>1239198.10</td>\n",
       "      <td>2.232362</td>\n",
       "      <td>4</td>\n",
       "    </tr>\n",
       "    <tr>\n",
       "      <th>770998</th>\n",
       "      <td>9.9994593_-5.5801466_98.png</td>\n",
       "      <td>9.999459</td>\n",
       "      <td>-5.580147</td>\n",
       "      <td>1047</td>\n",
       "      <td>268.36096</td>\n",
       "      <td>1</td>\n",
       "      <td>False</td>\n",
       "      <td>1239198.10</td>\n",
       "      <td>2.232362</td>\n",
       "      <td>4</td>\n",
       "    </tr>\n",
       "    <tr>\n",
       "      <th>770999</th>\n",
       "      <td>9.9994593_-5.5801466_99.png</td>\n",
       "      <td>9.999459</td>\n",
       "      <td>-5.580147</td>\n",
       "      <td>1047</td>\n",
       "      <td>268.36096</td>\n",
       "      <td>1</td>\n",
       "      <td>False</td>\n",
       "      <td>1239198.10</td>\n",
       "      <td>2.232362</td>\n",
       "      <td>4</td>\n",
       "    </tr>\n",
       "  </tbody>\n",
       "</table>\n",
       "<p>771000 rows × 10 columns</p>\n",
       "</div>"
      ],
      "text/plain": [
       "                           image_name  menage_lat  menage_lon  grappe  \\\n",
       "0         10.0003794_-5.5802424_1.png   10.000379   -5.580242    1047   \n",
       "1        10.0003794_-5.5802424_10.png   10.000379   -5.580242    1047   \n",
       "2       10.0003794_-5.5802424_100.png   10.000379   -5.580242    1047   \n",
       "3        10.0003794_-5.5802424_11.png   10.000379   -5.580242    1047   \n",
       "4        10.0003794_-5.5802424_12.png   10.000379   -5.580242    1047   \n",
       "...                               ...         ...         ...     ...   \n",
       "770995    9.9994593_-5.5801466_95.png    9.999459   -5.580147    1047   \n",
       "770996    9.9994593_-5.5801466_96.png    9.999459   -5.580147    1047   \n",
       "770997    9.9994593_-5.5801466_97.png    9.999459   -5.580147    1047   \n",
       "770998    9.9994593_-5.5801466_98.png    9.999459   -5.580147    1047   \n",
       "770999    9.9994593_-5.5801466_99.png    9.999459   -5.580147    1047   \n",
       "\n",
       "         hhweight  hhsize  is_train       pcexp  nightlights_50m  \\\n",
       "0       268.36096       4     False   274696.28         2.232362   \n",
       "1       268.36096       4     False   274696.28         2.232362   \n",
       "2       268.36096       4     False   274696.28         2.232362   \n",
       "3       268.36096       4     False   274696.28         2.232362   \n",
       "4       268.36096       4     False   274696.28         2.232362   \n",
       "...           ...     ...       ...         ...              ...   \n",
       "770995  268.36096       1     False  1239198.10         2.232362   \n",
       "770996  268.36096       1     False  1239198.10         2.232362   \n",
       "770997  268.36096       1     False  1239198.10         2.232362   \n",
       "770998  268.36096       1     False  1239198.10         2.232362   \n",
       "770999  268.36096       1     False  1239198.10         2.232362   \n",
       "\n",
       "        nightlights_50m_bins  \n",
       "0                          4  \n",
       "1                          4  \n",
       "2                          4  \n",
       "3                          4  \n",
       "4                          4  \n",
       "...                      ...  \n",
       "770995                     4  \n",
       "770996                     4  \n",
       "770997                     4  \n",
       "770998                     4  \n",
       "770999                     4  \n",
       "\n",
       "[771000 rows x 10 columns]"
      ]
     },
     "execution_count": 41,
     "metadata": {},
     "output_type": "execute_result"
    }
   ],
   "source": [
    "pd.read_csv(f'D:\\\\Poverty_Predict_Par_Milieu\\\\{Data_milieu}\\\\df_download_{X}m_{moitiequarts}_IPM_{Y}_vf.csv')\n"
   ]
  },
  {
   "cell_type": "code",
   "execution_count": 42,
   "metadata": {},
   "outputs": [],
   "source": [
    "essaie=pd.read_csv(f'D:\\\\Poverty_Predict_Par_Milieu\\\\{Data_milieu}\\\\df_download_{X}m_{moitiequarts}_IPM_{Y}_vf.csv')\n"
   ]
  },
  {
   "cell_type": "code",
   "execution_count": 43,
   "metadata": {},
   "outputs": [
    {
     "data": {
      "text/plain": [
       "128800"
      ]
     },
     "execution_count": 43,
     "metadata": {},
     "output_type": "execute_result"
    }
   ],
   "source": [
    "sum(essaie[\"is_train\"])"
   ]
  },
  {
   "cell_type": "code",
   "execution_count": 44,
   "metadata": {},
   "outputs": [],
   "source": [
    "essaie_2=pd.read_csv(f'D:\\\\Poverty_Predict_Par_Milieu\\\\{Data_milieu}\\\\df_nightlights_{X}m_{moitiequarts}_IPM_{Y}_marked.csv')"
   ]
  },
  {
   "cell_type": "code",
   "execution_count": 45,
   "metadata": {},
   "outputs": [
    {
     "data": {
      "text/plain": [
       "1288"
      ]
     },
     "execution_count": 45,
     "metadata": {},
     "output_type": "execute_result"
    }
   ],
   "source": [
    "sum(essaie_2[\"is_train\"])"
   ]
  },
  {
   "cell_type": "code",
   "execution_count": 46,
   "metadata": {},
   "outputs": [],
   "source": [
    "#### globals()[df_name] est équivalent à df_download_Xm_moitiequarts_IPM_Y"
   ]
  },
  {
   "cell_type": "markdown",
   "metadata": {},
   "source": [
    "##### On divise les données en ensemble d'entrainement et en ensemble de validation avec un ménage par ZD dans le training set et le reste dans le validation set "
   ]
  },
  {
   "cell_type": "code",
   "execution_count": 47,
   "metadata": {},
   "outputs": [],
   "source": [
    "import pandas as pd\n",
    "import numpy as np\n",
    "import os\n",
    "from tqdm import tqdm\n",
    "import pandas as pd\n",
    "\n",
    "\n",
    "def load_and_split_data(file_path, X, moitiequarts, Y):\n",
    "    \"\"\"Charge le DataFrame et divise les données en ensembles d'entraînement et de validation basés sur la colonne 'is_train'.\"\"\"\n",
    "    # Générer le nom dynamique du DataFrame\n",
    "    df_name = f\"df_download_{X}m_{moitiequarts}_IPM_{Y}\"\n",
    "    \n",
    "    # Charger le DataFrame\n",
    "    df = pd.read_csv(file_path)\n",
    "    \n",
    "    # Séparer les données en ensembles d'entraînement et de validation\n",
    "    df_train = df[df['is_train'] == True]\n",
    "    df_valid = df[df['is_train'] == False]\n",
    "    \n",
    "    # Afficher la proportion d'éléments dans l'ensemble d'entraînement\n",
    "    train_proportion = df_train.shape[0] / df.shape[0]\n",
    "    print(f\"Proportion d'éléments dans l'ensemble d'entraînement : {train_proportion}\")\n",
    "    \n",
    "    # Retourner les DataFrames et le nom dynamique\n",
    "    return df, df_train, df_valid, df_name"
   ]
  },
  {
   "cell_type": "code",
   "execution_count": 48,
   "metadata": {},
   "outputs": [
    {
     "name": "stdout",
     "output_type": "stream",
     "text": [
      "Proportion d'éléments dans l'ensemble d'entraînement : 0.16705577172503241\n"
     ]
    }
   ],
   "source": [
    "# Paramètres de l'utilisateur\n",
    "X = 50\n",
    "moitiequarts = 'moitie'\n",
    "Y = 100\n",
    "Data_milieu='Data_rural'\n",
    "# Chemin du fichier\n",
    "file_path = f'D:\\\\Poverty_Predict_Par_Milieu\\\\{Data_milieu}\\\\df_download_{X}m_{moitiequarts}_IPM_{Y}_vf.csv'\n",
    "\n",
    "# Exécution principale\n",
    "df_download_result, df_train, df_valid, df_name = load_and_split_data(file_path, X, moitiequarts, Y)"
   ]
  },
  {
   "cell_type": "code",
   "execution_count": 49,
   "metadata": {},
   "outputs": [
    {
     "name": "stdout",
     "output_type": "stream",
     "text": [
      "Affichage de df_download_50m_moitie_IPM_100 :\n",
      "                      image_name  menage_lat  menage_lon  grappe   hhweight  \\\n",
      "0    10.0003794_-5.5802424_1.png   10.000379   -5.580242    1047  268.36096   \n",
      "1   10.0003794_-5.5802424_10.png   10.000379   -5.580242    1047  268.36096   \n",
      "2  10.0003794_-5.5802424_100.png   10.000379   -5.580242    1047  268.36096   \n",
      "3   10.0003794_-5.5802424_11.png   10.000379   -5.580242    1047  268.36096   \n",
      "4   10.0003794_-5.5802424_12.png   10.000379   -5.580242    1047  268.36096   \n",
      "\n",
      "   hhsize  is_train      pcexp  nightlights_50m  nightlights_50m_bins  \n",
      "0       4     False  274696.28         2.232362                     4  \n",
      "1       4     False  274696.28         2.232362                     4  \n",
      "2       4     False  274696.28         2.232362                     4  \n",
      "3       4     False  274696.28         2.232362                     4  \n",
      "4       4     False  274696.28         2.232362                     4  \n"
     ]
    }
   ],
   "source": [
    "# Attribuer le DataFrame à une variable avec un nom dynamique\n",
    "globals()[df_name] = df_download_result\n",
    "\n",
    "# Affichage du DataFrame modifié\n",
    "print(f\"Affichage de {df_name} :\")\n",
    "print(globals()[df_name].head()) \n",
    "\n"
   ]
  },
  {
   "cell_type": "code",
   "execution_count": 50,
   "metadata": {},
   "outputs": [
    {
     "name": "stdout",
     "output_type": "stream",
     "text": [
      "Proportion des données dans l'ensemble d'entraînement : 0.16705577172503241\n",
      "DataFrame d'entraînement sauvegardé sous D:/Poverty_Predict_Par_Milieu/Data_rural/df_download_50m_moitie_IPM_100_train.csv\n",
      "DataFrame de validation sauvegardé sous D:/Poverty_Predict_Par_Milieu/Data_rural/df_download_50m_moitie_IPM_100_valid.csv\n",
      "Ensemble d'entraînement :\n",
      "                        image_name  menage_lat  menage_lon  grappe   hhweight  \\\n",
      "300    10.0020737_-5.5787912_1.png   10.002074   -5.578791    1047  268.36096   \n",
      "301   10.0020737_-5.5787912_10.png   10.002074   -5.578791    1047  268.36096   \n",
      "302  10.0020737_-5.5787912_100.png   10.002074   -5.578791    1047  268.36096   \n",
      "303   10.0020737_-5.5787912_11.png   10.002074   -5.578791    1047  268.36096   \n",
      "304   10.0020737_-5.5787912_12.png   10.002074   -5.578791    1047  268.36096   \n",
      "\n",
      "     hhsize  is_train      pcexp  nightlights_50m  nightlights_50m_bins  \n",
      "300       2      True  1117854.8          1.84584                     4  \n",
      "301       2      True  1117854.8          1.84584                     4  \n",
      "302       2      True  1117854.8          1.84584                     4  \n",
      "303       2      True  1117854.8          1.84584                     4  \n",
      "304       2      True  1117854.8          1.84584                     4  \n",
      "Ensemble de validation :\n",
      "                      image_name  menage_lat  menage_lon  grappe   hhweight  \\\n",
      "0    10.0003794_-5.5802424_1.png   10.000379   -5.580242    1047  268.36096   \n",
      "1   10.0003794_-5.5802424_10.png   10.000379   -5.580242    1047  268.36096   \n",
      "2  10.0003794_-5.5802424_100.png   10.000379   -5.580242    1047  268.36096   \n",
      "3   10.0003794_-5.5802424_11.png   10.000379   -5.580242    1047  268.36096   \n",
      "4   10.0003794_-5.5802424_12.png   10.000379   -5.580242    1047  268.36096   \n",
      "\n",
      "   hhsize  is_train      pcexp  nightlights_50m  nightlights_50m_bins  \n",
      "0       4     False  274696.28         2.232362                     4  \n",
      "1       4     False  274696.28         2.232362                     4  \n",
      "2       4     False  274696.28         2.232362                     4  \n",
      "3       4     False  274696.28         2.232362                     4  \n",
      "4       4     False  274696.28         2.232362                     4  \n"
     ]
    }
   ],
   "source": [
    "# Afficher la proportion des données dans l'ensemble d'entraînement\n",
    "train_proportion = globals()[df_name]['is_train'].mean()\n",
    "print(f\"Proportion des données dans l'ensemble d'entraînement : {train_proportion}\")\n",
    "\n",
    "# Sauvegarder les DataFrames d'entraînement et de validation\n",
    "train_file_path = f'D:/Poverty_Predict_Par_Milieu/{Data_milieu}/{df_name}_train.csv'\n",
    "valid_file_path = f'D:/Poverty_Predict_Par_Milieu/{Data_milieu}/{df_name}_valid.csv'\n",
    "df_train.to_csv(train_file_path, index=False)\n",
    "df_valid.to_csv(valid_file_path, index=False)\n",
    "\n",
    "print(f\"DataFrame d'entraînement sauvegardé sous {train_file_path}\")\n",
    "print(f\"DataFrame de validation sauvegardé sous {valid_file_path}\")\n",
    "\n",
    "# Vérification finale\n",
    "print(\"Ensemble d'entraînement :\")\n",
    "print(df_train.head())\n",
    "print(\"Ensemble de validation :\")\n",
    "print(df_valid.head())\n",
    "\n"
   ]
  },
  {
   "cell_type": "code",
   "execution_count": 51,
   "metadata": {},
   "outputs": [
    {
     "name": "stdout",
     "output_type": "stream",
     "text": [
      "Ensemble d'entraînement :\n",
      "<class 'pandas.core.frame.DataFrame'>\n",
      "Index: 128800 entries, 300 to 770499\n",
      "Data columns (total 10 columns):\n",
      " #   Column                Non-Null Count   Dtype  \n",
      "---  ------                --------------   -----  \n",
      " 0   image_name            128800 non-null  object \n",
      " 1   menage_lat            128800 non-null  float64\n",
      " 2   menage_lon            128800 non-null  float64\n",
      " 3   grappe                128800 non-null  int64  \n",
      " 4   hhweight              128800 non-null  float64\n",
      " 5   hhsize                128800 non-null  int64  \n",
      " 6   is_train              128800 non-null  bool   \n",
      " 7   pcexp                 128800 non-null  float64\n",
      " 8   nightlights_50m       128800 non-null  float64\n",
      " 9   nightlights_50m_bins  128800 non-null  int64  \n",
      "dtypes: bool(1), float64(5), int64(3), object(1)\n",
      "memory usage: 9.9+ MB\n",
      "None\n",
      "Ensemble de validation :\n",
      "<class 'pandas.core.frame.DataFrame'>\n",
      "Index: 642200 entries, 0 to 770999\n",
      "Data columns (total 10 columns):\n",
      " #   Column                Non-Null Count   Dtype  \n",
      "---  ------                --------------   -----  \n",
      " 0   image_name            642200 non-null  object \n",
      " 1   menage_lat            642200 non-null  float64\n",
      " 2   menage_lon            642200 non-null  float64\n",
      " 3   grappe                642200 non-null  int64  \n",
      " 4   hhweight              642200 non-null  float64\n",
      " 5   hhsize                642200 non-null  int64  \n",
      " 6   is_train              642200 non-null  bool   \n",
      " 7   pcexp                 642200 non-null  float64\n",
      " 8   nightlights_50m       642200 non-null  float64\n",
      " 9   nightlights_50m_bins  642200 non-null  int64  \n",
      "dtypes: bool(1), float64(5), int64(3), object(1)\n",
      "memory usage: 49.6+ MB\n",
      "None\n"
     ]
    }
   ],
   "source": [
    "print(\"Ensemble d'entraînement :\")\n",
    "print(df_train.info())\n",
    "print(\"Ensemble de validation :\")\n",
    "print(df_valid.info())"
   ]
  },
  {
   "cell_type": "code",
   "execution_count": 52,
   "metadata": {},
   "outputs": [],
   "source": [
    "# On voit qu'on entraine sur 1288 ménages et on valide sur 6422"
   ]
  },
  {
   "cell_type": "markdown",
   "metadata": {},
   "source": [
    "##### Creation des dossiers training et validation set pour accueillir les données"
   ]
  },
  {
   "cell_type": "code",
   "execution_count": 53,
   "metadata": {},
   "outputs": [
    {
     "data": {
      "text/html": [
       "<div>\n",
       "<style scoped>\n",
       "    .dataframe tbody tr th:only-of-type {\n",
       "        vertical-align: middle;\n",
       "    }\n",
       "\n",
       "    .dataframe tbody tr th {\n",
       "        vertical-align: top;\n",
       "    }\n",
       "\n",
       "    .dataframe thead th {\n",
       "        text-align: right;\n",
       "    }\n",
       "</style>\n",
       "<table border=\"1\" class=\"dataframe\">\n",
       "  <thead>\n",
       "    <tr style=\"text-align: right;\">\n",
       "      <th></th>\n",
       "      <th>image_name</th>\n",
       "      <th>menage_lat</th>\n",
       "      <th>menage_lon</th>\n",
       "      <th>grappe</th>\n",
       "      <th>hhweight</th>\n",
       "      <th>hhsize</th>\n",
       "      <th>is_train</th>\n",
       "      <th>pcexp</th>\n",
       "      <th>nightlights_50m</th>\n",
       "      <th>nightlights_50m_bins</th>\n",
       "    </tr>\n",
       "  </thead>\n",
       "  <tbody>\n",
       "    <tr>\n",
       "      <th>0</th>\n",
       "      <td>10.0003794_-5.5802424_1.png</td>\n",
       "      <td>10.000379</td>\n",
       "      <td>-5.580242</td>\n",
       "      <td>1047</td>\n",
       "      <td>268.36096</td>\n",
       "      <td>4</td>\n",
       "      <td>False</td>\n",
       "      <td>274696.28</td>\n",
       "      <td>2.232362</td>\n",
       "      <td>4</td>\n",
       "    </tr>\n",
       "    <tr>\n",
       "      <th>1</th>\n",
       "      <td>10.0003794_-5.5802424_10.png</td>\n",
       "      <td>10.000379</td>\n",
       "      <td>-5.580242</td>\n",
       "      <td>1047</td>\n",
       "      <td>268.36096</td>\n",
       "      <td>4</td>\n",
       "      <td>False</td>\n",
       "      <td>274696.28</td>\n",
       "      <td>2.232362</td>\n",
       "      <td>4</td>\n",
       "    </tr>\n",
       "    <tr>\n",
       "      <th>2</th>\n",
       "      <td>10.0003794_-5.5802424_100.png</td>\n",
       "      <td>10.000379</td>\n",
       "      <td>-5.580242</td>\n",
       "      <td>1047</td>\n",
       "      <td>268.36096</td>\n",
       "      <td>4</td>\n",
       "      <td>False</td>\n",
       "      <td>274696.28</td>\n",
       "      <td>2.232362</td>\n",
       "      <td>4</td>\n",
       "    </tr>\n",
       "    <tr>\n",
       "      <th>3</th>\n",
       "      <td>10.0003794_-5.5802424_11.png</td>\n",
       "      <td>10.000379</td>\n",
       "      <td>-5.580242</td>\n",
       "      <td>1047</td>\n",
       "      <td>268.36096</td>\n",
       "      <td>4</td>\n",
       "      <td>False</td>\n",
       "      <td>274696.28</td>\n",
       "      <td>2.232362</td>\n",
       "      <td>4</td>\n",
       "    </tr>\n",
       "    <tr>\n",
       "      <th>4</th>\n",
       "      <td>10.0003794_-5.5802424_12.png</td>\n",
       "      <td>10.000379</td>\n",
       "      <td>-5.580242</td>\n",
       "      <td>1047</td>\n",
       "      <td>268.36096</td>\n",
       "      <td>4</td>\n",
       "      <td>False</td>\n",
       "      <td>274696.28</td>\n",
       "      <td>2.232362</td>\n",
       "      <td>4</td>\n",
       "    </tr>\n",
       "    <tr>\n",
       "      <th>...</th>\n",
       "      <td>...</td>\n",
       "      <td>...</td>\n",
       "      <td>...</td>\n",
       "      <td>...</td>\n",
       "      <td>...</td>\n",
       "      <td>...</td>\n",
       "      <td>...</td>\n",
       "      <td>...</td>\n",
       "      <td>...</td>\n",
       "      <td>...</td>\n",
       "    </tr>\n",
       "    <tr>\n",
       "      <th>770995</th>\n",
       "      <td>9.9994593_-5.5801466_95.png</td>\n",
       "      <td>9.999459</td>\n",
       "      <td>-5.580147</td>\n",
       "      <td>1047</td>\n",
       "      <td>268.36096</td>\n",
       "      <td>1</td>\n",
       "      <td>False</td>\n",
       "      <td>1239198.10</td>\n",
       "      <td>2.232362</td>\n",
       "      <td>4</td>\n",
       "    </tr>\n",
       "    <tr>\n",
       "      <th>770996</th>\n",
       "      <td>9.9994593_-5.5801466_96.png</td>\n",
       "      <td>9.999459</td>\n",
       "      <td>-5.580147</td>\n",
       "      <td>1047</td>\n",
       "      <td>268.36096</td>\n",
       "      <td>1</td>\n",
       "      <td>False</td>\n",
       "      <td>1239198.10</td>\n",
       "      <td>2.232362</td>\n",
       "      <td>4</td>\n",
       "    </tr>\n",
       "    <tr>\n",
       "      <th>770997</th>\n",
       "      <td>9.9994593_-5.5801466_97.png</td>\n",
       "      <td>9.999459</td>\n",
       "      <td>-5.580147</td>\n",
       "      <td>1047</td>\n",
       "      <td>268.36096</td>\n",
       "      <td>1</td>\n",
       "      <td>False</td>\n",
       "      <td>1239198.10</td>\n",
       "      <td>2.232362</td>\n",
       "      <td>4</td>\n",
       "    </tr>\n",
       "    <tr>\n",
       "      <th>770998</th>\n",
       "      <td>9.9994593_-5.5801466_98.png</td>\n",
       "      <td>9.999459</td>\n",
       "      <td>-5.580147</td>\n",
       "      <td>1047</td>\n",
       "      <td>268.36096</td>\n",
       "      <td>1</td>\n",
       "      <td>False</td>\n",
       "      <td>1239198.10</td>\n",
       "      <td>2.232362</td>\n",
       "      <td>4</td>\n",
       "    </tr>\n",
       "    <tr>\n",
       "      <th>770999</th>\n",
       "      <td>9.9994593_-5.5801466_99.png</td>\n",
       "      <td>9.999459</td>\n",
       "      <td>-5.580147</td>\n",
       "      <td>1047</td>\n",
       "      <td>268.36096</td>\n",
       "      <td>1</td>\n",
       "      <td>False</td>\n",
       "      <td>1239198.10</td>\n",
       "      <td>2.232362</td>\n",
       "      <td>4</td>\n",
       "    </tr>\n",
       "  </tbody>\n",
       "</table>\n",
       "<p>771000 rows × 10 columns</p>\n",
       "</div>"
      ],
      "text/plain": [
       "                           image_name  menage_lat  menage_lon  grappe  \\\n",
       "0         10.0003794_-5.5802424_1.png   10.000379   -5.580242    1047   \n",
       "1        10.0003794_-5.5802424_10.png   10.000379   -5.580242    1047   \n",
       "2       10.0003794_-5.5802424_100.png   10.000379   -5.580242    1047   \n",
       "3        10.0003794_-5.5802424_11.png   10.000379   -5.580242    1047   \n",
       "4        10.0003794_-5.5802424_12.png   10.000379   -5.580242    1047   \n",
       "...                               ...         ...         ...     ...   \n",
       "770995    9.9994593_-5.5801466_95.png    9.999459   -5.580147    1047   \n",
       "770996    9.9994593_-5.5801466_96.png    9.999459   -5.580147    1047   \n",
       "770997    9.9994593_-5.5801466_97.png    9.999459   -5.580147    1047   \n",
       "770998    9.9994593_-5.5801466_98.png    9.999459   -5.580147    1047   \n",
       "770999    9.9994593_-5.5801466_99.png    9.999459   -5.580147    1047   \n",
       "\n",
       "         hhweight  hhsize  is_train       pcexp  nightlights_50m  \\\n",
       "0       268.36096       4     False   274696.28         2.232362   \n",
       "1       268.36096       4     False   274696.28         2.232362   \n",
       "2       268.36096       4     False   274696.28         2.232362   \n",
       "3       268.36096       4     False   274696.28         2.232362   \n",
       "4       268.36096       4     False   274696.28         2.232362   \n",
       "...           ...     ...       ...         ...              ...   \n",
       "770995  268.36096       1     False  1239198.10         2.232362   \n",
       "770996  268.36096       1     False  1239198.10         2.232362   \n",
       "770997  268.36096       1     False  1239198.10         2.232362   \n",
       "770998  268.36096       1     False  1239198.10         2.232362   \n",
       "770999  268.36096       1     False  1239198.10         2.232362   \n",
       "\n",
       "        nightlights_50m_bins  \n",
       "0                          4  \n",
       "1                          4  \n",
       "2                          4  \n",
       "3                          4  \n",
       "4                          4  \n",
       "...                      ...  \n",
       "770995                     4  \n",
       "770996                     4  \n",
       "770997                     4  \n",
       "770998                     4  \n",
       "770999                     4  \n",
       "\n",
       "[771000 rows x 10 columns]"
      ]
     },
     "execution_count": 53,
     "metadata": {},
     "output_type": "execute_result"
    }
   ],
   "source": [
    "globals()[df_name]"
   ]
  },
  {
   "cell_type": "code",
   "execution_count": 54,
   "metadata": {},
   "outputs": [
    {
     "name": "stdout",
     "output_type": "stream",
     "text": [
      "Les fichiers de validation et d'entraînement ont été sauvegardés.\n",
      "Nombre d'éléments dans l'ensemble d'entraînement: 128800\n",
      "Nombre d'éléments dans l'ensemble de validation: 642200\n"
     ]
    }
   ],
   "source": [
    "# Préparation des répertoires et chargement des DataFrames d'entraînement et de validation\n",
    "BASE_DIR = r'D:\\Poverty_Predict_Par_Milieu'\n",
    "\n",
    "RANDOM_SEED = 7 # Pour réplication\n",
    "PROCESSED_DIR = os.path.join(BASE_DIR,f'{Data_milieu}', 'processed') \n",
    "\n",
    "CNN_TRAIN_IMAGE_DIR = os.path.join(BASE_DIR, f'{Data_milieu}/cnn_images_{X}m_{moitiequarts}_IPM_{Y}')\n",
    "CNN_SAVE_DIR = os.path.join(BASE_DIR,f'{Data_milieu}', f'models_{X}m_{moitiequarts}_IPM_{Y}') \n",
    "\n",
    "os.makedirs(CNN_TRAIN_IMAGE_DIR, exist_ok=True)\n",
    "os.makedirs(CNN_SAVE_DIR, exist_ok=True) \n",
    "os.makedirs(PROCESSED_DIR, exist_ok=True) \n",
    "\n",
    "# Calcul du nombre de classes uniques dans 'nightlights_{X}m_bins'\n",
    "nombre_de_classes = globals()[df_name][f'nightlights_{X}m_bins'].nunique()\n",
    "\n",
    "# Création de labels basés sur le nombre de classes\n",
    "labels = [str(i) for i in range(nombre_de_classes)]\n",
    "\n",
    "# Sauvegarde du nouveau DataFrame\n",
    "globals()[df_name].to_csv(os.path.join(PROCESSED_DIR, f'image_download_actual_{X}m_{moitiequarts}_IPM_{Y}.csv'), index=False)\n",
    "\n",
    "# Création des dossiers de base pour 'train' et 'valid'\n",
    "os.makedirs(os.path.join(CNN_TRAIN_IMAGE_DIR, f'train_{X}m_{moitiequarts}_IPM_{Y}'), exist_ok=True)\n",
    "os.makedirs(os.path.join(CNN_TRAIN_IMAGE_DIR, f'valid_{X}m_{moitiequarts}_IPM_{Y}'), exist_ok=True)\n",
    "\n",
    "# Création des sous-dossiers pour chaque label dans 'train' et 'valid'\n",
    "for l in labels:\n",
    "    os.makedirs(os.path.join(CNN_TRAIN_IMAGE_DIR, f'train_{X}m_{moitiequarts}_IPM_{Y}', l), exist_ok=True)\n",
    "    os.makedirs(os.path.join(CNN_TRAIN_IMAGE_DIR, f'valid_{X}m_{moitiequarts}_IPM_{Y}', l), exist_ok=True)\n",
    "\n",
    "# Séparation des ensembles d'entraînement et de validation\n",
    "t = globals()[df_name][globals()[df_name]['is_train']]\n",
    "v = globals()[df_name][~globals()[df_name]['is_train']]\n",
    "\n",
    "# Sauvegarde des ensembles d'entraînement et de validation\n",
    "v.to_csv(os.path.join(BASE_DIR, f'validation_set_{X}m_{moitiequarts}_IPM_{Y}.csv'), index=False)\n",
    "t.to_csv(os.path.join(BASE_DIR, f'training_set_{X}m_{moitiequarts}_IPM_{Y}.csv'), index=False)\n",
    "\n",
    "print(f\"Les fichiers de validation et d'entraînement ont été sauvegardés.\")\n",
    "\n",
    "# Longueur des ensembles d'entraînement et de validation\n",
    "print(f\"Nombre d'éléments dans l'ensemble d'entraînement: {len(t)}\")\n",
    "print(f\"Nombre d'éléments dans l'ensemble de validation: {len(v)}\")"
   ]
  },
  {
   "cell_type": "markdown",
   "metadata": {},
   "source": [
    "#### changement de chemin"
   ]
  },
  {
   "cell_type": "code",
   "execution_count": 55,
   "metadata": {},
   "outputs": [],
   "source": [
    "IMAGE_DIR = r'D:\\Processed_Data_400_42m_100img\\Processed_Data_400\\Image_Nombre_100_images_code_5'\n"
   ]
  },
  {
   "cell_type": "markdown",
   "metadata": {},
   "source": [
    "##### Préparation des directoires, marquages des images d'entrainement et de validation dans des dossiers "
   ]
  },
  {
   "cell_type": "code",
   "execution_count": 56,
   "metadata": {},
   "outputs": [
    {
     "name": "stdout",
     "output_type": "stream",
     "text": [
      "Organizing training images\n"
     ]
    },
    {
     "name": "stderr",
     "output_type": "stream",
     "text": [
      "100%|██████████| 128800/128800 [00:29<00:00, 4386.08it/s]\n"
     ]
    }
   ],
   "source": [
    "# Organiser les images d'entraînement\n",
    "print('Organizing training images')\n",
    "\n",
    "for im_name, nl in tqdm(zip(t['image_name'], t[f'nightlights_{X}m_bins']), total=len(t)):\n",
    "    src = os.path.abspath(os.path.join(IMAGE_DIR, im_name))  \n",
    "    dest = os.path.join(CNN_TRAIN_IMAGE_DIR, f'train_{X}m_{moitiequarts}_IPM_{Y}', str(nl), im_name)\n",
    "    \n",
    "    os.makedirs(os.path.dirname(dest), exist_ok=True)\n",
    "    \n",
    "    try:\n",
    "        os.symlink(src, dest)\n",
    "    except OSError as e:\n",
    "        print(f\"Error creating symlink for {im_name}: {e}\")\n"
   ]
  },
  {
   "cell_type": "code",
   "execution_count": 57,
   "metadata": {},
   "outputs": [
    {
     "name": "stdout",
     "output_type": "stream",
     "text": [
      "Organizing validation images\n"
     ]
    },
    {
     "name": "stderr",
     "output_type": "stream",
     "text": [
      "100%|██████████| 642200/642200 [02:09<00:00, 4962.40it/s]\n"
     ]
    }
   ],
   "source": [
    "# Organiser les images de validation\n",
    "print('Organizing validation images')\n",
    "\n",
    "for im_name, nl in tqdm(zip(v['image_name'], v[f'nightlights_{X}m_bins']), total=len(v)):\n",
    "    src = os.path.abspath(os.path.join(IMAGE_DIR, im_name))  \n",
    "    dest = os.path.join(CNN_TRAIN_IMAGE_DIR, f'valid_{X}m_{moitiequarts}_IPM_{Y}', str(nl), im_name)\n",
    "\n",
    "    os.makedirs(os.path.dirname(dest), exist_ok=True)\n",
    "    \n",
    "    try:\n",
    "        os.symlink(src, dest)\n",
    "    except OSError as e:\n",
    "        print(f\"Error creating symlink for {im_name}: {e}\")\n",
    "\n"
   ]
  },
  {
   "cell_type": "code",
   "execution_count": 58,
   "metadata": {},
   "outputs": [
    {
     "name": "stdout",
     "output_type": "stream",
     "text": [
      "[42300, 1100, 56200, 7000, 19000, 3200]\n",
      "[0.328416149068323, 0.008540372670807454, 0.4363354037267081, 0.05434782608695652, 0.14751552795031056, 0.024844720496894408]\n",
      "128800\n"
     ]
    }
   ],
   "source": [
    "# Montre le décompte des images par classe dans chaque dossier du training set\n",
    "counts = []\n",
    "for l in range(nombre_de_classes):\n",
    "    folder_name = f\"{l}\" \n",
    "    path_to_folder = os.path.join(CNN_TRAIN_IMAGE_DIR,f'train_{X}m_{moitiequarts}_IPM_{Y}', folder_name)\n",
    "    counts.append(len(os.listdir(path_to_folder)))\n",
    "\n",
    "print(counts)\n",
    "\n",
    "# Calculer la proportion de chaque classe\n",
    "proportions = [c/sum(counts) for c in counts]\n",
    "print(proportions)\n",
    "\n",
    "# Afficher la somme totale pour vérifier\n",
    "print(sum(counts))\n"
   ]
  },
  {
   "cell_type": "markdown",
   "metadata": {},
   "source": [
    "### Entrainement du modèle"
   ]
  },
  {
   "cell_type": "markdown",
   "metadata": {},
   "source": [
    "##### Préparation des Données et du Modèle\n",
    "##### Initialisation du Modèle\n",
    "##### Transformation des Données"
   ]
  },
  {
   "cell_type": "code",
   "execution_count": 59,
   "metadata": {},
   "outputs": [
    {
     "name": "stdout",
     "output_type": "stream",
     "text": [
      "Requirement already satisfied: torchvision in c:\\users\\dell\\anaconda3\\lib\\site-packages (0.17.2+cu118)\n",
      "Requirement already satisfied: numpy in c:\\users\\dell\\anaconda3\\lib\\site-packages (from torchvision) (1.24.3)\n",
      "Requirement already satisfied: torch==2.2.2+cu118 in c:\\users\\dell\\anaconda3\\lib\\site-packages (from torchvision) (2.2.2+cu118)\n",
      "Requirement already satisfied: pillow!=8.3.*,>=5.3.0 in c:\\users\\dell\\anaconda3\\lib\\site-packages (from torchvision) (9.4.0)\n",
      "Requirement already satisfied: filelock in c:\\users\\dell\\anaconda3\\lib\\site-packages (from torch==2.2.2+cu118->torchvision) (3.9.0)\n",
      "Requirement already satisfied: typing-extensions>=4.8.0 in c:\\users\\dell\\appdata\\roaming\\python\\python311\\site-packages (from torch==2.2.2+cu118->torchvision) (4.12.2)\n",
      "Requirement already satisfied: sympy in c:\\users\\dell\\anaconda3\\lib\\site-packages (from torch==2.2.2+cu118->torchvision) (1.11.1)\n",
      "Requirement already satisfied: networkx in c:\\users\\dell\\anaconda3\\lib\\site-packages (from torch==2.2.2+cu118->torchvision) (3.1)\n",
      "Requirement already satisfied: jinja2 in c:\\users\\dell\\anaconda3\\lib\\site-packages (from torch==2.2.2+cu118->torchvision) (3.1.2)\n",
      "Requirement already satisfied: fsspec in c:\\users\\dell\\anaconda3\\lib\\site-packages (from torch==2.2.2+cu118->torchvision) (2023.4.0)\n",
      "Requirement already satisfied: MarkupSafe>=2.0 in c:\\users\\dell\\anaconda3\\lib\\site-packages (from jinja2->torch==2.2.2+cu118->torchvision) (2.1.1)\n",
      "Requirement already satisfied: mpmath>=0.19 in c:\\users\\dell\\anaconda3\\lib\\site-packages (from sympy->torch==2.2.2+cu118->torchvision) (1.3.0)\n"
     ]
    }
   ],
   "source": [
    "!pip install torchvision"
   ]
  },
  {
   "cell_type": "code",
   "execution_count": 60,
   "metadata": {},
   "outputs": [],
   "source": [
    "import pandas as pd\n",
    "import numpy as np\n",
    "import os\n",
    "from tqdm import tqdm\n",
    "import torch\n",
    "import torch.nn as nn\n",
    "import torch.optim as optim\n",
    "import torchvision\n",
    "from torchvision import datasets, models, transforms\n",
    "import matplotlib.pyplot as plt\n",
    "import time\n",
    "import copy"
   ]
  },
  {
   "cell_type": "markdown",
   "metadata": {},
   "source": [
    "##### Mettre à jour le nombre de classe"
   ]
  },
  {
   "cell_type": "code",
   "execution_count": 61,
   "metadata": {},
   "outputs": [],
   "source": [
    "# Le directoire\n",
    "data_dir = CNN_TRAIN_IMAGE_DIR\n",
    "\n",
    "# Activer le débogage CUDA\n",
    "os.environ['CUDA_LAUNCH_BLOCKING'] = \"1\"\n",
    "\n",
    "# Modèles à choisir entre resnet, alexnet, vgg, squeezenet, densenet, inception\n",
    "model_name = \"vgg\"\n",
    "\n",
    "# Le nombre de catégories pour la classification\n",
    "num_classes = 6 #Mettre à jour le nombre de classe\n",
    "\n",
    "# Taille de lot pour l'entraînement (à modifier selon la quantité de mémoire disponible)\n",
    "batch_size = 8\n",
    "\n",
    "# Nombre d'époques pour l'entraînement,\n",
    "#les 10 premières seront consacrées à l'entraînement des nouvelles couches,\n",
    "#les 10 dernières à l'ensemble du modèle.\n",
    "num_epochs = 20\n",
    "\n",
    "# Flag pour l'extraction de caractéristiques. Lorsqu'il est à False, nous affinons tout le modèle.\n",
    "#   quand il est à True, nous mettons à jour uniquement les paramètres des couches remodelées\n",
    "feature_extract = True \n",
    "\n",
    "\n",
    "\n"
   ]
  },
  {
   "cell_type": "code",
   "execution_count": 62,
   "metadata": {},
   "outputs": [
    {
     "data": {
      "text/plain": [
       "'D:\\\\Poverty_Predict_Par_Milieu\\\\Data_rural/cnn_images_50m_moitie_IPM_100'"
      ]
     },
     "execution_count": 62,
     "metadata": {},
     "output_type": "execute_result"
    }
   ],
   "source": [
    "data_dir"
   ]
  },
  {
   "cell_type": "code",
   "execution_count": 63,
   "metadata": {},
   "outputs": [],
   "source": [
    "def initialize_model(model_name, num_classes, feature_extract, use_pretrained=True):\n",
    "    # Initialisez les variables qui seront définies dans ce 'if-statement'.\n",
    "    # Chacune de ces variables est spécifique au modèle.\n",
    "    model_ft = models.vgg11_bn(pretrained=use_pretrained)\n",
    "    set_parameter_requires_grad(model_ft, feature_extract)\n",
    "    num_ftrs = model_ft.classifier[6].in_features\n",
    "    model_ft.classifier[6] = nn.Linear(num_ftrs,num_classes)\n",
    "    input_size = 224\n",
    "    return model_ft, input_size\n",
    "\n",
    "def set_parameter_requires_grad(model, feature_extracting):\n",
    "    if feature_extracting:\n",
    "        for param in model.parameters():\n",
    "            param.requires_grad = False \n",
    "\n"
   ]
  },
  {
   "cell_type": "code",
   "execution_count": 64,
   "metadata": {},
   "outputs": [
    {
     "name": "stderr",
     "output_type": "stream",
     "text": [
      "c:\\Users\\Dell\\anaconda3\\Lib\\site-packages\\torchvision\\models\\_utils.py:208: UserWarning: The parameter 'pretrained' is deprecated since 0.13 and may be removed in the future, please use 'weights' instead.\n",
      "  warnings.warn(\n",
      "c:\\Users\\Dell\\anaconda3\\Lib\\site-packages\\torchvision\\models\\_utils.py:223: UserWarning: Arguments other than a weight enum or `None` for 'weights' are deprecated since 0.13 and may be removed in the future. The current behavior is equivalent to passing `weights=VGG11_BN_Weights.IMAGENET1K_V1`. You can also use `weights=VGG11_BN_Weights.DEFAULT` to get the most up-to-date weights.\n",
      "  warnings.warn(msg)\n"
     ]
    },
    {
     "name": "stdout",
     "output_type": "stream",
     "text": [
      "Initializing Datasets and Dataloaders...\n"
     ]
    }
   ],
   "source": [
    "# Initialiser le modèle pour l'exécution\n",
    "model_ft, input_size = initialize_model(model_name, num_classes, feature_extract, use_pretrained=True)\n",
    "\n",
    "# Imprimer\n",
    "model_ft \n",
    "\n",
    "print('Initializing Datasets and Dataloaders...')"
   ]
  },
  {
   "cell_type": "code",
   "execution_count": 65,
   "metadata": {},
   "outputs": [],
   "source": [
    "# Data augmentation and normalization for training\n",
    "# Just normalization for validation\n",
    "\n",
    "data_transforms = {\n",
    "    f'train_{X}m_{moitiequarts}_IPM_{Y}': transforms.Compose([\n",
    "        transforms.RandomResizedCrop(input_size),\n",
    "        transforms.RandomHorizontalFlip(),\n",
    "        transforms.ToTensor(),\n",
    "        transforms.Normalize([0.485, 0.456, 0.406], [0.229, 0.224, 0.225])\n",
    "    ]),\n",
    "    f'valid_{X}m_{moitiequarts}_IPM_{Y}': transforms.Compose([\n",
    "        transforms.Resize(input_size),\n",
    "        transforms.CenterCrop(input_size),\n",
    "        transforms.ToTensor(),\n",
    "        transforms.Normalize([0.485, 0.456, 0.406], [0.229, 0.224, 0.225])\n",
    "    ]),\n",
    "}"
   ]
  },
  {
   "cell_type": "code",
   "execution_count": 66,
   "metadata": {},
   "outputs": [],
   "source": [
    "##### Création des Ensembles de Données et des Dataloaders\n",
    "##### Configuration de l'Appareil et du Modèle\n",
    "##### Optimisation et Mise à Jour des Paramètres"
   ]
  },
  {
   "cell_type": "code",
   "execution_count": 67,
   "metadata": {},
   "outputs": [],
   "source": [
    "# Création des ensembles de données d'entraînement et de validation\n",
    "image_datasets = {x: datasets.ImageFolder(os.path.join(data_dir, x), data_transforms[x]) for x in [f'train_{X}m_{moitiequarts}_IPM_{Y}', f'valid_{X}m_{moitiequarts}_IPM_{Y}']}\n",
    "\n",
    "# Création des dataloaders d'entraînement et de validation\n",
    "dataloaders_dict = {x: torch.utils.data.DataLoader(image_datasets[x], batch_size=batch_size, shuffle=True, num_workers=4) for x in [f'train_{X}m_{moitiequarts}_IPM_{Y}', f'valid_{X}m_{moitiequarts}_IPM_{Y}']}\n",
    "\n"
   ]
  },
  {
   "cell_type": "code",
   "execution_count": 68,
   "metadata": {},
   "outputs": [
    {
     "name": "stdout",
     "output_type": "stream",
     "text": [
      "device: cuda:0\n"
     ]
    }
   ],
   "source": [
    "# Inspectons pour savoir si nous avons un GPU (Graphical Processing Unit) disponible\n",
    "device = torch.device(\"cuda:0\" if torch.cuda.is_available() else \"cpu\")\n",
    "print('device:', device)\n",
    "\n"
   ]
  },
  {
   "cell_type": "code",
   "execution_count": 69,
   "metadata": {},
   "outputs": [
    {
     "name": "stdout",
     "output_type": "stream",
     "text": [
      "Params to learn:\n",
      "\t classifier.6.weight\n",
      "\t classifier.6.bias\n"
     ]
    }
   ],
   "source": [
    "# Envoyer le modèle sur le GPU\n",
    "model_ft = model_ft.to(device)\n",
    "\n",
    "# Rassembler les paramètres qui doivent être optimisés/mis à jour dans cette exécution.\n",
    "params_to_update = model_ft.parameters()\n",
    "print(\"Params to learn:\")\n",
    "if feature_extract:\n",
    "    params_to_update = []\n",
    "    for name, param in model_ft.named_parameters():\n",
    "        if param.requires_grad:\n",
    "            params_to_update.append(param)\n",
    "            print(\"\\t\", name)\n",
    "else:\n",
    "    for name, param in model_ft.named_parameters():\n",
    "        if param.requires_grad:\n",
    "            print(\"\\t\", name)\n",
    "\n",
    "# Observons que tous les paramètres sont optimisés\n",
    "optimizer_ft = optim.SGD(params_to_update, lr=1e-4, momentum=0.9)\n",
    "\n"
   ]
  },
  {
   "cell_type": "code",
   "execution_count": 70,
   "metadata": {},
   "outputs": [],
   "source": [
    "# Fonction d'entraînement du modèle\n",
    "def train_model(model, dataloaders, criterion, optimizer, num_epochs=25):\n",
    "    since = time.time()\n",
    "\n",
    "    val_acc_history = []\n",
    "    \n",
    "    best_model_wts = copy.deepcopy(model.state_dict())\n",
    "    best_acc = 0.0\n",
    "    \n",
    "    for epoch in range(num_epochs):\n",
    "        print('Epoch {}/{}'.format(epoch, num_epochs - 1))\n",
    "        print('-' * 10)\n",
    "        if epoch > 10:\n",
    "            # Fine tune whole model\n",
    "            for param in model_ft.parameters():\n",
    "                param.requires_grad = True\n",
    "            optimizer = optim.SGD(model_ft.parameters(), lr=1e-4, momentum=0.9)\n",
    "\n",
    "        # Each epoch has a training and validation phase\n",
    "        for phase in [f'train_{X}m_{moitiequarts}_IPM_{Y}', f'valid_{X}m_{moitiequarts}_IPM_{Y}']:\n",
    "            if phase == f'train_{X}m_{moitiequarts}_IPM_{Y}':\n",
    "                model.train()  # Set model to training mode\n",
    "            else:\n",
    "                model.eval()   # Set model to evaluate mode\n",
    "\n",
    "            running_loss = 0.0\n",
    "            running_corrects = 0\n",
    "\n",
    "            # Iterate over data.\n",
    "            for inputs, labels in tqdm(dataloaders[phase]):\n",
    "                inputs = inputs.to(device)\n",
    "                labels = labels.to(device)\n",
    "\n",
    "                # Zero the parameter gradients\n",
    "                optimizer.zero_grad()\n",
    "\n",
    "                # Forward\n",
    "                # Track history if only in train\n",
    "                with torch.set_grad_enabled(phase == f'train_{X}m_{moitiequarts}_IPM_{Y}'):\n",
    "                    outputs = model(inputs)\n",
    "                    loss = criterion(outputs, labels)\n",
    "\n",
    "                    _, preds = torch.max(outputs, 1)\n",
    "\n",
    "                    # Backward + optimize only if in training phase\n",
    "                    if phase == f'train_{X}m_{moitiequarts}_IPM_{Y}':\n",
    "                        loss.backward()\n",
    "                        optimizer.step()\n",
    "\n",
    "                # Statistics\n",
    "                running_loss += loss.item() * inputs.size(0)\n",
    "                running_corrects += torch.sum(preds == labels.data)\n",
    "\n",
    "            epoch_loss = running_loss / len(dataloaders[phase].dataset)\n",
    "            epoch_acc = running_corrects.double() / len(dataloaders[phase].dataset)\n",
    "\n",
    "            print('{} Loss: {:.4f} Acc: {:.4f}'.format(phase, epoch_loss, epoch_acc))\n",
    "\n",
    "            # Deep copy the model\n",
    "            if phase == f'valid_{X}m_{moitiequarts}_IPM_{Y}' and epoch_acc > best_acc:\n",
    "                best_acc = epoch_acc\n",
    "                best_model_wts = copy.deepcopy(model.state_dict())\n",
    "            if phase == f'valid_{X}m_{moitiequarts}_IPM_{Y}':\n",
    "                val_acc_history.append(epoch_acc)\n",
    "                \n",
    "        print()\n",
    "\n",
    "    time_elapsed = time.time() - since\n",
    "    print('Training complete in {:.0f}m {:.0f}s'.format(time_elapsed // 60, time_elapsed % 60))\n",
    "    print('Best val Acc: {:4f}'.format(best_acc))\n",
    "\n",
    "    # Load best model weights\n",
    "    model.load_state_dict(best_model_wts)\n",
    "    return model, val_acc_history\n",
    "\n"
   ]
  },
  {
   "cell_type": "code",
   "execution_count": 71,
   "metadata": {},
   "outputs": [
    {
     "name": "stdout",
     "output_type": "stream",
     "text": [
      "Epoch 0/19\n",
      "----------\n"
     ]
    },
    {
     "name": "stderr",
     "output_type": "stream",
     "text": [
      "100%|██████████| 16100/16100 [06:51<00:00, 39.12it/s]\n"
     ]
    },
    {
     "name": "stdout",
     "output_type": "stream",
     "text": [
      "train_50m_moitie_IPM_100 Loss: 1.2175 Acc: 0.4925\n"
     ]
    },
    {
     "name": "stderr",
     "output_type": "stream",
     "text": [
      "100%|██████████| 80275/80275 [31:42<00:00, 42.20it/s]\n"
     ]
    },
    {
     "name": "stdout",
     "output_type": "stream",
     "text": [
      "valid_50m_moitie_IPM_100 Loss: 1.1672 Acc: 0.5301\n",
      "\n",
      "Epoch 1/19\n",
      "----------\n"
     ]
    },
    {
     "name": "stderr",
     "output_type": "stream",
     "text": [
      "100%|██████████| 16100/16100 [06:56<00:00, 38.66it/s]\n"
     ]
    },
    {
     "name": "stdout",
     "output_type": "stream",
     "text": [
      "train_50m_moitie_IPM_100 Loss: 1.1865 Acc: 0.5022\n"
     ]
    },
    {
     "name": "stderr",
     "output_type": "stream",
     "text": [
      "100%|██████████| 80275/80275 [31:42<00:00, 42.19it/s]\n"
     ]
    },
    {
     "name": "stdout",
     "output_type": "stream",
     "text": [
      "valid_50m_moitie_IPM_100 Loss: 1.1652 Acc: 0.5190\n",
      "\n",
      "Epoch 2/19\n",
      "----------\n"
     ]
    },
    {
     "name": "stderr",
     "output_type": "stream",
     "text": [
      "100%|██████████| 16100/16100 [06:56<00:00, 38.62it/s]\n"
     ]
    },
    {
     "name": "stdout",
     "output_type": "stream",
     "text": [
      "train_50m_moitie_IPM_100 Loss: 1.1749 Acc: 0.5061\n"
     ]
    },
    {
     "name": "stderr",
     "output_type": "stream",
     "text": [
      "100%|██████████| 80275/80275 [31:44<00:00, 42.14it/s]\n"
     ]
    },
    {
     "name": "stdout",
     "output_type": "stream",
     "text": [
      "valid_50m_moitie_IPM_100 Loss: 1.1503 Acc: 0.5319\n",
      "\n",
      "Epoch 3/19\n",
      "----------\n"
     ]
    },
    {
     "name": "stderr",
     "output_type": "stream",
     "text": [
      "100%|██████████| 16100/16100 [06:58<00:00, 38.49it/s]\n"
     ]
    },
    {
     "name": "stdout",
     "output_type": "stream",
     "text": [
      "train_50m_moitie_IPM_100 Loss: 1.1708 Acc: 0.5071\n"
     ]
    },
    {
     "name": "stderr",
     "output_type": "stream",
     "text": [
      "100%|██████████| 80275/80275 [31:43<00:00, 42.18it/s]\n"
     ]
    },
    {
     "name": "stdout",
     "output_type": "stream",
     "text": [
      "valid_50m_moitie_IPM_100 Loss: 1.1614 Acc: 0.5223\n",
      "\n",
      "Epoch 4/19\n",
      "----------\n"
     ]
    },
    {
     "name": "stderr",
     "output_type": "stream",
     "text": [
      "100%|██████████| 16100/16100 [06:58<00:00, 38.43it/s]\n"
     ]
    },
    {
     "name": "stdout",
     "output_type": "stream",
     "text": [
      "train_50m_moitie_IPM_100 Loss: 1.1670 Acc: 0.5068\n"
     ]
    },
    {
     "name": "stderr",
     "output_type": "stream",
     "text": [
      "100%|██████████| 80275/80275 [31:41<00:00, 42.23it/s]  \n"
     ]
    },
    {
     "name": "stdout",
     "output_type": "stream",
     "text": [
      "valid_50m_moitie_IPM_100 Loss: 1.1405 Acc: 0.5398\n",
      "\n",
      "Epoch 5/19\n",
      "----------\n"
     ]
    },
    {
     "name": "stderr",
     "output_type": "stream",
     "text": [
      "100%|██████████| 16100/16100 [06:55<00:00, 38.72it/s]\n"
     ]
    },
    {
     "name": "stdout",
     "output_type": "stream",
     "text": [
      "train_50m_moitie_IPM_100 Loss: 1.1638 Acc: 0.5094\n"
     ]
    },
    {
     "name": "stderr",
     "output_type": "stream",
     "text": [
      "100%|██████████| 80275/80275 [31:38<00:00, 42.29it/s]\n"
     ]
    },
    {
     "name": "stdout",
     "output_type": "stream",
     "text": [
      "valid_50m_moitie_IPM_100 Loss: 1.1396 Acc: 0.5431\n",
      "\n",
      "Epoch 6/19\n",
      "----------\n"
     ]
    },
    {
     "name": "stderr",
     "output_type": "stream",
     "text": [
      "100%|██████████| 16100/16100 [06:55<00:00, 38.76it/s]\n"
     ]
    },
    {
     "name": "stdout",
     "output_type": "stream",
     "text": [
      "train_50m_moitie_IPM_100 Loss: 1.1636 Acc: 0.5098\n"
     ]
    },
    {
     "name": "stderr",
     "output_type": "stream",
     "text": [
      "100%|██████████| 80275/80275 [31:38<00:00, 42.28it/s]\n"
     ]
    },
    {
     "name": "stdout",
     "output_type": "stream",
     "text": [
      "valid_50m_moitie_IPM_100 Loss: 1.1302 Acc: 0.5485\n",
      "\n",
      "Epoch 7/19\n",
      "----------\n"
     ]
    },
    {
     "name": "stderr",
     "output_type": "stream",
     "text": [
      "100%|██████████| 16100/16100 [06:54<00:00, 38.88it/s]\n"
     ]
    },
    {
     "name": "stdout",
     "output_type": "stream",
     "text": [
      "train_50m_moitie_IPM_100 Loss: 1.1617 Acc: 0.5087\n"
     ]
    },
    {
     "name": "stderr",
     "output_type": "stream",
     "text": [
      "100%|██████████| 80275/80275 [31:31<00:00, 42.43it/s]\n"
     ]
    },
    {
     "name": "stdout",
     "output_type": "stream",
     "text": [
      "valid_50m_moitie_IPM_100 Loss: 1.1294 Acc: 0.5469\n",
      "\n",
      "Epoch 8/19\n",
      "----------\n"
     ]
    },
    {
     "name": "stderr",
     "output_type": "stream",
     "text": [
      "100%|██████████| 16100/16100 [06:51<00:00, 39.15it/s]\n"
     ]
    },
    {
     "name": "stdout",
     "output_type": "stream",
     "text": [
      "train_50m_moitie_IPM_100 Loss: 1.1599 Acc: 0.5093\n"
     ]
    },
    {
     "name": "stderr",
     "output_type": "stream",
     "text": [
      "100%|██████████| 80275/80275 [31:11<00:00, 42.89it/s]\n"
     ]
    },
    {
     "name": "stdout",
     "output_type": "stream",
     "text": [
      "valid_50m_moitie_IPM_100 Loss: 1.1274 Acc: 0.5439\n",
      "\n",
      "Epoch 9/19\n",
      "----------\n"
     ]
    },
    {
     "name": "stderr",
     "output_type": "stream",
     "text": [
      "100%|██████████| 16100/16100 [06:49<00:00, 39.32it/s]\n"
     ]
    },
    {
     "name": "stdout",
     "output_type": "stream",
     "text": [
      "train_50m_moitie_IPM_100 Loss: 1.1591 Acc: 0.5097\n"
     ]
    },
    {
     "name": "stderr",
     "output_type": "stream",
     "text": [
      "100%|██████████| 80275/80275 [31:13<00:00, 42.85it/s]\n"
     ]
    },
    {
     "name": "stdout",
     "output_type": "stream",
     "text": [
      "valid_50m_moitie_IPM_100 Loss: 1.1383 Acc: 0.5367\n",
      "\n",
      "Epoch 10/19\n",
      "----------\n"
     ]
    },
    {
     "name": "stderr",
     "output_type": "stream",
     "text": [
      "100%|██████████| 16100/16100 [06:49<00:00, 39.31it/s]\n"
     ]
    },
    {
     "name": "stdout",
     "output_type": "stream",
     "text": [
      "train_50m_moitie_IPM_100 Loss: 1.1589 Acc: 0.5087\n"
     ]
    },
    {
     "name": "stderr",
     "output_type": "stream",
     "text": [
      "100%|██████████| 80275/80275 [31:11<00:00, 42.89it/s]\n"
     ]
    },
    {
     "name": "stdout",
     "output_type": "stream",
     "text": [
      "valid_50m_moitie_IPM_100 Loss: 1.1920 Acc: 0.4972\n",
      "\n",
      "Epoch 11/19\n",
      "----------\n"
     ]
    },
    {
     "name": "stderr",
     "output_type": "stream",
     "text": [
      "100%|██████████| 16100/16100 [21:48<00:00, 12.30it/s]\n"
     ]
    },
    {
     "name": "stdout",
     "output_type": "stream",
     "text": [
      "train_50m_moitie_IPM_100 Loss: 0.9924 Acc: 0.5919\n"
     ]
    },
    {
     "name": "stderr",
     "output_type": "stream",
     "text": [
      "100%|██████████| 80275/80275 [31:32<00:00, 42.41it/s]\n"
     ]
    },
    {
     "name": "stdout",
     "output_type": "stream",
     "text": [
      "valid_50m_moitie_IPM_100 Loss: 1.0546 Acc: 0.6047\n",
      "\n",
      "Epoch 12/19\n",
      "----------\n"
     ]
    },
    {
     "name": "stderr",
     "output_type": "stream",
     "text": [
      "100%|██████████| 16100/16100 [21:50<00:00, 12.29it/s]\n"
     ]
    },
    {
     "name": "stdout",
     "output_type": "stream",
     "text": [
      "train_50m_moitie_IPM_100 Loss: 0.7386 Acc: 0.7072\n"
     ]
    },
    {
     "name": "stderr",
     "output_type": "stream",
     "text": [
      "100%|██████████| 80275/80275 [31:32<00:00, 42.43it/s]\n"
     ]
    },
    {
     "name": "stdout",
     "output_type": "stream",
     "text": [
      "valid_50m_moitie_IPM_100 Loss: 1.1085 Acc: 0.6253\n",
      "\n",
      "Epoch 13/19\n",
      "----------\n"
     ]
    },
    {
     "name": "stderr",
     "output_type": "stream",
     "text": [
      "100%|██████████| 16100/16100 [21:47<00:00, 12.32it/s]\n"
     ]
    },
    {
     "name": "stdout",
     "output_type": "stream",
     "text": [
      "train_50m_moitie_IPM_100 Loss: 0.5523 Acc: 0.7869\n"
     ]
    },
    {
     "name": "stderr",
     "output_type": "stream",
     "text": [
      "100%|██████████| 80275/80275 [31:34<00:00, 42.37it/s]\n"
     ]
    },
    {
     "name": "stdout",
     "output_type": "stream",
     "text": [
      "valid_50m_moitie_IPM_100 Loss: 1.1944 Acc: 0.6453\n",
      "\n",
      "Epoch 14/19\n",
      "----------\n"
     ]
    },
    {
     "name": "stderr",
     "output_type": "stream",
     "text": [
      "100%|██████████| 16100/16100 [21:50<00:00, 12.29it/s]\n"
     ]
    },
    {
     "name": "stdout",
     "output_type": "stream",
     "text": [
      "train_50m_moitie_IPM_100 Loss: 0.4280 Acc: 0.8381\n"
     ]
    },
    {
     "name": "stderr",
     "output_type": "stream",
     "text": [
      "100%|██████████| 80275/80275 [31:30<00:00, 42.47it/s]\n"
     ]
    },
    {
     "name": "stdout",
     "output_type": "stream",
     "text": [
      "valid_50m_moitie_IPM_100 Loss: 1.3149 Acc: 0.6507\n",
      "\n",
      "Epoch 15/19\n",
      "----------\n"
     ]
    },
    {
     "name": "stderr",
     "output_type": "stream",
     "text": [
      "100%|██████████| 16100/16100 [21:49<00:00, 12.29it/s]\n"
     ]
    },
    {
     "name": "stdout",
     "output_type": "stream",
     "text": [
      "train_50m_moitie_IPM_100 Loss: 0.3482 Acc: 0.8693\n"
     ]
    },
    {
     "name": "stderr",
     "output_type": "stream",
     "text": [
      "100%|██████████| 80275/80275 [31:29<00:00, 42.48it/s]\n"
     ]
    },
    {
     "name": "stdout",
     "output_type": "stream",
     "text": [
      "valid_50m_moitie_IPM_100 Loss: 1.3402 Acc: 0.6589\n",
      "\n",
      "Epoch 16/19\n",
      "----------\n"
     ]
    },
    {
     "name": "stderr",
     "output_type": "stream",
     "text": [
      "100%|██████████| 16100/16100 [21:49<00:00, 12.29it/s]\n"
     ]
    },
    {
     "name": "stdout",
     "output_type": "stream",
     "text": [
      "train_50m_moitie_IPM_100 Loss: 0.2954 Acc: 0.8906\n"
     ]
    },
    {
     "name": "stderr",
     "output_type": "stream",
     "text": [
      "100%|██████████| 80275/80275 [31:34<00:00, 42.37it/s]\n"
     ]
    },
    {
     "name": "stdout",
     "output_type": "stream",
     "text": [
      "valid_50m_moitie_IPM_100 Loss: 1.5176 Acc: 0.6479\n",
      "\n",
      "Epoch 17/19\n",
      "----------\n"
     ]
    },
    {
     "name": "stderr",
     "output_type": "stream",
     "text": [
      "100%|██████████| 16100/16100 [21:48<00:00, 12.30it/s]\n"
     ]
    },
    {
     "name": "stdout",
     "output_type": "stream",
     "text": [
      "train_50m_moitie_IPM_100 Loss: 0.2597 Acc: 0.9040\n"
     ]
    },
    {
     "name": "stderr",
     "output_type": "stream",
     "text": [
      "100%|██████████| 80275/80275 [31:36<00:00, 42.32it/s]\n"
     ]
    },
    {
     "name": "stdout",
     "output_type": "stream",
     "text": [
      "valid_50m_moitie_IPM_100 Loss: 1.4771 Acc: 0.6653\n",
      "\n",
      "Epoch 18/19\n",
      "----------\n"
     ]
    },
    {
     "name": "stderr",
     "output_type": "stream",
     "text": [
      "100%|██████████| 16100/16100 [21:50<00:00, 12.28it/s]\n"
     ]
    },
    {
     "name": "stdout",
     "output_type": "stream",
     "text": [
      "train_50m_moitie_IPM_100 Loss: 0.2319 Acc: 0.9148\n"
     ]
    },
    {
     "name": "stderr",
     "output_type": "stream",
     "text": [
      "100%|██████████| 80275/80275 [31:36<00:00, 42.32it/s]\n"
     ]
    },
    {
     "name": "stdout",
     "output_type": "stream",
     "text": [
      "valid_50m_moitie_IPM_100 Loss: 1.4851 Acc: 0.6685\n",
      "\n",
      "Epoch 19/19\n",
      "----------\n"
     ]
    },
    {
     "name": "stderr",
     "output_type": "stream",
     "text": [
      "100%|██████████| 16100/16100 [21:48<00:00, 12.30it/s]\n"
     ]
    },
    {
     "name": "stdout",
     "output_type": "stream",
     "text": [
      "train_50m_moitie_IPM_100 Loss: 0.2093 Acc: 0.9233\n"
     ]
    },
    {
     "name": "stderr",
     "output_type": "stream",
     "text": [
      "100%|██████████| 80275/80275 [31:28<00:00, 42.50it/s]"
     ]
    },
    {
     "name": "stdout",
     "output_type": "stream",
     "text": [
      "valid_50m_moitie_IPM_100 Loss: 1.6535 Acc: 0.6538\n",
      "\n",
      "Training complete in 903m 19s\n",
      "Best val Acc: 0.668466\n"
     ]
    },
    {
     "name": "stderr",
     "output_type": "stream",
     "text": [
      "\n"
     ]
    }
   ],
   "source": [
    "# Setup the loss function\n",
    "criterion = nn.CrossEntropyLoss()\n",
    "\n",
    "# Train and evaluate\n",
    "model_ft, hist = train_model(model_ft, dataloaders_dict, criterion, optimizer_ft, num_epochs=num_epochs) \n",
    "\n"
   ]
  },
  {
   "cell_type": "code",
   "execution_count": 73,
   "metadata": {},
   "outputs": [
    {
     "name": "stdout",
     "output_type": "stream",
     "text": [
      "Saving model to D:\\Poverty_Predict_Par_Milieu\\Data_rural\\models_50m_moitie_IPM_100\\trained_model_50m_moitie_IPM_100_vgg11bn.pt\n"
     ]
    }
   ],
   "source": [
    "# Sauvegarder le modèle\n",
    "model_path = os.path.join(CNN_SAVE_DIR ,f'trained_model_{X}m_{moitiequarts}_IPM_{Y}_vgg11bn.pt')\n",
    "assert not os.path.isfile(model_path), print('Un modèle est déjà sauvegardé à cette destination')\n",
    "print(f'Saving model to {model_path}')\n",
    "torch.save(model_ft, model_path)"
   ]
  },
  {
   "cell_type": "markdown",
   "metadata": {},
   "source": [
    "#### Evaluation du modèle"
   ]
  },
  {
   "cell_type": "code",
   "execution_count": 74,
   "metadata": {},
   "outputs": [],
   "source": [
    "import pandas as pd\n",
    "import numpy as np\n",
    "import os\n",
    "from tqdm import tqdm\n",
    "import torch\n",
    "import torch.nn as nn\n",
    "import torch.optim as optim\n",
    "import torchvision\n",
    "from torchvision import datasets, models, transforms\n",
    "import matplotlib.pyplot as plt\n",
    "import time\n",
    "import copy\n",
    "from sklearn.metrics import confusion_matrix, classification_report\n",
    "import seaborn as sns\n"
   ]
  },
  {
   "cell_type": "code",
   "execution_count": 75,
   "metadata": {},
   "outputs": [
    {
     "name": "stderr",
     "output_type": "stream",
     "text": [
      "100%|██████████| 16100/16100 [06:31<00:00, 41.11it/s]"
     ]
    },
    {
     "name": "stdout",
     "output_type": "stream",
     "text": [
      "tensor(0.9595, device='cuda:0', dtype=torch.float64)\n"
     ]
    },
    {
     "name": "stderr",
     "output_type": "stream",
     "text": [
      "\n"
     ]
    }
   ],
   "source": [
    "# Chargement du modèle\n",
    "model_ft = torch.load(model_path)\n",
    "\n",
    "# Évaluation sur le jeu d'entraînement\n",
    "model_ft.eval()   # Set model to evaluate mode\n",
    "running_loss = 0.0\n",
    "running_corrects = 0\n",
    "total = 0\n",
    "\n",
    "for inputs, labels in tqdm(dataloaders_dict[f'train_{X}m_{moitiequarts}_IPM_{Y}']):\n",
    "    inputs = inputs.to(device)\n",
    "    labels = labels.to(device)\n",
    "\n",
    "    with torch.set_grad_enabled(False):\n",
    "        outputs = model_ft(inputs)\n",
    "        loss = criterion(outputs, labels)\n",
    "\n",
    "        _, preds = torch.max(outputs, 1)\n",
    "\n",
    "    running_loss += loss.item() * inputs.size(0)\n",
    "    running_corrects += torch.sum(preds == labels.data)\n",
    "    total += len(preds)\n",
    "        \n",
    "print(running_corrects.double() / total)\n",
    "\n"
   ]
  },
  {
   "cell_type": "code",
   "execution_count": 76,
   "metadata": {},
   "outputs": [
    {
     "data": {
      "image/png": "[encoded data removed]",
      "text/plain": [
       "<Figure size 2500x2500 with 2 Axes>"
      ]
     },
     "metadata": {},
     "output_type": "display_data"
    }
   ],
   "source": [
    "# Sauvegarder les labels et les prédictions\n",
    "all_preds = []\n",
    "all_labels = []\n",
    "\n",
    "for inputs, labels in dataloaders_dict[f'train_{X}m_{moitiequarts}_IPM_{Y}']:\n",
    "    inputs = inputs.to(device)\n",
    "    labels = labels.to(device)\n",
    "\n",
    "    with torch.set_grad_enabled(False):\n",
    "        outputs = model_ft(inputs)\n",
    "        _, preds = torch.max(outputs, 1)\n",
    "\n",
    "    all_preds.extend(preds.cpu().numpy())\n",
    "    all_labels.extend(labels.cpu().numpy())\n",
    "\n",
    "all_preds_tensor = torch.tensor(all_preds)\n",
    "all_labels_tensor = torch.tensor(all_labels)\n",
    "\n",
    "# Matrice de confusion pour le jeu d'entraînement\n",
    "cm = confusion_matrix(all_labels, all_preds)\n",
    "plt.figure(figsize=(25, 25))\n",
    "sns.heatmap(cm, annot=True, fmt=\"d\", cmap=\"Blues\")\n",
    "plt.xlabel('Predicted Labels')\n",
    "plt.ylabel('True Labels')\n",
    "plt.title(f'Confusion Matrix for Training Set_{X}m_{moitiequarts}_IPM_{Y}_vgg11bn')\n",
    "plt.show()\n",
    "\n"
   ]
  },
  {
   "cell_type": "code",
   "execution_count": 77,
   "metadata": {},
   "outputs": [
    {
     "data": {
      "text/plain": [
       "array([[40252,    11,  1566,   113,   307,    51],\n",
       "       [   12,  1059,    21,     2,     5,     1],\n",
       "       [  962,     9, 54878,   128,   187,    36],\n",
       "       [  133,     7,   223,  6523,    72,    42],\n",
       "       [  608,     1,   589,    84, 17673,    45],\n",
       "       [   72,    16,    53,    23,    18,  3018]], dtype=int64)"
      ]
     },
     "execution_count": 77,
     "metadata": {},
     "output_type": "execute_result"
    }
   ],
   "source": [
    "# La confusion matrix\n",
    "cm"
   ]
  },
  {
   "cell_type": "markdown",
   "metadata": {},
   "source": [
    "Ce fragment de code génère un rapport de classification à partir des étiquettes réelles et des prédictions collectées lors de l'évaluation du modèle sur l'ensemble d'entraînement."
   ]
  },
  {
   "cell_type": "code",
   "execution_count": 78,
   "metadata": {},
   "outputs": [
    {
     "name": "stdout",
     "output_type": "stream",
     "text": [
      "              precision    recall  f1-score   support\n",
      "\n",
      "           0     0.9575    0.9516    0.9545     42300\n",
      "           1     0.9601    0.9627    0.9614      1100\n",
      "           2     0.9572    0.9765    0.9668     56200\n",
      "           3     0.9491    0.9319    0.9404      7000\n",
      "           4     0.9677    0.9302    0.9486     19000\n",
      "           5     0.9452    0.9431    0.9442      3200\n",
      "\n",
      "    accuracy                         0.9581    128800\n",
      "   macro avg     0.9561    0.9493    0.9526    128800\n",
      "weighted avg     0.9581    0.9581    0.9580    128800\n",
      "\n"
     ]
    }
   ],
   "source": [
    "# Rapport de classification\n",
    "from sklearn.metrics import classification_report\n",
    "# Convertit les listes en array de types numpy si elles ne sont pas convertit\n",
    "# Supposons que \"all_preds\" et \"all_labels\" sont des listes d'array numpy ou des tenseurs en PyTorch \n",
    "true_labels = np.array(all_labels)\n",
    "predicted_labels = np.array(all_preds)\n",
    "\n",
    "# Génère un rapport de  classification\n",
    "report = classification_report(true_labels, predicted_labels, digits=4)\n",
    "print(report)\n",
    "\n"
   ]
  },
  {
   "cell_type": "markdown",
   "metadata": {},
   "source": [
    "###### Calcul mécanique de ce qui précède"
   ]
  },
  {
   "cell_type": "code",
   "execution_count": 79,
   "metadata": {},
   "outputs": [
    {
     "name": "stdout",
     "output_type": "stream",
     "text": [
      "              precision    recall  f1-score   support\n",
      "\n",
      "           0       0.96      0.95      0.95     42300\n",
      "           1       0.96      0.96      0.96      1100\n",
      "           2       0.96      0.98      0.97     56200\n",
      "           3       0.95      0.93      0.94      7000\n",
      "           4       0.97      0.93      0.95     19000\n",
      "           5       0.95      0.94      0.94      3200\n",
      "\n",
      "    accuracy                           0.96    128800\n",
      "   macro avg       0.96      0.95      0.95    128800\n",
      "weighted avg       0.96      0.96      0.96    128800\n",
      "\n",
      "[0.95158392 0.96272727 0.97647687 0.93185714 0.93015789 0.943125  ]\n"
     ]
    }
   ],
   "source": [
    "#Conversion des listes en array de types Numpy(Si ce n'est pas le cas)\n",
    "import numpy as np\n",
    "\n",
    "all_preds_array = np.array(all_preds)\n",
    "all_labels_array = np.array(all_labels)\n",
    "\n",
    "# Use classification_report to Calculate Metrics\n",
    "from sklearn.metrics import classification_report\n",
    "\n",
    "# Calcul et imprime le rapport de classification\n",
    "print(classification_report(all_labels_array, all_preds_array))\n",
    "\n",
    "# Calcul de l'Accuracy par Classe Mécanique\n",
    "from sklearn.metrics import confusion_matrix\n",
    "\n",
    "# Calcul de l'Accuracy par classe\n",
    "cm = confusion_matrix(all_labels_array, all_preds_array)\n",
    "per_class_accuracy = cm.diagonal() / cm.sum(axis=1)\n",
    "print(per_class_accuracy)"
   ]
  },
  {
   "cell_type": "markdown",
   "metadata": {},
   "source": [
    "Cette portion de code étendue est conçue pour évaluer de manière plus détaillée la performance du modèle de réseau de neurones convolutif (CNN) sur l'ensemble de validation.  "
   ]
  },
  {
   "cell_type": "code",
   "execution_count": 80,
   "metadata": {},
   "outputs": [
    {
     "name": "stderr",
     "output_type": "stream",
     "text": [
      "100%|██████████| 80275/80275 [30:59<00:00, 43.17it/s]\n"
     ]
    },
    {
     "name": "stdout",
     "output_type": "stream",
     "text": [
      "Validation Loss: 1.4851\n",
      "Validation Accuracy: 0.6685\n"
     ]
    },
    {
     "data": {
      "image/png": "[encoded data removed]",
      "text/plain": [
       "<Figure size 2500x2500 with 2 Axes>"
      ]
     },
     "metadata": {},
     "output_type": "display_data"
    }
   ],
   "source": [
    "# Évaluation sur le jeu de validation\n",
    "# Importation de la bibliothèque nécessaire pour la barre de progression\n",
    "from tqdm import tqdm\n",
    "\n",
    "# Met le modèle en mode d'évaluation. Cela est crucial car cela désactive des comportements spécifiques à l'entraînement,\n",
    "# tels que les dropout layers et la normalisation par lots, qui ne devraient pas être utilisés lors de l'évaluation.\n",
    "model_ft.eval()\n",
    "\n",
    "# Initialisation des variables pour accumuler la perte totale et le nombre total de prédictions correctes\n",
    "running_loss = 0.0\n",
    "running_corrects = 0\n",
    "total = 0\n",
    "\n",
    "# Désactive le calcul du gradient, réduisant la consommation de mémoire et accélérant le processus\n",
    "# puisque les gradients ne sont pas nécessaires pour l'évaluation.\n",
    "with torch.no_grad():\n",
    "        #Itère sur les données de l'ensemble de validation. tqdm est utilisé pour afficher une barre de progression.\n",
    "    for inputs, labels in tqdm(dataloaders_dict[f'valid_{X}m_{moitiequarts}_IPM_{Y}']):\n",
    "        # Transfère les inputs et les labels sur le dispositif de calcul (GPU ou CPU).\n",
    "        inputs = inputs.to(device)\n",
    "        labels = labels.to(device)\n",
    "\n",
    "        # Calcule les sorties en passant les inputs à travers le modèle.\n",
    "        outputs = model_ft(inputs)\n",
    "        \n",
    "        # Calcule la perte entre les sorties prédites et les vrais labels.\n",
    "        loss = criterion(outputs, labels)\n",
    "        \n",
    "        # Trouve la classe prédite pour chaque input en prenant l'indice de la valeur maximale dans les prédictions logit.\n",
    "        _, preds = torch.max(outputs, 1)\n",
    "\n",
    "        # Accumule la perte totale en ajoutant la perte de ce lot.\n",
    "        running_loss += loss.item() * inputs.size(0)\n",
    "        \n",
    "        # Accumule le nombre total de prédictions correctes.\n",
    "        running_corrects += torch.sum(preds == labels.data)\n",
    "        \n",
    "        # Accumule le nombre total d'exemples vus.\n",
    "        total += inputs.size(0)\n",
    "# Calcule la perte moyenne sur l'ensemble de validation.\n",
    "val_loss = running_loss / total\n",
    "\n",
    "# Calcule la précision globale sur l'ensemble de validation.\n",
    "val_acc = running_corrects.double() / total\n",
    "\n",
    "# Affiche la perte moyenne et la précision sur l'ensemble de validation.\n",
    "print(f'Validation Loss: {val_loss:.4f}')\n",
    "print(f'Validation Accuracy: {val_acc:.4f}')\n",
    "\n",
    "# Matrice de confusion pour le jeu de validation\n",
    "val_preds = []\n",
    "val_labels = []\n",
    "\n",
    "for inputs, labels in dataloaders_dict[f'valid_{X}m_{moitiequarts}_IPM_{Y}']:\n",
    "    inputs = inputs.to(device)\n",
    "    labels = labels.to(device)\n",
    "\n",
    "    with torch.no_grad():\n",
    "        outputs = model_ft(inputs)\n",
    "        _, preds = torch.max(outputs, 1)\n",
    "    \n",
    "    val_preds.extend(preds.cpu().numpy())\n",
    "    val_labels.extend(labels.cpu().numpy())\n",
    "\n",
    "    \n",
    "# Calcul de la matrice de confusion en utilisant scikit-learn\n",
    "cm_val = confusion_matrix(val_labels, val_preds)\n",
    "# Utilisation de Seaborn pour afficher la matrice de confusion sous forme de heatmap\n",
    "plt.figure(figsize=(25, 25))\n",
    "sns.heatmap(cm_val, annot=True, fmt=\"d\", cmap=\"Blues\")\n",
    "plt.xlabel('Predicted Labels')\n",
    "plt.ylabel('True Labels')\n",
    "plt.title(f'Confusion Matrix for Validation Set_{X}m_{moitiequarts}_IPM_{Y}_vgg11bn')\n",
    "plt.show()\n",
    "\n"
   ]
  },
  {
   "cell_type": "code",
   "execution_count": 81,
   "metadata": {},
   "outputs": [
    {
     "name": "stdout",
     "output_type": "stream",
     "text": [
      "Classification Report for Validation Set_50m_moitie_IPM_100:\n",
      "               precision    recall  f1-score   support\n",
      "\n",
      "           0     0.6896    0.6046    0.6443    218800\n",
      "           1     0.7149    0.5020    0.5898      7900\n",
      "           2     0.7350    0.8253    0.7775    279000\n",
      "           3     0.4055    0.4224    0.4138     31500\n",
      "           4     0.4938    0.4696    0.4814     90400\n",
      "           5     0.5505    0.4805    0.5131     14600\n",
      "\n",
      "    accuracy                         0.6685    642200\n",
      "   macro avg     0.5982    0.5508    0.5700    642200\n",
      "weighted avg     0.6650    0.6685    0.6643    642200\n",
      "\n"
     ]
    }
   ],
   "source": [
    "# Rapport de classification pour le jeu de validation\n",
    "# Conversion des listes en tableaux numpy pour une utilisation avec scikit-learn\n",
    "\n",
    "val_true_labels_array = np.array(val_labels)\n",
    "val_predictions_array = np.array(val_preds)\n",
    "\n",
    "# Générez le rapport de classification pour l'ensemble de validation\n",
    "val_report = classification_report(val_true_labels_array, val_predictions_array, digits=4)\n",
    "print(f\"Classification Report for Validation Set_{X}m_{moitiequarts}_IPM_{Y}:\\n\", val_report)\n",
    "\n"
   ]
  },
  {
   "cell_type": "code",
   "execution_count": 82,
   "metadata": {},
   "outputs": [
    {
     "name": "stdout",
     "output_type": "stream",
     "text": [
      "Per-class Accuracy for the Validation Set_50m_moitie_IPM_100: [0.60463894 0.50202532 0.82529032 0.42244444 0.46956858 0.48054795]\n"
     ]
    }
   ],
   "source": [
    "# Précision (Accuracy) par classe pour le jeu de validation\n",
    "# Calculez la matrice de confusion pour l'ensemble de validation\n",
    "val_cm = confusion_matrix(val_true_labels_array, val_predictions_array)\n",
    "\n",
    "# Calculez la précision par classe manuellement à partir de la matrice de confusion\n",
    "val_per_class_accuracy = val_cm.diagonal() / val_cm.sum(axis=1)\n",
    "print(f\"Per-class Accuracy for the Validation Set_{X}m_{moitiequarts}_IPM_{Y}:\", val_per_class_accuracy)"
   ]
  },
  {
   "cell_type": "markdown",
   "metadata": {},
   "source": [
    "##### Sauvegarde des graphes"
   ]
  },
  {
   "cell_type": "code",
   "execution_count": 83,
   "metadata": {},
   "outputs": [],
   "source": [
    "import os\n",
    "import numpy as np\n",
    "import pandas as pd\n",
    "import torch\n",
    "from sklearn.metrics import confusion_matrix, classification_report\n",
    "import seaborn as sns\n",
    "import matplotlib.pyplot as plt\n",
    "\n",
    "# Configuration initiale\n",
    "\n",
    "BASE_DIR = r'D:\\Poverty_Predict_Par_Milieu'#Choisir une base directory\n",
    "\n",
    "GRAPH_DIR = os.path.join(BASE_DIR, f'Graph_etape_cnn_pred_nightlights_{X}m_{moitiequarts}_IPM_{Y}_vgg11bn')\n",
    "os.makedirs(GRAPH_DIR, exist_ok=True)\n",
    "\n",
    "# Fonction pour générer et sauvegarder l'histogramme de distribution\n",
    "def save_histogram(data, column, title, filename):\n",
    "    plt.hist(data[column], bins='auto', alpha=0.7, rwidth=0.85)\n",
    "    plt.xlabel('Nightlights Bin')\n",
    "    plt.ylabel('Frequency')\n",
    "    plt.title(title)\n",
    "    plt.grid(axis='y', alpha=0.75)\n",
    "    plt.savefig(os.path.join(GRAPH_DIR, filename))\n",
    "    plt.close()\n",
    "\n",
    "# Fonction pour générer et sauvegarder la heatmap de la matrice de confusion\n",
    "def save_confusion_matrix_heatmap(y_true, y_pred, title, filename):\n",
    "    cm = confusion_matrix(y_true, y_pred)\n",
    "    plt.figure(figsize=(25,25))\n",
    "    sns.heatmap(cm, annot=True, fmt=\"d\", cmap=\"Blues\")\n",
    "    plt.xlabel('Predicted Labels')\n",
    "    plt.ylabel('True Labels')\n",
    "    plt.title(title)\n",
    "    plt.savefig(os.path.join(GRAPH_DIR, filename))\n",
    "    plt.close()\n",
    "\n",
    "# Fonction pour générer et sauvegarder le rapport de classification\n",
    "def save_classification_report(y_true, y_pred, filename, digits=4):\n",
    "    report = classification_report(y_true, y_pred, digits=digits)\n",
    "    with open(os.path.join(GRAPH_DIR, filename), 'w') as f:\n",
    "        f.write(report)\n",
    "\n",
    "# Génération et sauvegarde des fichiers\n",
    "save_histogram(globals()[df_name], f'nightlights_{X}m_bins', f'Distribution of Nightlights Bin', f'distribution_nightlights_bin_{X}m_IPM_{Y}_vgg11bn.png')\n",
    "save_confusion_matrix_heatmap(all_labels, all_preds, f'Confusion Matrix for Training Set', f'confusion_matrix_train_{X}m_IPM_{Y}_vgg11bn.png')\n",
    "save_confusion_matrix_heatmap(val_labels, val_preds, f'Confusion Matrix for Validation Set', f'confusion_matrix_val_{X}m_IPM_{Y}_vgg11bn.png')\n",
    "save_classification_report(all_labels_array, all_preds_array, f'classification_report_train_{X}m_IPM_{Y}_vgg11bn.txt')\n",
    "save_classification_report(val_true_labels_array, val_predictions_array, f'classification_report_val_{X}m_IPM_{Y}_vgg11bn.txt')"
   ]
  }
 ],
 "metadata": {
  "kernelspec": {
   "display_name": "base",
   "language": "python",
   "name": "python3"
  },
  "language_info": {
   "codemirror_mode": {
    "name": "ipython",
    "version": 3
   },
   "file_extension": ".py",
   "mimetype": "text/x-python",
   "name": "python",
   "nbconvert_exporter": "python",
   "pygments_lexer": "ipython3",
   "version": "3.11.5"
  }
 },
 "nbformat": 4,
 "nbformat_minor": 2
}
